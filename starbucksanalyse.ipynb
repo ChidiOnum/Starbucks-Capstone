{
 "cells": [
  {
   "cell_type": "markdown",
   "id": "c7285729",
   "metadata": {},
   "source": [
    "<a id=\"toplevel\"></a>"
   ]
  },
  {
   "cell_type": "markdown",
   "id": "ce5eea8e",
   "metadata": {},
   "source": [
    "# Capstone Project: Starbucks\n",
    "\n",
    "1. [Background](#background)\n",
    "2. [Exploratory Data Analysis](#exploratory-data-analysis)\n",
    "3. [Data Pre-processing](#data-pre-processing)\n",
    "4. [Analysis: Rationale, Transaction Labelling, PCA (dimension rediction), K-means clustering](#analysis)\n",
    "5. [Interpretation](#interpretation)"
   ]
  },
  {
   "cell_type": "markdown",
   "id": "a8d20648",
   "metadata": {},
   "source": [
    "<a id=\"background\"></a>"
   ]
  },
  {
   "cell_type": "markdown",
   "id": "64aad6ee",
   "metadata": {},
   "source": [
    "# 1.0 Background"
   ]
  },
  {
   "cell_type": "markdown",
   "id": "13fda870",
   "metadata": {},
   "source": [
    "[back to top menu](#toplevel)"
   ]
  },
  {
   "cell_type": "markdown",
   "id": "d31cbec1",
   "metadata": {},
   "source": [
    "The Starbucks Capstone details a test which was conducted on a sample of customers. The data captures customers' responses to different offers and the accompanying analyses aims to use the information to determine the effectiveness of these offers across the different customer segments.\n",
    "\n",
    "My proposed solution leverages an understanding of customer purchase behaviour in framing an approach to segmenting customers within the sample and assessing the performance of each offer within the resulting customer segments. \n",
    "\n",
    "Specifically, the approach involves:\n",
    "\n",
    "1. Reviewing customer transactions to identify those influenced by specific offers and those that were not. The resulting insights will be used to define individual customer behaviour/preferences (unstimulated spend, BOGO spend, Discount spend)\n",
    "\n",
    "\n",
    "2. Segmenting the sample customer base using behaviour/preferences. Segments should contain customers of similiar purchase behaviour.\n",
    "\n",
    "\n",
    "3. Reviewing value/count of offer-influenced transactions vs \"uninfluenced\" transactions at customer and segment levels. value/count of offer-influenced transactions represent incremental change due to offers while magnitude of change is established by comparing against relevant \"uninfluenced\" transaction measures. "
   ]
  },
  {
   "cell_type": "markdown",
   "id": "11c2edd6",
   "metadata": {},
   "source": [
    "<a id=\"exploratory-data-analysis\"></a>"
   ]
  },
  {
   "cell_type": "markdown",
   "id": "450c52d0",
   "metadata": {},
   "source": [
    "[back to top menu](#toplevel)\n",
    "# 2.0 Exploratory Data Analysis\n",
    "\n",
    "Within this section, the relevant datasets will be imported and characteristics identified. The insights gained from this activity will guide the extent of data cleaning and transformation required. In addition, these insights will guide the choice of machine learning models most suitable for the project.Datasets to import and review include: Portfolio; Profile; Transcript"
   ]
  },
  {
   "cell_type": "markdown",
   "id": "b5c1d0fe",
   "metadata": {},
   "source": [
    "## 2.1 Data Import"
   ]
  },
  {
   "cell_type": "code",
   "execution_count": 468,
   "id": "4e0b82fe",
   "metadata": {},
   "outputs": [],
   "source": [
    "import pandas as pd\n",
    "import numpy as np\n",
    "import matplotlib.pyplot as plt\n",
    "import math\n",
    "import json\n",
    "import seaborn as sns\n",
    "sns.set()\n",
    "#%matplotlib inline\n",
    "\n",
    "# read in the json files\n",
    "portfolio = pd.read_json('portfolio.json', orient='records', lines=True)\n",
    "profile = pd.read_json('profile.json', orient='records', lines=True)\n",
    "transcript = pd.read_json('transcript.json', orient='records', lines=True)"
   ]
  },
  {
   "cell_type": "markdown",
   "id": "426305b2",
   "metadata": {},
   "source": [
    "## 2.2 Portfolio Data\n",
    "To Review: dataframe structure; data types; unique values; distribution"
   ]
  },
  {
   "cell_type": "code",
   "execution_count": 469,
   "id": "cb605c26",
   "metadata": {},
   "outputs": [
    {
     "data": {
      "text/html": [
       "<div>\n",
       "<style scoped>\n",
       "    .dataframe tbody tr th:only-of-type {\n",
       "        vertical-align: middle;\n",
       "    }\n",
       "\n",
       "    .dataframe tbody tr th {\n",
       "        vertical-align: top;\n",
       "    }\n",
       "\n",
       "    .dataframe thead th {\n",
       "        text-align: right;\n",
       "    }\n",
       "</style>\n",
       "<table border=\"1\" class=\"dataframe\">\n",
       "  <thead>\n",
       "    <tr style=\"text-align: right;\">\n",
       "      <th></th>\n",
       "      <th>reward</th>\n",
       "      <th>channels</th>\n",
       "      <th>difficulty</th>\n",
       "      <th>duration</th>\n",
       "      <th>offer_type</th>\n",
       "      <th>id</th>\n",
       "    </tr>\n",
       "  </thead>\n",
       "  <tbody>\n",
       "    <tr>\n",
       "      <th>0</th>\n",
       "      <td>10</td>\n",
       "      <td>[email, mobile, social]</td>\n",
       "      <td>10</td>\n",
       "      <td>7</td>\n",
       "      <td>bogo</td>\n",
       "      <td>ae264e3637204a6fb9bb56bc8210ddfd</td>\n",
       "    </tr>\n",
       "    <tr>\n",
       "      <th>1</th>\n",
       "      <td>10</td>\n",
       "      <td>[web, email, mobile, social]</td>\n",
       "      <td>10</td>\n",
       "      <td>5</td>\n",
       "      <td>bogo</td>\n",
       "      <td>4d5c57ea9a6940dd891ad53e9dbe8da0</td>\n",
       "    </tr>\n",
       "    <tr>\n",
       "      <th>2</th>\n",
       "      <td>0</td>\n",
       "      <td>[web, email, mobile]</td>\n",
       "      <td>0</td>\n",
       "      <td>4</td>\n",
       "      <td>informational</td>\n",
       "      <td>3f207df678b143eea3cee63160fa8bed</td>\n",
       "    </tr>\n",
       "  </tbody>\n",
       "</table>\n",
       "</div>"
      ],
      "text/plain": [
       "   reward                      channels  difficulty  duration     offer_type  \\\n",
       "0      10       [email, mobile, social]          10         7           bogo   \n",
       "1      10  [web, email, mobile, social]          10         5           bogo   \n",
       "2       0          [web, email, mobile]           0         4  informational   \n",
       "\n",
       "                                 id  \n",
       "0  ae264e3637204a6fb9bb56bc8210ddfd  \n",
       "1  4d5c57ea9a6940dd891ad53e9dbe8da0  \n",
       "2  3f207df678b143eea3cee63160fa8bed  "
      ]
     },
     "execution_count": 469,
     "metadata": {},
     "output_type": "execute_result"
    }
   ],
   "source": [
    "# View the dataframe and values\n",
    "portfolio.head(3)"
   ]
  },
  {
   "cell_type": "code",
   "execution_count": 470,
   "id": "8bd8debe",
   "metadata": {},
   "outputs": [
    {
     "data": {
      "text/plain": [
       "(10, 6)"
      ]
     },
     "execution_count": 470,
     "metadata": {},
     "output_type": "execute_result"
    }
   ],
   "source": [
    "# Review the dimension of the dataframe\n",
    "portfolio.shape"
   ]
  },
  {
   "cell_type": "code",
   "execution_count": 471,
   "id": "5061c74b",
   "metadata": {},
   "outputs": [
    {
     "name": "stdout",
     "output_type": "stream",
     "text": [
      "<class 'pandas.core.frame.DataFrame'>\n",
      "RangeIndex: 10 entries, 0 to 9\n",
      "Data columns (total 6 columns):\n",
      " #   Column      Non-Null Count  Dtype \n",
      "---  ------      --------------  ----- \n",
      " 0   reward      10 non-null     int64 \n",
      " 1   channels    10 non-null     object\n",
      " 2   difficulty  10 non-null     int64 \n",
      " 3   duration    10 non-null     int64 \n",
      " 4   offer_type  10 non-null     object\n",
      " 5   id          10 non-null     object\n",
      "dtypes: int64(3), object(3)\n",
      "memory usage: 608.0+ bytes\n"
     ]
    }
   ],
   "source": [
    "# View data structure and types\n",
    "portfolio.info()"
   ]
  },
  {
   "cell_type": "code",
   "execution_count": 472,
   "id": "9049d454",
   "metadata": {},
   "outputs": [
    {
     "data": {
      "text/plain": [
       "['bogo', 'informational', 'discount']"
      ]
     },
     "execution_count": 472,
     "metadata": {},
     "output_type": "execute_result"
    }
   ],
   "source": [
    "# View Offer Types\n",
    "portfolio['offer_type'].unique().tolist()"
   ]
  },
  {
   "cell_type": "code",
   "execution_count": 473,
   "id": "6774fe91",
   "metadata": {},
   "outputs": [
    {
     "data": {
      "image/png": "[encoded data removed]",
      "text/plain": [
       "<Figure size 360x360 with 4 Axes>"
      ]
     },
     "metadata": {},
     "output_type": "display_data"
    }
   ],
   "source": [
    "# Distribution of values within numeric fields\n",
    "portfolio.hist(alpha=0.5, figsize=(5, 5));"
   ]
  },
  {
   "cell_type": "markdown",
   "id": "b9c9d4fb",
   "metadata": {},
   "source": [
    "#### Portfolio EDA: Observation(s)\n",
    "\n",
    "1. The Portfolio data contains 10 unique records and 6 columns. \n",
    "2. There are no null values and data types include: int64 and objects.\n",
    "3. There are 3 types of offers - bogo, Informational and discount.\n",
    "4. Mode for reward, difficulty and duration values: 5, 10, 7.\n",
    "\n",
    "#### Portfolio EDA: Action Point(s)\n",
    "\n",
    "1. Create a new id column with more recognizable and easier to process values for offer id.\n",
    "2. Duration (days) needs to be converted to hours which is the unit of measure for time in transcript dataset."
   ]
  },
  {
   "cell_type": "markdown",
   "id": "a7443dc3",
   "metadata": {},
   "source": [
    "## 2.3 Profile Dataset\n",
    "To Review: dataframe structure; data types; unique values; distribution"
   ]
  },
  {
   "cell_type": "code",
   "execution_count": 474,
   "id": "eeca9747",
   "metadata": {},
   "outputs": [
    {
     "data": {
      "text/html": [
       "<div>\n",
       "<style scoped>\n",
       "    .dataframe tbody tr th:only-of-type {\n",
       "        vertical-align: middle;\n",
       "    }\n",
       "\n",
       "    .dataframe tbody tr th {\n",
       "        vertical-align: top;\n",
       "    }\n",
       "\n",
       "    .dataframe thead th {\n",
       "        text-align: right;\n",
       "    }\n",
       "</style>\n",
       "<table border=\"1\" class=\"dataframe\">\n",
       "  <thead>\n",
       "    <tr style=\"text-align: right;\">\n",
       "      <th></th>\n",
       "      <th>gender</th>\n",
       "      <th>age</th>\n",
       "      <th>id</th>\n",
       "      <th>became_member_on</th>\n",
       "      <th>income</th>\n",
       "    </tr>\n",
       "  </thead>\n",
       "  <tbody>\n",
       "    <tr>\n",
       "      <th>0</th>\n",
       "      <td>None</td>\n",
       "      <td>118</td>\n",
       "      <td>68be06ca386d4c31939f3a4f0e3dd783</td>\n",
       "      <td>20170212</td>\n",
       "      <td>NaN</td>\n",
       "    </tr>\n",
       "    <tr>\n",
       "      <th>1</th>\n",
       "      <td>F</td>\n",
       "      <td>55</td>\n",
       "      <td>0610b486422d4921ae7d2bf64640c50b</td>\n",
       "      <td>20170715</td>\n",
       "      <td>112000.0</td>\n",
       "    </tr>\n",
       "    <tr>\n",
       "      <th>2</th>\n",
       "      <td>None</td>\n",
       "      <td>118</td>\n",
       "      <td>38fe809add3b4fcf9315a9694bb96ff5</td>\n",
       "      <td>20180712</td>\n",
       "      <td>NaN</td>\n",
       "    </tr>\n",
       "  </tbody>\n",
       "</table>\n",
       "</div>"
      ],
      "text/plain": [
       "  gender  age                                id  became_member_on    income\n",
       "0   None  118  68be06ca386d4c31939f3a4f0e3dd783          20170212       NaN\n",
       "1      F   55  0610b486422d4921ae7d2bf64640c50b          20170715  112000.0\n",
       "2   None  118  38fe809add3b4fcf9315a9694bb96ff5          20180712       NaN"
      ]
     },
     "execution_count": 474,
     "metadata": {},
     "output_type": "execute_result"
    }
   ],
   "source": [
    "# View the dataframe and values\n",
    "profile.head(3)"
   ]
  },
  {
   "cell_type": "code",
   "execution_count": 475,
   "id": "01ae8e7e",
   "metadata": {},
   "outputs": [
    {
     "data": {
      "text/plain": [
       "(17000, 5)"
      ]
     },
     "execution_count": 475,
     "metadata": {},
     "output_type": "execute_result"
    }
   ],
   "source": [
    "# Review the dimension of the dataframe\n",
    "profile.shape"
   ]
  },
  {
   "cell_type": "code",
   "execution_count": 476,
   "id": "f8071e21",
   "metadata": {},
   "outputs": [
    {
     "name": "stdout",
     "output_type": "stream",
     "text": [
      "<class 'pandas.core.frame.DataFrame'>\n",
      "RangeIndex: 17000 entries, 0 to 16999\n",
      "Data columns (total 5 columns):\n",
      " #   Column            Non-Null Count  Dtype  \n",
      "---  ------            --------------  -----  \n",
      " 0   gender            14825 non-null  object \n",
      " 1   age               17000 non-null  int64  \n",
      " 2   id                17000 non-null  object \n",
      " 3   became_member_on  17000 non-null  int64  \n",
      " 4   income            14825 non-null  float64\n",
      "dtypes: float64(1), int64(2), object(2)\n",
      "memory usage: 664.2+ KB\n"
     ]
    }
   ],
   "source": [
    "# View data structure and types\n",
    "profile.info()"
   ]
  },
  {
   "cell_type": "code",
   "execution_count": 477,
   "id": "f8ff2f41",
   "metadata": {},
   "outputs": [
    {
     "name": "stdout",
     "output_type": "stream",
     "text": [
      "Null Check: Count\n",
      "-----------------\n",
      "gender              2175\n",
      "age                    0\n",
      "id                     0\n",
      "became_member_on       0\n",
      "income              2175\n",
      "dtype: int64\n",
      "\n",
      "Null Check: % occurrance\n",
      "------------------------\n",
      "gender              0.127941\n",
      "age                 0.000000\n",
      "id                  0.000000\n",
      "became_member_on    0.000000\n",
      "income              0.127941\n",
      "dtype: float64\n"
     ]
    }
   ],
   "source": [
    "# Null check: Count and % proportion\n",
    "print('Null Check: Count')\n",
    "print('-----------------')\n",
    "print(profile.isnull().sum())\n",
    "print('')\n",
    "print('Null Check: % occurrance')\n",
    "print('------------------------')\n",
    "print(profile.isnull().mean())"
   ]
  },
  {
   "cell_type": "code",
   "execution_count": 478,
   "id": "df7c1518",
   "metadata": {},
   "outputs": [
    {
     "data": {
      "image/png": "[encoded data removed]",
      "text/plain": [
       "<Figure size 576x216 with 2 Axes>"
      ]
     },
     "metadata": {},
     "output_type": "display_data"
    }
   ],
   "source": [
    "# Distribution of values within numeric fields\n",
    "profile[['age','income']].hist(alpha=0.5, figsize=(8, 3));"
   ]
  },
  {
   "cell_type": "code",
   "execution_count": 479,
   "id": "df86e2cb",
   "metadata": {},
   "outputs": [
    {
     "data": {
      "text/plain": [
       "array([None, 'F', 'M', 'O'], dtype=object)"
      ]
     },
     "execution_count": 479,
     "metadata": {},
     "output_type": "execute_result"
    }
   ],
   "source": [
    "# Understand categories within gender\n",
    "profile['gender'].unique()"
   ]
  },
  {
   "cell_type": "code",
   "execution_count": 480,
   "id": "29368fd0",
   "metadata": {},
   "outputs": [
    {
     "data": {
      "image/png": "[encoded data removed]",
      "text/plain": [
       "<Figure size 360x216 with 1 Axes>"
      ]
     },
     "metadata": {},
     "output_type": "display_data"
    }
   ],
   "source": [
    "# Understand distribution of gender\n",
    "profile['gender'].hist(alpha=0.5, figsize=(5, 3));"
   ]
  },
  {
   "cell_type": "markdown",
   "id": "eb072217",
   "metadata": {},
   "source": [
    "#### Profile EDA: Observation(s)\n",
    "\n",
    "1. The Portfolio data contains 17,000 unique records and 5 columns. \n",
    "2. There are 2,175 null values in gender and income columns. The proportion of null values is 12.5% of dataset\n",
    "3. Data types include: int64, object and null\n",
    "4. Age column has an outlier value: 118.\n",
    "5. Income distribution is right skewed\n",
    "6. \"became_member_on\" column should be date and not integer \n",
    "\n",
    "#### Profile EDA: Action Point(s)\n",
    "1. Create a short version of id (user_id).\n",
    "2. Address null records: Keep (Impute) or Remove (Delete)\n",
    "3. Attempt a correction for error in age (118). Most likely a data entry error for 18.\n",
    "4. Convert \"became_member_on\" to datetype"
   ]
  },
  {
   "cell_type": "markdown",
   "id": "01a2fee4",
   "metadata": {},
   "source": [
    "## 2.4 Transcript Dataset\n",
    "To Review: table structure; data types; unique values; distribution"
   ]
  },
  {
   "cell_type": "code",
   "execution_count": 481,
   "id": "8b5a76d8",
   "metadata": {},
   "outputs": [
    {
     "data": {
      "text/html": [
       "<div>\n",
       "<style scoped>\n",
       "    .dataframe tbody tr th:only-of-type {\n",
       "        vertical-align: middle;\n",
       "    }\n",
       "\n",
       "    .dataframe tbody tr th {\n",
       "        vertical-align: top;\n",
       "    }\n",
       "\n",
       "    .dataframe thead th {\n",
       "        text-align: right;\n",
       "    }\n",
       "</style>\n",
       "<table border=\"1\" class=\"dataframe\">\n",
       "  <thead>\n",
       "    <tr style=\"text-align: right;\">\n",
       "      <th></th>\n",
       "      <th>person</th>\n",
       "      <th>event</th>\n",
       "      <th>value</th>\n",
       "      <th>time</th>\n",
       "    </tr>\n",
       "  </thead>\n",
       "  <tbody>\n",
       "    <tr>\n",
       "      <th>0</th>\n",
       "      <td>78afa995795e4d85b5d9ceeca43f5fef</td>\n",
       "      <td>offer received</td>\n",
       "      <td>{'offer id': '9b98b8c7a33c4b65b9aebfe6a799e6d9'}</td>\n",
       "      <td>0</td>\n",
       "    </tr>\n",
       "    <tr>\n",
       "      <th>1</th>\n",
       "      <td>a03223e636434f42ac4c3df47e8bac43</td>\n",
       "      <td>offer received</td>\n",
       "      <td>{'offer id': '0b1e1539f2cc45b7b9fa7c272da2e1d7'}</td>\n",
       "      <td>0</td>\n",
       "    </tr>\n",
       "    <tr>\n",
       "      <th>2</th>\n",
       "      <td>e2127556f4f64592b11af22de27a7932</td>\n",
       "      <td>offer received</td>\n",
       "      <td>{'offer id': '2906b810c7d4411798c6938adc9daaa5'}</td>\n",
       "      <td>0</td>\n",
       "    </tr>\n",
       "  </tbody>\n",
       "</table>\n",
       "</div>"
      ],
      "text/plain": [
       "                             person           event  \\\n",
       "0  78afa995795e4d85b5d9ceeca43f5fef  offer received   \n",
       "1  a03223e636434f42ac4c3df47e8bac43  offer received   \n",
       "2  e2127556f4f64592b11af22de27a7932  offer received   \n",
       "\n",
       "                                              value  time  \n",
       "0  {'offer id': '9b98b8c7a33c4b65b9aebfe6a799e6d9'}     0  \n",
       "1  {'offer id': '0b1e1539f2cc45b7b9fa7c272da2e1d7'}     0  \n",
       "2  {'offer id': '2906b810c7d4411798c6938adc9daaa5'}     0  "
      ]
     },
     "execution_count": 481,
     "metadata": {},
     "output_type": "execute_result"
    }
   ],
   "source": [
    "# View the table structure and values\n",
    "transcript.head(3)"
   ]
  },
  {
   "cell_type": "code",
   "execution_count": 482,
   "id": "95ef6aee",
   "metadata": {},
   "outputs": [
    {
     "data": {
      "text/plain": [
       "(306534, 4)"
      ]
     },
     "execution_count": 482,
     "metadata": {},
     "output_type": "execute_result"
    }
   ],
   "source": [
    "# Review the dimension of the dataframe\n",
    "transcript.shape"
   ]
  },
  {
   "cell_type": "code",
   "execution_count": 483,
   "id": "b1770792",
   "metadata": {},
   "outputs": [
    {
     "name": "stdout",
     "output_type": "stream",
     "text": [
      "<class 'pandas.core.frame.DataFrame'>\n",
      "RangeIndex: 306534 entries, 0 to 306533\n",
      "Data columns (total 4 columns):\n",
      " #   Column  Non-Null Count   Dtype \n",
      "---  ------  --------------   ----- \n",
      " 0   person  306534 non-null  object\n",
      " 1   event   306534 non-null  object\n",
      " 2   value   306534 non-null  object\n",
      " 3   time    306534 non-null  int64 \n",
      "dtypes: int64(1), object(3)\n",
      "memory usage: 9.4+ MB\n"
     ]
    }
   ],
   "source": [
    "# View data structure and types\n",
    "transcript.info()"
   ]
  },
  {
   "cell_type": "code",
   "execution_count": 484,
   "id": "8a03b091",
   "metadata": {},
   "outputs": [
    {
     "data": {
      "text/plain": [
       "transaction        138953\n",
       "offer received      76277\n",
       "offer viewed        57725\n",
       "offer completed     33579\n",
       "Name: event, dtype: int64"
      ]
     },
     "execution_count": 484,
     "metadata": {},
     "output_type": "execute_result"
    }
   ],
   "source": [
    "# Understand categories within event\n",
    "transcript['event'].value_counts()"
   ]
  },
  {
   "cell_type": "code",
   "execution_count": 485,
   "id": "5eca1b8a",
   "metadata": {},
   "outputs": [
    {
     "data": {
      "text/plain": [
       "306529    {'amount': 1.5899999999999999}\n",
       "306530                  {'amount': 9.53}\n",
       "306531                  {'amount': 3.61}\n",
       "306532    {'amount': 3.5300000000000002}\n",
       "306533                  {'amount': 4.05}\n",
       "Name: value, dtype: object"
      ]
     },
     "execution_count": 485,
     "metadata": {},
     "output_type": "execute_result"
    }
   ],
   "source": [
    "# Highlight data structure within events column\n",
    "transcript['value'].tail()"
   ]
  },
  {
   "cell_type": "code",
   "execution_count": 486,
   "id": "1ba46989",
   "metadata": {},
   "outputs": [
    {
     "data": {
      "text/plain": [
       "0    {'offer id': '9b98b8c7a33c4b65b9aebfe6a799e6d9'}\n",
       "1    {'offer id': '0b1e1539f2cc45b7b9fa7c272da2e1d7'}\n",
       "2    {'offer id': '2906b810c7d4411798c6938adc9daaa5'}\n",
       "3    {'offer id': 'fafdcd668e3743c1bb461111dcafc2a4'}\n",
       "4    {'offer id': '4d5c57ea9a6940dd891ad53e9dbe8da0'}\n",
       "Name: value, dtype: object"
      ]
     },
     "execution_count": 486,
     "metadata": {},
     "output_type": "execute_result"
    }
   ],
   "source": [
    "# Highlight data structure within events column\n",
    "transcript['value'].head()"
   ]
  },
  {
   "cell_type": "code",
   "execution_count": 487,
   "id": "ed7b6aee",
   "metadata": {},
   "outputs": [
    {
     "data": {
      "text/plain": [
       "17000"
      ]
     },
     "execution_count": 487,
     "metadata": {},
     "output_type": "execute_result"
    }
   ],
   "source": [
    "# Uniqueness check of person column\n",
    "transcript['person'].nunique()"
   ]
  },
  {
   "cell_type": "markdown",
   "id": "e398ff51",
   "metadata": {},
   "source": [
    "#### Transcript EDA: Observation(s)\n",
    "1. The Transcript data contains 306534 unique records and 4 columns. \n",
    "2. There are no null values in any columns.\n",
    "3. Data types include: int64, object (incl. dictionary in value column)\n",
    "\n",
    "#### Transcript EDA: Action Point(s)\n",
    "1. Rename person column to user_id and map to profile user id (short version).\n",
    "2. Unpack value column to extract key and values"
   ]
  },
  {
   "cell_type": "markdown",
   "id": "00897555",
   "metadata": {},
   "source": [
    "<a id=\"data-pre-processing\"></a>"
   ]
  },
  {
   "cell_type": "markdown",
   "id": "981a4c6e",
   "metadata": {},
   "source": [
    "[back to top menu](#toplevel)\n",
    "\n",
    "# 3.0 Data Pre-processing\n",
    "Within this section, data transformation requirements identified as action points within the Exploratory Data Analysis (EDA) section would be completed. Further data tranformation activities will be performed on relevant data in preparation for various analysis and machine learning models"
   ]
  },
  {
   "cell_type": "markdown",
   "id": "3f7d8a12",
   "metadata": {},
   "source": [
    "## 3.1 Portfolio\n",
    "- Create a new id column with more recognizable and easier to process values for offer id.\n",
    "- Duration (days) needs to be converted to hours which is the unit of measure for time in transcript dataset.\n",
    "- Create mapping files: short version id vs id; short id vs duration in hours"
   ]
  },
  {
   "cell_type": "markdown",
   "id": "d4be1026",
   "metadata": {},
   "source": [
    "Create a new id column with more recognizable and easier to process values for offer id"
   ]
  },
  {
   "cell_type": "code",
   "execution_count": 488,
   "id": "753bade2",
   "metadata": {},
   "outputs": [],
   "source": [
    "# define rules\n",
    "rule01 = lambda x:x[:4]\n",
    "rule02 = lambda x:'0'+ str(x) if x<10 else str(x)\n",
    "rule03 = lambda x:'0'+ str(x) if x<10 else str(x)\n",
    "\n",
    "# apply to relevant columns within dataframe\n",
    "portfolio['short_id'] = portfolio['offer_type'].apply(rule01) + portfolio['duration'].apply(rule02) + portfolio['difficulty'].apply(rule03)"
   ]
  },
  {
   "cell_type": "code",
   "execution_count": 489,
   "id": "f1b4e887",
   "metadata": {},
   "outputs": [
    {
     "data": {
      "text/html": [
       "<div>\n",
       "<style scoped>\n",
       "    .dataframe tbody tr th:only-of-type {\n",
       "        vertical-align: middle;\n",
       "    }\n",
       "\n",
       "    .dataframe tbody tr th {\n",
       "        vertical-align: top;\n",
       "    }\n",
       "\n",
       "    .dataframe thead th {\n",
       "        text-align: right;\n",
       "    }\n",
       "</style>\n",
       "<table border=\"1\" class=\"dataframe\">\n",
       "  <thead>\n",
       "    <tr style=\"text-align: right;\">\n",
       "      <th></th>\n",
       "      <th>reward</th>\n",
       "      <th>channels</th>\n",
       "      <th>difficulty</th>\n",
       "      <th>duration</th>\n",
       "      <th>offer_type</th>\n",
       "      <th>id</th>\n",
       "      <th>short_id</th>\n",
       "    </tr>\n",
       "  </thead>\n",
       "  <tbody>\n",
       "    <tr>\n",
       "      <th>0</th>\n",
       "      <td>10</td>\n",
       "      <td>[email, mobile, social]</td>\n",
       "      <td>10</td>\n",
       "      <td>7</td>\n",
       "      <td>bogo</td>\n",
       "      <td>ae264e3637204a6fb9bb56bc8210ddfd</td>\n",
       "      <td>bogo0710</td>\n",
       "    </tr>\n",
       "    <tr>\n",
       "      <th>1</th>\n",
       "      <td>10</td>\n",
       "      <td>[web, email, mobile, social]</td>\n",
       "      <td>10</td>\n",
       "      <td>5</td>\n",
       "      <td>bogo</td>\n",
       "      <td>4d5c57ea9a6940dd891ad53e9dbe8da0</td>\n",
       "      <td>bogo0510</td>\n",
       "    </tr>\n",
       "    <tr>\n",
       "      <th>2</th>\n",
       "      <td>0</td>\n",
       "      <td>[web, email, mobile]</td>\n",
       "      <td>0</td>\n",
       "      <td>4</td>\n",
       "      <td>informational</td>\n",
       "      <td>3f207df678b143eea3cee63160fa8bed</td>\n",
       "      <td>info0400</td>\n",
       "    </tr>\n",
       "  </tbody>\n",
       "</table>\n",
       "</div>"
      ],
      "text/plain": [
       "   reward                      channels  difficulty  duration     offer_type  \\\n",
       "0      10       [email, mobile, social]          10         7           bogo   \n",
       "1      10  [web, email, mobile, social]          10         5           bogo   \n",
       "2       0          [web, email, mobile]           0         4  informational   \n",
       "\n",
       "                                 id  short_id  \n",
       "0  ae264e3637204a6fb9bb56bc8210ddfd  bogo0710  \n",
       "1  4d5c57ea9a6940dd891ad53e9dbe8da0  bogo0510  \n",
       "2  3f207df678b143eea3cee63160fa8bed  info0400  "
      ]
     },
     "execution_count": 489,
     "metadata": {},
     "output_type": "execute_result"
    }
   ],
   "source": [
    "# view impact on dataframe\n",
    "portfolio.head(3)"
   ]
  },
  {
   "cell_type": "markdown",
   "id": "f4c3a6ac",
   "metadata": {},
   "source": [
    "Create a column for duration in hours"
   ]
  },
  {
   "cell_type": "code",
   "execution_count": 490,
   "id": "244ffaed",
   "metadata": {},
   "outputs": [],
   "source": [
    "# set conversion of day to hours (24hrs = 1 day)\n",
    "day_hrs = 24.0\n",
    "\n",
    "# apply to relevant columns within dataframe\n",
    "portfolio['duration_hrs'] = portfolio['duration'] * day_hrs"
   ]
  },
  {
   "cell_type": "code",
   "execution_count": 491,
   "id": "0db389b2",
   "metadata": {},
   "outputs": [
    {
     "data": {
      "text/html": [
       "<div>\n",
       "<style scoped>\n",
       "    .dataframe tbody tr th:only-of-type {\n",
       "        vertical-align: middle;\n",
       "    }\n",
       "\n",
       "    .dataframe tbody tr th {\n",
       "        vertical-align: top;\n",
       "    }\n",
       "\n",
       "    .dataframe thead th {\n",
       "        text-align: right;\n",
       "    }\n",
       "</style>\n",
       "<table border=\"1\" class=\"dataframe\">\n",
       "  <thead>\n",
       "    <tr style=\"text-align: right;\">\n",
       "      <th></th>\n",
       "      <th>reward</th>\n",
       "      <th>channels</th>\n",
       "      <th>difficulty</th>\n",
       "      <th>duration</th>\n",
       "      <th>offer_type</th>\n",
       "      <th>id</th>\n",
       "      <th>short_id</th>\n",
       "      <th>duration_hrs</th>\n",
       "    </tr>\n",
       "  </thead>\n",
       "  <tbody>\n",
       "    <tr>\n",
       "      <th>0</th>\n",
       "      <td>10</td>\n",
       "      <td>[email, mobile, social]</td>\n",
       "      <td>10</td>\n",
       "      <td>7</td>\n",
       "      <td>bogo</td>\n",
       "      <td>ae264e3637204a6fb9bb56bc8210ddfd</td>\n",
       "      <td>bogo0710</td>\n",
       "      <td>168.0</td>\n",
       "    </tr>\n",
       "    <tr>\n",
       "      <th>1</th>\n",
       "      <td>10</td>\n",
       "      <td>[web, email, mobile, social]</td>\n",
       "      <td>10</td>\n",
       "      <td>5</td>\n",
       "      <td>bogo</td>\n",
       "      <td>4d5c57ea9a6940dd891ad53e9dbe8da0</td>\n",
       "      <td>bogo0510</td>\n",
       "      <td>120.0</td>\n",
       "    </tr>\n",
       "    <tr>\n",
       "      <th>2</th>\n",
       "      <td>0</td>\n",
       "      <td>[web, email, mobile]</td>\n",
       "      <td>0</td>\n",
       "      <td>4</td>\n",
       "      <td>informational</td>\n",
       "      <td>3f207df678b143eea3cee63160fa8bed</td>\n",
       "      <td>info0400</td>\n",
       "      <td>96.0</td>\n",
       "    </tr>\n",
       "    <tr>\n",
       "      <th>3</th>\n",
       "      <td>5</td>\n",
       "      <td>[web, email, mobile]</td>\n",
       "      <td>5</td>\n",
       "      <td>7</td>\n",
       "      <td>bogo</td>\n",
       "      <td>9b98b8c7a33c4b65b9aebfe6a799e6d9</td>\n",
       "      <td>bogo0705</td>\n",
       "      <td>168.0</td>\n",
       "    </tr>\n",
       "    <tr>\n",
       "      <th>4</th>\n",
       "      <td>5</td>\n",
       "      <td>[web, email]</td>\n",
       "      <td>20</td>\n",
       "      <td>10</td>\n",
       "      <td>discount</td>\n",
       "      <td>0b1e1539f2cc45b7b9fa7c272da2e1d7</td>\n",
       "      <td>disc1020</td>\n",
       "      <td>240.0</td>\n",
       "    </tr>\n",
       "    <tr>\n",
       "      <th>5</th>\n",
       "      <td>3</td>\n",
       "      <td>[web, email, mobile, social]</td>\n",
       "      <td>7</td>\n",
       "      <td>7</td>\n",
       "      <td>discount</td>\n",
       "      <td>2298d6c36e964ae4a3e7e9706d1fb8c2</td>\n",
       "      <td>disc0707</td>\n",
       "      <td>168.0</td>\n",
       "    </tr>\n",
       "    <tr>\n",
       "      <th>6</th>\n",
       "      <td>2</td>\n",
       "      <td>[web, email, mobile, social]</td>\n",
       "      <td>10</td>\n",
       "      <td>10</td>\n",
       "      <td>discount</td>\n",
       "      <td>fafdcd668e3743c1bb461111dcafc2a4</td>\n",
       "      <td>disc1010</td>\n",
       "      <td>240.0</td>\n",
       "    </tr>\n",
       "    <tr>\n",
       "      <th>7</th>\n",
       "      <td>0</td>\n",
       "      <td>[email, mobile, social]</td>\n",
       "      <td>0</td>\n",
       "      <td>3</td>\n",
       "      <td>informational</td>\n",
       "      <td>5a8bc65990b245e5a138643cd4eb9837</td>\n",
       "      <td>info0300</td>\n",
       "      <td>72.0</td>\n",
       "    </tr>\n",
       "    <tr>\n",
       "      <th>8</th>\n",
       "      <td>5</td>\n",
       "      <td>[web, email, mobile, social]</td>\n",
       "      <td>5</td>\n",
       "      <td>5</td>\n",
       "      <td>bogo</td>\n",
       "      <td>f19421c1d4aa40978ebb69ca19b0e20d</td>\n",
       "      <td>bogo0505</td>\n",
       "      <td>120.0</td>\n",
       "    </tr>\n",
       "    <tr>\n",
       "      <th>9</th>\n",
       "      <td>2</td>\n",
       "      <td>[web, email, mobile]</td>\n",
       "      <td>10</td>\n",
       "      <td>7</td>\n",
       "      <td>discount</td>\n",
       "      <td>2906b810c7d4411798c6938adc9daaa5</td>\n",
       "      <td>disc0710</td>\n",
       "      <td>168.0</td>\n",
       "    </tr>\n",
       "  </tbody>\n",
       "</table>\n",
       "</div>"
      ],
      "text/plain": [
       "   reward                      channels  difficulty  duration     offer_type  \\\n",
       "0      10       [email, mobile, social]          10         7           bogo   \n",
       "1      10  [web, email, mobile, social]          10         5           bogo   \n",
       "2       0          [web, email, mobile]           0         4  informational   \n",
       "3       5          [web, email, mobile]           5         7           bogo   \n",
       "4       5                  [web, email]          20        10       discount   \n",
       "5       3  [web, email, mobile, social]           7         7       discount   \n",
       "6       2  [web, email, mobile, social]          10        10       discount   \n",
       "7       0       [email, mobile, social]           0         3  informational   \n",
       "8       5  [web, email, mobile, social]           5         5           bogo   \n",
       "9       2          [web, email, mobile]          10         7       discount   \n",
       "\n",
       "                                 id  short_id  duration_hrs  \n",
       "0  ae264e3637204a6fb9bb56bc8210ddfd  bogo0710         168.0  \n",
       "1  4d5c57ea9a6940dd891ad53e9dbe8da0  bogo0510         120.0  \n",
       "2  3f207df678b143eea3cee63160fa8bed  info0400          96.0  \n",
       "3  9b98b8c7a33c4b65b9aebfe6a799e6d9  bogo0705         168.0  \n",
       "4  0b1e1539f2cc45b7b9fa7c272da2e1d7  disc1020         240.0  \n",
       "5  2298d6c36e964ae4a3e7e9706d1fb8c2  disc0707         168.0  \n",
       "6  fafdcd668e3743c1bb461111dcafc2a4  disc1010         240.0  \n",
       "7  5a8bc65990b245e5a138643cd4eb9837  info0300          72.0  \n",
       "8  f19421c1d4aa40978ebb69ca19b0e20d  bogo0505         120.0  \n",
       "9  2906b810c7d4411798c6938adc9daaa5  disc0710         168.0  "
      ]
     },
     "execution_count": 491,
     "metadata": {},
     "output_type": "execute_result"
    }
   ],
   "source": [
    "# view impact on dataframe\n",
    "portfolio"
   ]
  },
  {
   "cell_type": "markdown",
   "id": "19aceaec",
   "metadata": {},
   "source": [
    "Create Mapping Files: short version id vs id; short id vs duration in hours"
   ]
  },
  {
   "cell_type": "code",
   "execution_count": 492,
   "id": "bb968741",
   "metadata": {},
   "outputs": [],
   "source": [
    "# Map long offer id to new short id\n",
    "map_id_shortid = dict(portfolio[['id','short_id']].values.tolist()) # map required to simplify data analysis\n",
    "\n",
    "# Map new short id to duration (in hours)\n",
    "map_shortid_hrs = dict(portfolio[['short_id','duration_hrs']].values.tolist()) # map is required for transcript data"
   ]
  },
  {
   "cell_type": "markdown",
   "id": "447099d7",
   "metadata": {},
   "source": [
    "Additional: Create list of offers to automate analysis of impact of offers on different customer segment categories"
   ]
  },
  {
   "cell_type": "code",
   "execution_count": 493,
   "id": "7602c568",
   "metadata": {},
   "outputs": [],
   "source": [
    "# generate list for portfolio.short_id column\n",
    "offer_list_shortid = portfolio['short_id'].values.tolist()\n",
    "\n",
    "# remove informational\n",
    "offer_list_shortid.remove('info0300')\n",
    "offer_list_shortid.remove('info0400')\n",
    "\n",
    "# sort to group similiar offers\n",
    "offer_list_shortid.sort()"
   ]
  },
  {
   "cell_type": "markdown",
   "id": "6f1626b3",
   "metadata": {},
   "source": [
    "## 3.2 Profile\n",
    "- Create short version of id (user_id)\n",
    "- Address null records: Keep (Impute) or Remove (Delete)\n",
    "- Attempt a correction for error in age (118). Most likely a data entry error for 18\n",
    "- Convert \"became_member_on\" to date"
   ]
  },
  {
   "cell_type": "markdown",
   "id": "5ab92bea",
   "metadata": {},
   "source": [
    "Create short version of id (user_id)"
   ]
  },
  {
   "cell_type": "code",
   "execution_count": 494,
   "id": "29156160",
   "metadata": {},
   "outputs": [
    {
     "data": {
      "text/html": [
       "<div>\n",
       "<style scoped>\n",
       "    .dataframe tbody tr th:only-of-type {\n",
       "        vertical-align: middle;\n",
       "    }\n",
       "\n",
       "    .dataframe tbody tr th {\n",
       "        vertical-align: top;\n",
       "    }\n",
       "\n",
       "    .dataframe thead th {\n",
       "        text-align: right;\n",
       "    }\n",
       "</style>\n",
       "<table border=\"1\" class=\"dataframe\">\n",
       "  <thead>\n",
       "    <tr style=\"text-align: right;\">\n",
       "      <th></th>\n",
       "      <th>gender</th>\n",
       "      <th>age</th>\n",
       "      <th>id</th>\n",
       "      <th>became_member_on</th>\n",
       "      <th>income</th>\n",
       "      <th>user_id</th>\n",
       "    </tr>\n",
       "  </thead>\n",
       "  <tbody>\n",
       "    <tr>\n",
       "      <th>0</th>\n",
       "      <td>None</td>\n",
       "      <td>118</td>\n",
       "      <td>68be06ca386d4c31939f3a4f0e3dd783</td>\n",
       "      <td>20170212</td>\n",
       "      <td>NaN</td>\n",
       "      <td>1</td>\n",
       "    </tr>\n",
       "    <tr>\n",
       "      <th>1</th>\n",
       "      <td>F</td>\n",
       "      <td>55</td>\n",
       "      <td>0610b486422d4921ae7d2bf64640c50b</td>\n",
       "      <td>20170715</td>\n",
       "      <td>112000.0</td>\n",
       "      <td>2</td>\n",
       "    </tr>\n",
       "    <tr>\n",
       "      <th>2</th>\n",
       "      <td>None</td>\n",
       "      <td>118</td>\n",
       "      <td>38fe809add3b4fcf9315a9694bb96ff5</td>\n",
       "      <td>20180712</td>\n",
       "      <td>NaN</td>\n",
       "      <td>3</td>\n",
       "    </tr>\n",
       "  </tbody>\n",
       "</table>\n",
       "</div>"
      ],
      "text/plain": [
       "  gender  age                                id  became_member_on    income  \\\n",
       "0   None  118  68be06ca386d4c31939f3a4f0e3dd783          20170212       NaN   \n",
       "1      F   55  0610b486422d4921ae7d2bf64640c50b          20170715  112000.0   \n",
       "2   None  118  38fe809add3b4fcf9315a9694bb96ff5          20180712       NaN   \n",
       "\n",
       "   user_id  \n",
       "0        1  \n",
       "1        2  \n",
       "2        3  "
      ]
     },
     "execution_count": 494,
     "metadata": {},
     "output_type": "execute_result"
    }
   ],
   "source": [
    "# Create short version of id (user_id)\n",
    "def id_mapper():\n",
    "    coded_dict = dict()\n",
    "    cter = 1\n",
    "    id_encoded = []\n",
    "    \n",
    "    for val in profile['id']:\n",
    "        if val not in coded_dict:\n",
    "            coded_dict[val] = cter\n",
    "            cter+=1\n",
    "        \n",
    "        id_encoded.append(coded_dict[val])\n",
    "    return id_encoded\n",
    "\n",
    "id_encoded = id_mapper()\n",
    "profile['user_id'] = id_encoded\n",
    "\n",
    "# show header\n",
    "profile.head(3)"
   ]
  },
  {
   "cell_type": "markdown",
   "id": "b4d729bc",
   "metadata": {},
   "source": [
    "Address null records: Keep (Impute) or Remove (Delete)"
   ]
  },
  {
   "cell_type": "code",
   "execution_count": 495,
   "id": "d23b4cc6",
   "metadata": {},
   "outputs": [
    {
     "data": {
      "image/png": "[encoded data removed]",
      "text/plain": [
       "<Figure size 432x288 with 1 Axes>"
      ]
     },
     "metadata": {},
     "output_type": "display_data"
    }
   ],
   "source": [
    "# Impute Numeric Fields: Fill nans with mean, median, mode\n",
    "profile['income_meanfill'] = np.round(profile['income'].fillna(profile['income'].mean()),1)\n",
    "profile['income_medianfill'] = np.round(profile['income'].fillna(profile['income'].median()),1)\n",
    "profile['income_modefill'] = np.round(profile['income'].fillna(profile['income'].mode(dropna=True)[0]),1)\n",
    "\n",
    "# Review impact on distribution (kde) and select most suitable option\n",
    "fig = plt.figure() \n",
    "ax = fig.add_subplot(111) \n",
    "profile['income'].plot(kind='kde', ax=ax) \n",
    "profile['income_meanfill'].plot(kind='kde', ax=ax, color='red')\n",
    "profile['income_medianfill'].plot(kind='kde', ax=ax, color='green') \n",
    "profile['income_modefill'].plot(kind='kde', ax=ax, color='purple') \n",
    "lines, labels = ax.get_legend_handles_labels() \n",
    "ax.legend(lines, labels, loc='best')\n",
    "plt.show() "
   ]
  },
  {
   "cell_type": "code",
   "execution_count": 496,
   "id": "f1006dee",
   "metadata": {},
   "outputs": [
    {
     "data": {
      "image/png": "[encoded data removed]",
      "text/plain": [
       "<Figure size 360x216 with 1 Axes>"
      ]
     },
     "metadata": {},
     "output_type": "display_data"
    }
   ],
   "source": [
    "# Impute Categorical Fields: Fill nans mode\n",
    "profile['gender-fill'] = profile['gender'].fillna(profile['gender'].mode()[0])\n",
    "\n",
    "# Review impact on distribution (kde) and select most suitable option\n",
    "profile['gender'].hist(alpha=0.5, figsize=(5, 3));\n",
    "profile['gender-fill'].hist(alpha=0.5, figsize=(5, 3));"
   ]
  },
  {
   "cell_type": "markdown",
   "id": "531003b8",
   "metadata": {},
   "source": [
    "Attempt a correction for error in age (118). Most likely a data entry error for 18"
   ]
  },
  {
   "cell_type": "code",
   "execution_count": 497,
   "id": "b0234d7e",
   "metadata": {},
   "outputs": [
    {
     "data": {
      "image/png": "[encoded data removed]",
      "text/plain": [
       "<Figure size 576x216 with 2 Axes>"
      ]
     },
     "metadata": {},
     "output_type": "display_data"
    }
   ],
   "source": [
    "# Create new age column (age-fill) and impute 118 with mean age (after excluding 118 entries by converting to Nan)\n",
    "\n",
    "profile['age_fill'] = profile['age'] # create new age column to use and preserve original data field\n",
    "profile['age_fill'].replace(to_replace=118,value=np.nan, inplace=True) # replace 118 with Nan\n",
    "profile['age_fill'].fillna(profile['age_fill'].median(), inplace=True) # impute Nan with median\n",
    "profile[['age','age_fill']].hist(alpha=0.5, figsize=(8, 3)); # plot histogram before and after change"
   ]
  },
  {
   "cell_type": "markdown",
   "id": "5eca4272",
   "metadata": {},
   "source": [
    "Convert \"became_member_on\" to date"
   ]
  },
  {
   "cell_type": "code",
   "execution_count": 498,
   "id": "bb2529dd",
   "metadata": {},
   "outputs": [],
   "source": [
    "profile['became_member_on'] = pd.to_datetime(profile['became_member_on'], format='%Y%m%d')"
   ]
  },
  {
   "cell_type": "markdown",
   "id": "4546004e",
   "metadata": {},
   "source": [
    "Additional Task: Create mapping for id, user_id"
   ]
  },
  {
   "cell_type": "code",
   "execution_count": 499,
   "id": "6c57f2af",
   "metadata": {},
   "outputs": [],
   "source": [
    "id_userid_map = profile[['id','user_id']]\n",
    "map_userid_person = dict(id_userid_map.values.tolist()) # map required to simplify data analysis"
   ]
  },
  {
   "cell_type": "markdown",
   "id": "4419e8b5",
   "metadata": {},
   "source": [
    "### Profile Comments: Filling nulls vs Deleting nulls\n",
    "\n",
    "\n",
    "**Background:**\n",
    "\n",
    "New columns were created for columns with null values inorder to determine the impact of filling nulls. This approach also creates a fall-back in the event the option to delete nulls is considered.\n",
    "\n",
    "**Observations:**\n",
    "\n",
    "1. Median fill appears most suitable for income column as the underlying distribution is skewed (see density plots)\n",
    "2. Replacing 118 with Nan and imputing with the median of age has changed the kurtosis of the distribution.\n",
    "\n",
    "**Conclusion:**\n",
    "\n",
    "Overall, the choice of either filling nulls or deleting will depend on the model selected for segmenting customers. The basis for segmentation ( customer behaviour, demographics, psycograhics etc.) will determine which features are relevant. For example, the choice of customer behaviour as basis for segmentation will not require the use income, age and sex columns which are are relevant in the demographics approach."
   ]
  },
  {
   "cell_type": "markdown",
   "id": "524aa1c4",
   "metadata": {},
   "source": [
    "## 3.3 Transcript\n",
    "- Unpack value column to extract key and values\n",
    "- Apply unpacked value column to transcript dataframe\n",
    "- Map person to profile user id (short version)."
   ]
  },
  {
   "cell_type": "markdown",
   "id": "233db79a",
   "metadata": {},
   "source": [
    "Unpack value column to extract keys and values"
   ]
  },
  {
   "cell_type": "code",
   "execution_count": 500,
   "id": "3fc4e583",
   "metadata": {},
   "outputs": [
    {
     "data": {
      "text/html": [
       "<div>\n",
       "<style scoped>\n",
       "    .dataframe tbody tr th:only-of-type {\n",
       "        vertical-align: middle;\n",
       "    }\n",
       "\n",
       "    .dataframe tbody tr th {\n",
       "        vertical-align: top;\n",
       "    }\n",
       "\n",
       "    .dataframe thead th {\n",
       "        text-align: right;\n",
       "    }\n",
       "</style>\n",
       "<table border=\"1\" class=\"dataframe\">\n",
       "  <thead>\n",
       "    <tr style=\"text-align: right;\">\n",
       "      <th></th>\n",
       "      <th>amount</th>\n",
       "      <th>reward</th>\n",
       "      <th>offerid</th>\n",
       "    </tr>\n",
       "  </thead>\n",
       "  <tbody>\n",
       "    <tr>\n",
       "      <th>0</th>\n",
       "      <td>NaN</td>\n",
       "      <td>NaN</td>\n",
       "      <td>9b98b8c7a33c4b65b9aebfe6a799e6d9</td>\n",
       "    </tr>\n",
       "    <tr>\n",
       "      <th>1</th>\n",
       "      <td>NaN</td>\n",
       "      <td>NaN</td>\n",
       "      <td>0b1e1539f2cc45b7b9fa7c272da2e1d7</td>\n",
       "    </tr>\n",
       "    <tr>\n",
       "      <th>2</th>\n",
       "      <td>NaN</td>\n",
       "      <td>NaN</td>\n",
       "      <td>2906b810c7d4411798c6938adc9daaa5</td>\n",
       "    </tr>\n",
       "  </tbody>\n",
       "</table>\n",
       "</div>"
      ],
      "text/plain": [
       "   amount  reward                           offerid\n",
       "0     NaN     NaN  9b98b8c7a33c4b65b9aebfe6a799e6d9\n",
       "1     NaN     NaN  0b1e1539f2cc45b7b9fa7c272da2e1d7\n",
       "2     NaN     NaN  2906b810c7d4411798c6938adc9daaa5"
      ]
     },
     "execution_count": 500,
     "metadata": {},
     "output_type": "execute_result"
    }
   ],
   "source": [
    "# Extract value column into dataframe\n",
    "value_unpacked = pd.DataFrame(transcript['value'].values.tolist(), index=transcript.index) \n",
    "value_unpacked['offerid'] = value_unpacked['offer id'].combine_first(value_unpacked['offer_id'])\n",
    "value_unpacked.drop(['offer id','offer_id'],axis=1, inplace=True)\n",
    "value_unpacked.head(3)"
   ]
  },
  {
   "cell_type": "markdown",
   "id": "f5949875",
   "metadata": {},
   "source": [
    "Apply unpacked value column to transcript dataframe"
   ]
  },
  {
   "cell_type": "code",
   "execution_count": 501,
   "id": "bff4d50f",
   "metadata": {},
   "outputs": [
    {
     "data": {
      "text/html": [
       "<div>\n",
       "<style scoped>\n",
       "    .dataframe tbody tr th:only-of-type {\n",
       "        vertical-align: middle;\n",
       "    }\n",
       "\n",
       "    .dataframe tbody tr th {\n",
       "        vertical-align: top;\n",
       "    }\n",
       "\n",
       "    .dataframe thead th {\n",
       "        text-align: right;\n",
       "    }\n",
       "</style>\n",
       "<table border=\"1\" class=\"dataframe\">\n",
       "  <thead>\n",
       "    <tr style=\"text-align: right;\">\n",
       "      <th></th>\n",
       "      <th>person</th>\n",
       "      <th>event</th>\n",
       "      <th>time</th>\n",
       "      <th>amount</th>\n",
       "      <th>reward</th>\n",
       "      <th>offerid</th>\n",
       "      <th>user_id</th>\n",
       "    </tr>\n",
       "  </thead>\n",
       "  <tbody>\n",
       "    <tr>\n",
       "      <th>0</th>\n",
       "      <td>78afa995795e4d85b5d9ceeca43f5fef</td>\n",
       "      <td>offer received</td>\n",
       "      <td>0</td>\n",
       "      <td>NaN</td>\n",
       "      <td>NaN</td>\n",
       "      <td>9b98b8c7a33c4b65b9aebfe6a799e6d9</td>\n",
       "      <td>4</td>\n",
       "    </tr>\n",
       "    <tr>\n",
       "      <th>1</th>\n",
       "      <td>a03223e636434f42ac4c3df47e8bac43</td>\n",
       "      <td>offer received</td>\n",
       "      <td>0</td>\n",
       "      <td>NaN</td>\n",
       "      <td>NaN</td>\n",
       "      <td>0b1e1539f2cc45b7b9fa7c272da2e1d7</td>\n",
       "      <td>5</td>\n",
       "    </tr>\n",
       "    <tr>\n",
       "      <th>2</th>\n",
       "      <td>e2127556f4f64592b11af22de27a7932</td>\n",
       "      <td>offer received</td>\n",
       "      <td>0</td>\n",
       "      <td>NaN</td>\n",
       "      <td>NaN</td>\n",
       "      <td>2906b810c7d4411798c6938adc9daaa5</td>\n",
       "      <td>6</td>\n",
       "    </tr>\n",
       "  </tbody>\n",
       "</table>\n",
       "</div>"
      ],
      "text/plain": [
       "                             person           event  time  amount  reward  \\\n",
       "0  78afa995795e4d85b5d9ceeca43f5fef  offer received     0     NaN     NaN   \n",
       "1  a03223e636434f42ac4c3df47e8bac43  offer received     0     NaN     NaN   \n",
       "2  e2127556f4f64592b11af22de27a7932  offer received     0     NaN     NaN   \n",
       "\n",
       "                            offerid  user_id  \n",
       "0  9b98b8c7a33c4b65b9aebfe6a799e6d9        4  \n",
       "1  0b1e1539f2cc45b7b9fa7c272da2e1d7        5  \n",
       "2  2906b810c7d4411798c6938adc9daaa5        6  "
      ]
     },
     "execution_count": 501,
     "metadata": {},
     "output_type": "execute_result"
    }
   ],
   "source": [
    "# Applying unpacked value column to transcript dataframe\n",
    "transcript_unpacked = pd.merge(pd.merge(transcript, value_unpacked, left_index=True, right_index=True),id_userid_map,how='left',left_on='person',right_on='id')  \n",
    "transcript_unpacked.drop(['value'],axis=1, inplace=True)\n",
    "transcript_unpacked.drop(['id'],axis=1, inplace=True)\n",
    "transcript_unpacked.head(3)"
   ]
  },
  {
   "cell_type": "markdown",
   "id": "d861dc8a",
   "metadata": {},
   "source": [
    "Map person to profile user id (short version)."
   ]
  },
  {
   "cell_type": "code",
   "execution_count": 502,
   "id": "d6120c6b",
   "metadata": {},
   "outputs": [
    {
     "data": {
      "text/html": [
       "<div>\n",
       "<style scoped>\n",
       "    .dataframe tbody tr th:only-of-type {\n",
       "        vertical-align: middle;\n",
       "    }\n",
       "\n",
       "    .dataframe tbody tr th {\n",
       "        vertical-align: top;\n",
       "    }\n",
       "\n",
       "    .dataframe thead th {\n",
       "        text-align: right;\n",
       "    }\n",
       "</style>\n",
       "<table border=\"1\" class=\"dataframe\">\n",
       "  <thead>\n",
       "    <tr style=\"text-align: right;\">\n",
       "      <th></th>\n",
       "      <th>person</th>\n",
       "      <th>event</th>\n",
       "      <th>time</th>\n",
       "      <th>amount</th>\n",
       "      <th>reward</th>\n",
       "      <th>offerid</th>\n",
       "      <th>user_id</th>\n",
       "      <th>short_id</th>\n",
       "      <th>duration_hrs</th>\n",
       "    </tr>\n",
       "  </thead>\n",
       "  <tbody>\n",
       "    <tr>\n",
       "      <th>0</th>\n",
       "      <td>78afa995795e4d85b5d9ceeca43f5fef</td>\n",
       "      <td>offer received</td>\n",
       "      <td>0</td>\n",
       "      <td>0.0</td>\n",
       "      <td>0.0</td>\n",
       "      <td>9b98b8c7a33c4b65b9aebfe6a799e6d9</td>\n",
       "      <td>4</td>\n",
       "      <td>bogo0705</td>\n",
       "      <td>168.0</td>\n",
       "    </tr>\n",
       "    <tr>\n",
       "      <th>1</th>\n",
       "      <td>a03223e636434f42ac4c3df47e8bac43</td>\n",
       "      <td>offer received</td>\n",
       "      <td>0</td>\n",
       "      <td>0.0</td>\n",
       "      <td>0.0</td>\n",
       "      <td>0b1e1539f2cc45b7b9fa7c272da2e1d7</td>\n",
       "      <td>5</td>\n",
       "      <td>disc1020</td>\n",
       "      <td>240.0</td>\n",
       "    </tr>\n",
       "    <tr>\n",
       "      <th>2</th>\n",
       "      <td>e2127556f4f64592b11af22de27a7932</td>\n",
       "      <td>offer received</td>\n",
       "      <td>0</td>\n",
       "      <td>0.0</td>\n",
       "      <td>0.0</td>\n",
       "      <td>2906b810c7d4411798c6938adc9daaa5</td>\n",
       "      <td>6</td>\n",
       "      <td>disc0710</td>\n",
       "      <td>168.0</td>\n",
       "    </tr>\n",
       "    <tr>\n",
       "      <th>3</th>\n",
       "      <td>8ec6ce2a7e7949b1bf142def7d0e0586</td>\n",
       "      <td>offer received</td>\n",
       "      <td>0</td>\n",
       "      <td>0.0</td>\n",
       "      <td>0.0</td>\n",
       "      <td>fafdcd668e3743c1bb461111dcafc2a4</td>\n",
       "      <td>7</td>\n",
       "      <td>disc1010</td>\n",
       "      <td>240.0</td>\n",
       "    </tr>\n",
       "    <tr>\n",
       "      <th>4</th>\n",
       "      <td>68617ca6246f4fbc85e91a2a49552598</td>\n",
       "      <td>offer received</td>\n",
       "      <td>0</td>\n",
       "      <td>0.0</td>\n",
       "      <td>0.0</td>\n",
       "      <td>4d5c57ea9a6940dd891ad53e9dbe8da0</td>\n",
       "      <td>8</td>\n",
       "      <td>bogo0510</td>\n",
       "      <td>120.0</td>\n",
       "    </tr>\n",
       "  </tbody>\n",
       "</table>\n",
       "</div>"
      ],
      "text/plain": [
       "                             person           event  time  amount  reward  \\\n",
       "0  78afa995795e4d85b5d9ceeca43f5fef  offer received     0     0.0     0.0   \n",
       "1  a03223e636434f42ac4c3df47e8bac43  offer received     0     0.0     0.0   \n",
       "2  e2127556f4f64592b11af22de27a7932  offer received     0     0.0     0.0   \n",
       "3  8ec6ce2a7e7949b1bf142def7d0e0586  offer received     0     0.0     0.0   \n",
       "4  68617ca6246f4fbc85e91a2a49552598  offer received     0     0.0     0.0   \n",
       "\n",
       "                            offerid  user_id  short_id  duration_hrs  \n",
       "0  9b98b8c7a33c4b65b9aebfe6a799e6d9        4  bogo0705         168.0  \n",
       "1  0b1e1539f2cc45b7b9fa7c272da2e1d7        5  disc1020         240.0  \n",
       "2  2906b810c7d4411798c6938adc9daaa5        6  disc0710         168.0  \n",
       "3  fafdcd668e3743c1bb461111dcafc2a4        7  disc1010         240.0  \n",
       "4  4d5c57ea9a6940dd891ad53e9dbe8da0        8  bogo0510         120.0  "
      ]
     },
     "execution_count": 502,
     "metadata": {},
     "output_type": "execute_result"
    }
   ],
   "source": [
    "# Map person to profile user id (short version).\n",
    "transcript_unpacked['short_id'] = transcript_unpacked['offerid'].map(map_id_shortid)\n",
    "transcript_unpacked['duration_hrs'] = transcript_unpacked['short_id'].map(map_shortid_hrs)\n",
    "transcript_unpacked.fillna(0, inplace=True)\n",
    "transcript_unpacked.head(5)"
   ]
  },
  {
   "cell_type": "markdown",
   "id": "5abd20de",
   "metadata": {},
   "source": [
    "<a id=\"analysis\"></a>"
   ]
  },
  {
   "cell_type": "markdown",
   "id": "e8debc90",
   "metadata": {},
   "source": [
    "[back to top menu](#toplevel)"
   ]
  },
  {
   "cell_type": "markdown",
   "id": "250ac7e9",
   "metadata": {},
   "source": [
    "# 4.0 Analysis\n",
    "- Background information for context\n",
    "- Transaction Labelling\n",
    "- PCA (dimension reduction)\n",
    "- K-means clustering"
   ]
  },
  {
   "cell_type": "markdown",
   "id": "90bb77a1",
   "metadata": {},
   "source": [
    "## 4.1 Background information for context"
   ]
  },
  {
   "cell_type": "markdown",
   "id": "dea441a2",
   "metadata": {},
   "source": [
    "Key Ideas:\n",
    "\n",
    "1. There are 2 states to customer behaviour: offer-induced (\"excited\") state and steady (\"uninfluenced\") state.\n",
    "\n",
    "\n",
    "2. Categorizing customer transactions by influence type - bogo, discount, self - and establishing the relative contribution of each category provides a quantitative definition of individual customer preferences/behaviour (Transaction Labelling).\n",
    "\n",
    "\n",
    "3. Transactions are said to be influenced by an offer when these transactions occur after a valid offer is received and viewed. In the event a transaction is completed before an offer is viewed, it is deemed to be uninfluenced (self). In addition, transactions completed outside the influence of any offer are deemed to be \"uninfluenced\" and labelled \"self\" (Transaction labelling)\n",
    "\n",
    "\n",
    "4. Informationals do not influence transactions because these do not have a motivator/reward (assumption)\n",
    "\n",
    "\n",
    "5. Customer behaviour can be used as a basis to segment customer base in addition to the use of demographic, psychograhic and other factors. There is a need to identify the most suitable factors (PCA and Clustering).\n",
    "\n",
    "\n",
    "6. Count and value of transactions completed under the influence of an offer provide a measure of the impact of the offer. These measures can be reviewed at individual and segment levels (Impact of offer - incremental transactions and revenue)\n"
   ]
  },
  {
   "cell_type": "markdown",
   "id": "804e4e86",
   "metadata": {},
   "source": [
    "## 4.2 Transaction Labelling"
   ]
  },
  {
   "cell_type": "markdown",
   "id": "6d4d1efe",
   "metadata": {},
   "source": [
    "Data Preparation"
   ]
  },
  {
   "cell_type": "code",
   "execution_count": 503,
   "id": "dadf8323",
   "metadata": {},
   "outputs": [],
   "source": [
    "# Creating new columns in preparation for transaction labelling\n",
    "transcript_unpacked = transcript_unpacked.drop(columns=['person','offerid']) # dropping redundant columns to streamline\n",
    "transcript_unpacked['influence'] = ''    # required to capture name of influencing offer\n",
    "transcript_unpacked['completiontype'] = '' # required to identify offer completion which occur after offer view\n",
    "transcript_unpacked['time_btw_offers'] = 0.0 # required to comment on frequency/volume of offers in test\n",
    "transcript_unpacked['active_offers'] = '' # required to evaluate occurence and impact of multiple active offers\n",
    "\n",
    "# Sort dataframe by userid and time to create blocks of user-specific, sequenced transactions\n",
    "transcript_unpacked.sort_values(by=['user_id','time'], ascending=True, inplace=True)\n",
    "transcript_unpacked.reset_index(inplace=True, drop=True)"
   ]
  },
  {
   "cell_type": "markdown",
   "id": "a234f52d",
   "metadata": {},
   "source": [
    "Labelling Transactions"
   ]
  },
  {
   "cell_type": "code",
   "execution_count": 504,
   "id": "50886b24",
   "metadata": {},
   "outputs": [],
   "source": [
    "# Iterating through txn history (transcript) and labeling relevant fields\n",
    "# ***********************************************************************\n",
    "\n",
    "userid = \"\" # initializing user id which is necessary to track user transactions\n",
    "\n",
    "# Looping through modified transcript dataframe to label transactions based on influencing offer\n",
    "\n",
    "for index, row in transcript_unpacked.iterrows():\n",
    "    \n",
    "    if row['user_id'] == userid:\n",
    "        \n",
    "            if row['event'] == 'offer received':\n",
    "                transcript_unpacked.at[index, 'time_btw_offers'] =  row['time'] - txntime # time between offers\n",
    "        \n",
    "                if ('info' in offerid) or ('info' in row['short_id']):\n",
    "                    transcript_unpacked.at[index, 'active_offers'] = ''        \n",
    "                else:\n",
    "                    if (row['time'] - txntime) - offer_duration < 0: # remember to exclude info\n",
    "                        if offercomplete == 0:\n",
    "                            transcript_unpacked.at[index, 'active_offers'] = '2+'\n",
    "        \n",
    "                offerid = row['short_id'] \n",
    "                txntime = row['time']\n",
    "                offer_duration = row['duration_hrs']\n",
    "                offercomplete == 0\n",
    "              \n",
    "    \n",
    "            if row['event'] == 'offer viewed':\n",
    "                if row['short_id'] == offerid:\n",
    "                    if ('info' in offerid):\n",
    "                        influencedby = \"\"\n",
    "                    else:\n",
    "                        if row['time'] - txntime < offer_duration:\n",
    "                            influencedby = offerid\n",
    "                \n",
    "            if row['event'] == 'transaction':\n",
    "                if row['time'] - txntime < offer_duration: #transaction is within the period of an offer\n",
    "                    if len(influencedby) != 0: #test to determine if offer has been viewed\n",
    "                        transcript_unpacked.at[index, 'influence'] = influencedby\n",
    "                    else:\n",
    "                        transcript_unpacked.at[index, 'influence'] = 'self'\n",
    "                else:\n",
    "                    transcript_unpacked.at[index, 'influence'] = 'self'\n",
    "    \n",
    "    \n",
    "            if row['event'] == 'offer completed':\n",
    "                if row['short_id'] == offerid:\n",
    "                    if len(influencedby) == 0: #test to determine if offer has been viewed\n",
    "                        transcript_unpacked.at[index, 'completiontype'] = 'offer: not viewed'\n",
    "                    else:\n",
    "                        transcript_unpacked.at[index, 'completiontype'] = 'offer:viewed'\n",
    "                    influencedby = \"\"\n",
    "                    offercomplete = 1\n",
    "    else:\n",
    "        \n",
    "        userid = row['user_id']\n",
    "        offerid = \"\" \n",
    "        txntime = 0\n",
    "        offer_duration = 0\n",
    "        offercomplete = 0\n",
    "        influencedby = \"\"\n",
    "        \n",
    "        \n",
    "        if row['event'] == 'offer received':\n",
    "            offerid = row['short_id'] \n",
    "            txntime = row['time']\n",
    "            offer_duration = row['duration_hrs']\n",
    "            offercomplete == 0\n",
    "\n",
    "                \n",
    "        if row['event'] == 'transaction':\n",
    "            transcript_unpacked.at[index, 'influence'] = 'self'\n"
   ]
  },
  {
   "cell_type": "code",
   "execution_count": 505,
   "id": "ca089b4f",
   "metadata": {
    "scrolled": true
   },
   "outputs": [
    {
     "data": {
      "text/html": [
       "<div>\n",
       "<style scoped>\n",
       "    .dataframe tbody tr th:only-of-type {\n",
       "        vertical-align: middle;\n",
       "    }\n",
       "\n",
       "    .dataframe tbody tr th {\n",
       "        vertical-align: top;\n",
       "    }\n",
       "\n",
       "    .dataframe thead th {\n",
       "        text-align: right;\n",
       "    }\n",
       "</style>\n",
       "<table border=\"1\" class=\"dataframe\">\n",
       "  <thead>\n",
       "    <tr style=\"text-align: right;\">\n",
       "      <th></th>\n",
       "      <th>event</th>\n",
       "      <th>time</th>\n",
       "      <th>amount</th>\n",
       "      <th>reward</th>\n",
       "      <th>user_id</th>\n",
       "      <th>short_id</th>\n",
       "      <th>duration_hrs</th>\n",
       "      <th>influence</th>\n",
       "      <th>completiontype</th>\n",
       "      <th>time_btw_offers</th>\n",
       "      <th>active_offers</th>\n",
       "    </tr>\n",
       "  </thead>\n",
       "  <tbody>\n",
       "    <tr>\n",
       "      <th>0</th>\n",
       "      <td>offer received</td>\n",
       "      <td>168</td>\n",
       "      <td>0.00</td>\n",
       "      <td>0.0</td>\n",
       "      <td>1</td>\n",
       "      <td>disc0710</td>\n",
       "      <td>168.0</td>\n",
       "      <td></td>\n",
       "      <td></td>\n",
       "      <td>0.0</td>\n",
       "      <td></td>\n",
       "    </tr>\n",
       "    <tr>\n",
       "      <th>1</th>\n",
       "      <td>offer viewed</td>\n",
       "      <td>216</td>\n",
       "      <td>0.00</td>\n",
       "      <td>0.0</td>\n",
       "      <td>1</td>\n",
       "      <td>disc0710</td>\n",
       "      <td>168.0</td>\n",
       "      <td></td>\n",
       "      <td></td>\n",
       "      <td>0.0</td>\n",
       "      <td></td>\n",
       "    </tr>\n",
       "    <tr>\n",
       "      <th>2</th>\n",
       "      <td>offer received</td>\n",
       "      <td>336</td>\n",
       "      <td>0.00</td>\n",
       "      <td>0.0</td>\n",
       "      <td>1</td>\n",
       "      <td>disc1020</td>\n",
       "      <td>240.0</td>\n",
       "      <td></td>\n",
       "      <td></td>\n",
       "      <td>168.0</td>\n",
       "      <td></td>\n",
       "    </tr>\n",
       "    <tr>\n",
       "      <th>3</th>\n",
       "      <td>offer viewed</td>\n",
       "      <td>348</td>\n",
       "      <td>0.00</td>\n",
       "      <td>0.0</td>\n",
       "      <td>1</td>\n",
       "      <td>disc1020</td>\n",
       "      <td>240.0</td>\n",
       "      <td></td>\n",
       "      <td></td>\n",
       "      <td>0.0</td>\n",
       "      <td></td>\n",
       "    </tr>\n",
       "    <tr>\n",
       "      <th>4</th>\n",
       "      <td>transaction</td>\n",
       "      <td>360</td>\n",
       "      <td>0.35</td>\n",
       "      <td>0.0</td>\n",
       "      <td>1</td>\n",
       "      <td>0</td>\n",
       "      <td>0.0</td>\n",
       "      <td>disc1020</td>\n",
       "      <td></td>\n",
       "      <td>0.0</td>\n",
       "      <td></td>\n",
       "    </tr>\n",
       "    <tr>\n",
       "      <th>5</th>\n",
       "      <td>offer received</td>\n",
       "      <td>408</td>\n",
       "      <td>0.00</td>\n",
       "      <td>0.0</td>\n",
       "      <td>1</td>\n",
       "      <td>disc1010</td>\n",
       "      <td>240.0</td>\n",
       "      <td></td>\n",
       "      <td></td>\n",
       "      <td>72.0</td>\n",
       "      <td>2+</td>\n",
       "    </tr>\n",
       "    <tr>\n",
       "      <th>6</th>\n",
       "      <td>offer viewed</td>\n",
       "      <td>408</td>\n",
       "      <td>0.00</td>\n",
       "      <td>0.0</td>\n",
       "      <td>1</td>\n",
       "      <td>disc1010</td>\n",
       "      <td>240.0</td>\n",
       "      <td></td>\n",
       "      <td></td>\n",
       "      <td>0.0</td>\n",
       "      <td></td>\n",
       "    </tr>\n",
       "    <tr>\n",
       "      <th>7</th>\n",
       "      <td>transaction</td>\n",
       "      <td>414</td>\n",
       "      <td>0.74</td>\n",
       "      <td>0.0</td>\n",
       "      <td>1</td>\n",
       "      <td>0</td>\n",
       "      <td>0.0</td>\n",
       "      <td>disc1010</td>\n",
       "      <td></td>\n",
       "      <td>0.0</td>\n",
       "      <td></td>\n",
       "    </tr>\n",
       "    <tr>\n",
       "      <th>8</th>\n",
       "      <td>transaction</td>\n",
       "      <td>444</td>\n",
       "      <td>1.89</td>\n",
       "      <td>0.0</td>\n",
       "      <td>1</td>\n",
       "      <td>0</td>\n",
       "      <td>0.0</td>\n",
       "      <td>disc1010</td>\n",
       "      <td></td>\n",
       "      <td>0.0</td>\n",
       "      <td></td>\n",
       "    </tr>\n",
       "    <tr>\n",
       "      <th>9</th>\n",
       "      <td>offer received</td>\n",
       "      <td>504</td>\n",
       "      <td>0.00</td>\n",
       "      <td>0.0</td>\n",
       "      <td>1</td>\n",
       "      <td>disc0707</td>\n",
       "      <td>168.0</td>\n",
       "      <td></td>\n",
       "      <td></td>\n",
       "      <td>96.0</td>\n",
       "      <td>2+</td>\n",
       "    </tr>\n",
       "  </tbody>\n",
       "</table>\n",
       "</div>"
      ],
      "text/plain": [
       "            event  time  amount  reward  user_id  short_id  duration_hrs  \\\n",
       "0  offer received   168    0.00     0.0        1  disc0710         168.0   \n",
       "1    offer viewed   216    0.00     0.0        1  disc0710         168.0   \n",
       "2  offer received   336    0.00     0.0        1  disc1020         240.0   \n",
       "3    offer viewed   348    0.00     0.0        1  disc1020         240.0   \n",
       "4     transaction   360    0.35     0.0        1         0           0.0   \n",
       "5  offer received   408    0.00     0.0        1  disc1010         240.0   \n",
       "6    offer viewed   408    0.00     0.0        1  disc1010         240.0   \n",
       "7     transaction   414    0.74     0.0        1         0           0.0   \n",
       "8     transaction   444    1.89     0.0        1         0           0.0   \n",
       "9  offer received   504    0.00     0.0        1  disc0707         168.0   \n",
       "\n",
       "  influence completiontype  time_btw_offers active_offers  \n",
       "0                                       0.0                \n",
       "1                                       0.0                \n",
       "2                                     168.0                \n",
       "3                                       0.0                \n",
       "4  disc1020                             0.0                \n",
       "5                                      72.0            2+  \n",
       "6                                       0.0                \n",
       "7  disc1010                             0.0                \n",
       "8  disc1010                             0.0                \n",
       "9                                      96.0            2+  "
      ]
     },
     "execution_count": 505,
     "metadata": {},
     "output_type": "execute_result"
    }
   ],
   "source": [
    "# Displaying updates made (1st 10 records)\n",
    "transcript_unpacked.head(10)"
   ]
  },
  {
   "cell_type": "code",
   "execution_count": 506,
   "id": "cc8ebf3b",
   "metadata": {},
   "outputs": [
    {
     "data": {
      "text/html": [
       "<div>\n",
       "<style scoped>\n",
       "    .dataframe tbody tr th:only-of-type {\n",
       "        vertical-align: middle;\n",
       "    }\n",
       "\n",
       "    .dataframe tbody tr th {\n",
       "        vertical-align: top;\n",
       "    }\n",
       "\n",
       "    .dataframe thead th {\n",
       "        text-align: right;\n",
       "    }\n",
       "</style>\n",
       "<table border=\"1\" class=\"dataframe\">\n",
       "  <thead>\n",
       "    <tr style=\"text-align: right;\">\n",
       "      <th></th>\n",
       "      <th>event</th>\n",
       "      <th>time</th>\n",
       "      <th>amount</th>\n",
       "      <th>reward</th>\n",
       "      <th>user_id</th>\n",
       "      <th>short_id</th>\n",
       "      <th>duration_hrs</th>\n",
       "      <th>influence</th>\n",
       "      <th>completiontype</th>\n",
       "      <th>time_btw_offers</th>\n",
       "      <th>active_offers</th>\n",
       "    </tr>\n",
       "  </thead>\n",
       "  <tbody>\n",
       "    <tr>\n",
       "      <th>306524</th>\n",
       "      <td>transaction</td>\n",
       "      <td>84</td>\n",
       "      <td>25.19</td>\n",
       "      <td>0.0</td>\n",
       "      <td>17000</td>\n",
       "      <td>0</td>\n",
       "      <td>0.0</td>\n",
       "      <td>self</td>\n",
       "      <td></td>\n",
       "      <td>0.0</td>\n",
       "      <td></td>\n",
       "    </tr>\n",
       "    <tr>\n",
       "      <th>306525</th>\n",
       "      <td>transaction</td>\n",
       "      <td>96</td>\n",
       "      <td>21.53</td>\n",
       "      <td>0.0</td>\n",
       "      <td>17000</td>\n",
       "      <td>0</td>\n",
       "      <td>0.0</td>\n",
       "      <td>self</td>\n",
       "      <td></td>\n",
       "      <td>0.0</td>\n",
       "      <td></td>\n",
       "    </tr>\n",
       "    <tr>\n",
       "      <th>306526</th>\n",
       "      <td>offer received</td>\n",
       "      <td>336</td>\n",
       "      <td>0.00</td>\n",
       "      <td>0.0</td>\n",
       "      <td>17000</td>\n",
       "      <td>info0400</td>\n",
       "      <td>96.0</td>\n",
       "      <td></td>\n",
       "      <td></td>\n",
       "      <td>336.0</td>\n",
       "      <td></td>\n",
       "    </tr>\n",
       "    <tr>\n",
       "      <th>306527</th>\n",
       "      <td>offer received</td>\n",
       "      <td>408</td>\n",
       "      <td>0.00</td>\n",
       "      <td>0.0</td>\n",
       "      <td>17000</td>\n",
       "      <td>bogo0505</td>\n",
       "      <td>120.0</td>\n",
       "      <td></td>\n",
       "      <td></td>\n",
       "      <td>72.0</td>\n",
       "      <td></td>\n",
       "    </tr>\n",
       "    <tr>\n",
       "      <th>306528</th>\n",
       "      <td>transaction</td>\n",
       "      <td>480</td>\n",
       "      <td>30.57</td>\n",
       "      <td>0.0</td>\n",
       "      <td>17000</td>\n",
       "      <td>0</td>\n",
       "      <td>0.0</td>\n",
       "      <td>self</td>\n",
       "      <td></td>\n",
       "      <td>0.0</td>\n",
       "      <td></td>\n",
       "    </tr>\n",
       "    <tr>\n",
       "      <th>306529</th>\n",
       "      <td>offer completed</td>\n",
       "      <td>480</td>\n",
       "      <td>0.00</td>\n",
       "      <td>5.0</td>\n",
       "      <td>17000</td>\n",
       "      <td>bogo0505</td>\n",
       "      <td>120.0</td>\n",
       "      <td></td>\n",
       "      <td>offer: not viewed</td>\n",
       "      <td>0.0</td>\n",
       "      <td></td>\n",
       "    </tr>\n",
       "    <tr>\n",
       "      <th>306530</th>\n",
       "      <td>transaction</td>\n",
       "      <td>486</td>\n",
       "      <td>19.47</td>\n",
       "      <td>0.0</td>\n",
       "      <td>17000</td>\n",
       "      <td>0</td>\n",
       "      <td>0.0</td>\n",
       "      <td>self</td>\n",
       "      <td></td>\n",
       "      <td>0.0</td>\n",
       "      <td></td>\n",
       "    </tr>\n",
       "    <tr>\n",
       "      <th>306531</th>\n",
       "      <td>offer viewed</td>\n",
       "      <td>546</td>\n",
       "      <td>0.00</td>\n",
       "      <td>0.0</td>\n",
       "      <td>17000</td>\n",
       "      <td>bogo0505</td>\n",
       "      <td>120.0</td>\n",
       "      <td></td>\n",
       "      <td></td>\n",
       "      <td>0.0</td>\n",
       "      <td></td>\n",
       "    </tr>\n",
       "    <tr>\n",
       "      <th>306532</th>\n",
       "      <td>offer received</td>\n",
       "      <td>576</td>\n",
       "      <td>0.00</td>\n",
       "      <td>0.0</td>\n",
       "      <td>17000</td>\n",
       "      <td>info0400</td>\n",
       "      <td>96.0</td>\n",
       "      <td></td>\n",
       "      <td></td>\n",
       "      <td>168.0</td>\n",
       "      <td></td>\n",
       "    </tr>\n",
       "    <tr>\n",
       "      <th>306533</th>\n",
       "      <td>transaction</td>\n",
       "      <td>690</td>\n",
       "      <td>24.71</td>\n",
       "      <td>0.0</td>\n",
       "      <td>17000</td>\n",
       "      <td>0</td>\n",
       "      <td>0.0</td>\n",
       "      <td>self</td>\n",
       "      <td></td>\n",
       "      <td>0.0</td>\n",
       "      <td></td>\n",
       "    </tr>\n",
       "  </tbody>\n",
       "</table>\n",
       "</div>"
      ],
      "text/plain": [
       "                  event  time  amount  reward  user_id  short_id  \\\n",
       "306524      transaction    84   25.19     0.0    17000         0   \n",
       "306525      transaction    96   21.53     0.0    17000         0   \n",
       "306526   offer received   336    0.00     0.0    17000  info0400   \n",
       "306527   offer received   408    0.00     0.0    17000  bogo0505   \n",
       "306528      transaction   480   30.57     0.0    17000         0   \n",
       "306529  offer completed   480    0.00     5.0    17000  bogo0505   \n",
       "306530      transaction   486   19.47     0.0    17000         0   \n",
       "306531     offer viewed   546    0.00     0.0    17000  bogo0505   \n",
       "306532   offer received   576    0.00     0.0    17000  info0400   \n",
       "306533      transaction   690   24.71     0.0    17000         0   \n",
       "\n",
       "        duration_hrs influence     completiontype  time_btw_offers  \\\n",
       "306524           0.0      self                                 0.0   \n",
       "306525           0.0      self                                 0.0   \n",
       "306526          96.0                                         336.0   \n",
       "306527         120.0                                          72.0   \n",
       "306528           0.0      self                                 0.0   \n",
       "306529         120.0            offer: not viewed              0.0   \n",
       "306530           0.0      self                                 0.0   \n",
       "306531         120.0                                           0.0   \n",
       "306532          96.0                                         168.0   \n",
       "306533           0.0      self                                 0.0   \n",
       "\n",
       "       active_offers  \n",
       "306524                \n",
       "306525                \n",
       "306526                \n",
       "306527                \n",
       "306528                \n",
       "306529                \n",
       "306530                \n",
       "306531                \n",
       "306532                \n",
       "306533                "
      ]
     },
     "execution_count": 506,
     "metadata": {},
     "output_type": "execute_result"
    }
   ],
   "source": [
    "# Displaying updates made (last 10 records)\n",
    "transcript_unpacked.tail(10)"
   ]
  },
  {
   "cell_type": "markdown",
   "id": "93392dde",
   "metadata": {},
   "source": [
    "customer-offer interaction matrix"
   ]
  },
  {
   "cell_type": "code",
   "execution_count": 507,
   "id": "805017b6",
   "metadata": {},
   "outputs": [
    {
     "data": {
      "text/html": [
       "<div>\n",
       "<style scoped>\n",
       "    .dataframe tbody tr th:only-of-type {\n",
       "        vertical-align: middle;\n",
       "    }\n",
       "\n",
       "    .dataframe tbody tr th {\n",
       "        vertical-align: top;\n",
       "    }\n",
       "\n",
       "    .dataframe thead th {\n",
       "        text-align: right;\n",
       "    }\n",
       "</style>\n",
       "<table border=\"1\" class=\"dataframe\">\n",
       "  <thead>\n",
       "    <tr style=\"text-align: right;\">\n",
       "      <th>influence</th>\n",
       "      <th>bogo0505</th>\n",
       "      <th>bogo0510</th>\n",
       "      <th>bogo0705</th>\n",
       "      <th>bogo0710</th>\n",
       "      <th>disc0707</th>\n",
       "      <th>disc0710</th>\n",
       "      <th>disc1010</th>\n",
       "      <th>disc1020</th>\n",
       "      <th>self</th>\n",
       "    </tr>\n",
       "    <tr>\n",
       "      <th>user_id</th>\n",
       "      <th></th>\n",
       "      <th></th>\n",
       "      <th></th>\n",
       "      <th></th>\n",
       "      <th></th>\n",
       "      <th></th>\n",
       "      <th></th>\n",
       "      <th></th>\n",
       "      <th></th>\n",
       "    </tr>\n",
       "  </thead>\n",
       "  <tbody>\n",
       "    <tr>\n",
       "      <th>1</th>\n",
       "      <td>0.00</td>\n",
       "      <td>0.00</td>\n",
       "      <td>0.00</td>\n",
       "      <td>0.00</td>\n",
       "      <td>7.54</td>\n",
       "      <td>0.0</td>\n",
       "      <td>12.51</td>\n",
       "      <td>0.35</td>\n",
       "      <td>0.00</td>\n",
       "    </tr>\n",
       "    <tr>\n",
       "      <th>2</th>\n",
       "      <td>0.00</td>\n",
       "      <td>0.00</td>\n",
       "      <td>0.00</td>\n",
       "      <td>0.00</td>\n",
       "      <td>0.00</td>\n",
       "      <td>0.0</td>\n",
       "      <td>0.00</td>\n",
       "      <td>0.00</td>\n",
       "      <td>77.01</td>\n",
       "    </tr>\n",
       "    <tr>\n",
       "      <th>3</th>\n",
       "      <td>0.00</td>\n",
       "      <td>0.00</td>\n",
       "      <td>2.14</td>\n",
       "      <td>0.00</td>\n",
       "      <td>0.00</td>\n",
       "      <td>0.0</td>\n",
       "      <td>0.00</td>\n",
       "      <td>0.00</td>\n",
       "      <td>12.16</td>\n",
       "    </tr>\n",
       "    <tr>\n",
       "      <th>4</th>\n",
       "      <td>0.00</td>\n",
       "      <td>0.00</td>\n",
       "      <td>19.89</td>\n",
       "      <td>21.72</td>\n",
       "      <td>0.00</td>\n",
       "      <td>0.0</td>\n",
       "      <td>0.00</td>\n",
       "      <td>0.00</td>\n",
       "      <td>117.66</td>\n",
       "    </tr>\n",
       "    <tr>\n",
       "      <th>5</th>\n",
       "      <td>0.00</td>\n",
       "      <td>0.00</td>\n",
       "      <td>0.00</td>\n",
       "      <td>0.00</td>\n",
       "      <td>0.00</td>\n",
       "      <td>0.0</td>\n",
       "      <td>0.00</td>\n",
       "      <td>1.09</td>\n",
       "      <td>3.56</td>\n",
       "    </tr>\n",
       "    <tr>\n",
       "      <th>6</th>\n",
       "      <td>0.00</td>\n",
       "      <td>0.00</td>\n",
       "      <td>0.00</td>\n",
       "      <td>0.00</td>\n",
       "      <td>0.00</td>\n",
       "      <td>0.0</td>\n",
       "      <td>18.42</td>\n",
       "      <td>0.00</td>\n",
       "      <td>39.31</td>\n",
       "    </tr>\n",
       "    <tr>\n",
       "      <th>8</th>\n",
       "      <td>0.00</td>\n",
       "      <td>0.00</td>\n",
       "      <td>0.05</td>\n",
       "      <td>0.00</td>\n",
       "      <td>0.19</td>\n",
       "      <td>0.0</td>\n",
       "      <td>0.00</td>\n",
       "      <td>0.00</td>\n",
       "      <td>0.00</td>\n",
       "    </tr>\n",
       "    <tr>\n",
       "      <th>9</th>\n",
       "      <td>9.54</td>\n",
       "      <td>0.00</td>\n",
       "      <td>15.63</td>\n",
       "      <td>0.00</td>\n",
       "      <td>0.00</td>\n",
       "      <td>0.0</td>\n",
       "      <td>11.26</td>\n",
       "      <td>0.00</td>\n",
       "      <td>0.00</td>\n",
       "    </tr>\n",
       "    <tr>\n",
       "      <th>10</th>\n",
       "      <td>0.18</td>\n",
       "      <td>12.99</td>\n",
       "      <td>0.00</td>\n",
       "      <td>0.00</td>\n",
       "      <td>0.00</td>\n",
       "      <td>0.0</td>\n",
       "      <td>0.00</td>\n",
       "      <td>0.00</td>\n",
       "      <td>2.45</td>\n",
       "    </tr>\n",
       "    <tr>\n",
       "      <th>11</th>\n",
       "      <td>0.00</td>\n",
       "      <td>0.00</td>\n",
       "      <td>0.00</td>\n",
       "      <td>54.61</td>\n",
       "      <td>11.67</td>\n",
       "      <td>0.0</td>\n",
       "      <td>0.00</td>\n",
       "      <td>0.00</td>\n",
       "      <td>0.13</td>\n",
       "    </tr>\n",
       "  </tbody>\n",
       "</table>\n",
       "</div>"
      ],
      "text/plain": [
       "influence  bogo0505  bogo0510  bogo0705  bogo0710  disc0707  disc0710  \\\n",
       "user_id                                                                 \n",
       "1              0.00      0.00      0.00      0.00      7.54       0.0   \n",
       "2              0.00      0.00      0.00      0.00      0.00       0.0   \n",
       "3              0.00      0.00      2.14      0.00      0.00       0.0   \n",
       "4              0.00      0.00     19.89     21.72      0.00       0.0   \n",
       "5              0.00      0.00      0.00      0.00      0.00       0.0   \n",
       "6              0.00      0.00      0.00      0.00      0.00       0.0   \n",
       "8              0.00      0.00      0.05      0.00      0.19       0.0   \n",
       "9              9.54      0.00     15.63      0.00      0.00       0.0   \n",
       "10             0.18     12.99      0.00      0.00      0.00       0.0   \n",
       "11             0.00      0.00      0.00     54.61     11.67       0.0   \n",
       "\n",
       "influence  disc1010  disc1020    self  \n",
       "user_id                                \n",
       "1             12.51      0.35    0.00  \n",
       "2              0.00      0.00   77.01  \n",
       "3              0.00      0.00   12.16  \n",
       "4              0.00      0.00  117.66  \n",
       "5              0.00      1.09    3.56  \n",
       "6             18.42      0.00   39.31  \n",
       "8              0.00      0.00    0.00  \n",
       "9             11.26      0.00    0.00  \n",
       "10             0.00      0.00    2.45  \n",
       "11             0.00      0.00    0.13  "
      ]
     },
     "execution_count": 507,
     "metadata": {},
     "output_type": "execute_result"
    }
   ],
   "source": [
    "# Create customer-offer interaction matrix (view into customer preferences/behaviour)\n",
    "\n",
    "df_extract_txns = transcript_unpacked[transcript_unpacked.event=='transaction'] # extract transactions\n",
    "cust_offer_matrix = df_extract_txns.groupby(by=['user_id','influence'])['amount'].sum().unstack() # matrix by spend\n",
    "df_cust_offer_nonull = cust_offer_matrix.fillna(0) # create a copy of customer-offer interaction matrix and fill null\n",
    "df_cust_offer_nonull.head(10)"
   ]
  },
  {
   "cell_type": "markdown",
   "id": "ff967d69",
   "metadata": {},
   "source": [
    "Interpretation:\n",
    "    \n",
    "- user 1 is a bargain hunter who only purchases with discount offers. Preference is disc0710, disc1010 and disc1020\n",
    "- user 2 is not influenced by bogo and discount offers. Self motivated\n",
    "- user 3 is both self motivated and interested in bogo offers. Preference is bogo0705"
   ]
  },
  {
   "cell_type": "code",
   "execution_count": 508,
   "id": "ed248a66",
   "metadata": {},
   "outputs": [
    {
     "name": "stdout",
     "output_type": "stream",
     "text": [
      "number of customers with at least 1 transaction: 16,578\n",
      "number of customers in sample: 17,000\n",
      "number of customers without transactions: 422\n"
     ]
    }
   ],
   "source": [
    "# Identify customers with no transactions across self, bogo and discount\n",
    "\n",
    "cust_with_txns = df_cust_offer_nonull.shape[0] # customers with at least 1 txn across self and offers\n",
    "total_cust_base = transcript_unpacked.user_id.nunique() # total number of customers in sample\n",
    "\n",
    "print(\"number of customers with at least 1 transaction: {:,}\".format(cust_with_txns))\n",
    "print(\"number of customers in sample: {:,}\".format(total_cust_base))\n",
    "print(\"number of customers without transactions: {:,}\".format((total_cust_base-cust_with_txns)))"
   ]
  },
  {
   "cell_type": "markdown",
   "id": "3547c076",
   "metadata": {},
   "source": [
    "Comment(s):\n",
    "\n",
    "There are 422 customers who neither responded to the offers nor performed any transaction within the test period. Their user ids are not captured in the user-offer matrix and their preferences are yet unknown. However, with the addition of relevant demographics-related columns from the profile dataframe to create a comprehensive reference table/dataframe, the customer user ids will reflect in the matrix (no nulls version) with 0 across offer/self columns\n"
   ]
  },
  {
   "cell_type": "markdown",
   "id": "8d06818a",
   "metadata": {},
   "source": [
    "Additional tasks: Create a comprehensive reference dataframe by adding relevant columns to user-interaction dataframe"
   ]
  },
  {
   "cell_type": "code",
   "execution_count": 509,
   "id": "03eb9c81",
   "metadata": {},
   "outputs": [],
   "source": [
    "# Transaction count per customer\n",
    "df_cust_txnCount = df_extract_txns[df_extract_txns.influence=='self'].groupby(['user_id']).agg(txn_count=('event',pd.Series.count)).reset_index()"
   ]
  },
  {
   "cell_type": "code",
   "execution_count": 510,
   "id": "ea748f82",
   "metadata": {},
   "outputs": [],
   "source": [
    "# Profile dataframe: Create column for number of months as member\n",
    "cutoff_date = pd.to_datetime('20210618',format='%Y%m%d')\n",
    "profile['membership_mnths'] = ((cutoff_date - profile['became_member_on'])/np.timedelta64(1,'M')).astype(int)"
   ]
  },
  {
   "cell_type": "code",
   "execution_count": 511,
   "id": "9b24665f",
   "metadata": {},
   "outputs": [],
   "source": [
    "# Profile dataframe: Extract relevant fields - userid, age, income (median fill), months as member\n",
    "cust_profile_trim = profile[['user_id','age_fill','income_medianfill','membership_mnths','gender-fill']]"
   ]
  },
  {
   "cell_type": "code",
   "execution_count": 512,
   "id": "6991dfde",
   "metadata": {},
   "outputs": [],
   "source": [
    "# join profile trim with count of transactions\n",
    "cust_profile_txn = cust_profile_trim.merge(df_cust_txnCount, how='left', on='user_id')"
   ]
  },
  {
   "cell_type": "code",
   "execution_count": 513,
   "id": "b752d25a",
   "metadata": {},
   "outputs": [],
   "source": [
    "# create master dataframe with demographics and customer-offer interaction details\n",
    "cust_profile_txn_matrix = cust_profile_txn.merge(df_cust_offer_nonull, how='left',on='user_id')"
   ]
  },
  {
   "cell_type": "code",
   "execution_count": 514,
   "id": "3378399e",
   "metadata": {},
   "outputs": [],
   "source": [
    "# cleaning master dataframe\n",
    "cust_profile_txn_matrix.set_index('user_id',drop=True,inplace=True) # set user_id as index\n",
    "cust_profile_txn_matrix.fillna(0, inplace=True) # fill nulls"
   ]
  },
  {
   "cell_type": "code",
   "execution_count": 515,
   "id": "2a065c89",
   "metadata": {},
   "outputs": [],
   "source": [
    "# Creating subtotals for bogo and discount offers\n",
    "cust_profile_txn_matrix['bogo'] = (cust_profile_txn_matrix['bogo0505']\n",
    "                                        +cust_profile_txn_matrix['bogo0510']\n",
    "                                        +cust_profile_txn_matrix['bogo0705']\n",
    "                                        +cust_profile_txn_matrix['bogo0710'])\n",
    "\n",
    "cust_profile_txn_matrix['discount'] = (cust_profile_txn_matrix['disc0707']\n",
    "                                            +cust_profile_txn_matrix['disc0710']\n",
    "                                            +cust_profile_txn_matrix['disc1010']\n",
    "                                            +cust_profile_txn_matrix['disc1020'])"
   ]
  },
  {
   "cell_type": "code",
   "execution_count": 516,
   "id": "f43bdf79",
   "metadata": {},
   "outputs": [],
   "source": [
    "# create categories for membership. Business rule (Assumption) - Members are new for 3 months after joining\n",
    "\n",
    "membership_filter = lambda x: \"new\" if x <= 37 else \"old\" \n",
    "cust_profile_txn_matrix['custtype'] = cust_profile_txn_matrix['membership_mnths'].apply(membership_filter)\n",
    "\n",
    "#comments: \n",
    "#********\n",
    "#The latest membership date is 34 months from cutoff date. 34mnths + 3mnths (37) will filter out new members\n",
    "# Choice of 3 months was based on optimization. 3 months returned highest silhouette score (0.7456) \n",
    "# compared to 6 (0.6881), 12 (0.6473) etc"
   ]
  },
  {
   "cell_type": "code",
   "execution_count": 517,
   "id": "d8b0bae2",
   "metadata": {},
   "outputs": [
    {
     "data": {
      "text/html": [
       "<div>\n",
       "<style scoped>\n",
       "    .dataframe tbody tr th:only-of-type {\n",
       "        vertical-align: middle;\n",
       "    }\n",
       "\n",
       "    .dataframe tbody tr th {\n",
       "        vertical-align: top;\n",
       "    }\n",
       "\n",
       "    .dataframe thead th {\n",
       "        text-align: right;\n",
       "    }\n",
       "</style>\n",
       "<table border=\"1\" class=\"dataframe\">\n",
       "  <thead>\n",
       "    <tr style=\"text-align: right;\">\n",
       "      <th></th>\n",
       "      <th>age_fill</th>\n",
       "      <th>income_medianfill</th>\n",
       "      <th>membership_mnths</th>\n",
       "      <th>gender-fill</th>\n",
       "      <th>txn_count</th>\n",
       "      <th>bogo0505</th>\n",
       "      <th>bogo0510</th>\n",
       "      <th>bogo0705</th>\n",
       "      <th>bogo0710</th>\n",
       "      <th>disc0707</th>\n",
       "      <th>disc0710</th>\n",
       "      <th>disc1010</th>\n",
       "      <th>disc1020</th>\n",
       "      <th>self</th>\n",
       "      <th>bogo</th>\n",
       "      <th>discount</th>\n",
       "      <th>custtype</th>\n",
       "    </tr>\n",
       "    <tr>\n",
       "      <th>user_id</th>\n",
       "      <th></th>\n",
       "      <th></th>\n",
       "      <th></th>\n",
       "      <th></th>\n",
       "      <th></th>\n",
       "      <th></th>\n",
       "      <th></th>\n",
       "      <th></th>\n",
       "      <th></th>\n",
       "      <th></th>\n",
       "      <th></th>\n",
       "      <th></th>\n",
       "      <th></th>\n",
       "      <th></th>\n",
       "      <th></th>\n",
       "      <th></th>\n",
       "      <th></th>\n",
       "    </tr>\n",
       "  </thead>\n",
       "  <tbody>\n",
       "    <tr>\n",
       "      <th>1</th>\n",
       "      <td>55.0</td>\n",
       "      <td>64000.0</td>\n",
       "      <td>52</td>\n",
       "      <td>M</td>\n",
       "      <td>0.0</td>\n",
       "      <td>0.0</td>\n",
       "      <td>0.0</td>\n",
       "      <td>0.00</td>\n",
       "      <td>0.0</td>\n",
       "      <td>7.54</td>\n",
       "      <td>0.0</td>\n",
       "      <td>12.51</td>\n",
       "      <td>0.35</td>\n",
       "      <td>0.00</td>\n",
       "      <td>0.00</td>\n",
       "      <td>20.4</td>\n",
       "      <td>old</td>\n",
       "    </tr>\n",
       "    <tr>\n",
       "      <th>2</th>\n",
       "      <td>55.0</td>\n",
       "      <td>112000.0</td>\n",
       "      <td>47</td>\n",
       "      <td>F</td>\n",
       "      <td>3.0</td>\n",
       "      <td>0.0</td>\n",
       "      <td>0.0</td>\n",
       "      <td>0.00</td>\n",
       "      <td>0.0</td>\n",
       "      <td>0.00</td>\n",
       "      <td>0.0</td>\n",
       "      <td>0.00</td>\n",
       "      <td>0.00</td>\n",
       "      <td>77.01</td>\n",
       "      <td>0.00</td>\n",
       "      <td>0.0</td>\n",
       "      <td>old</td>\n",
       "    </tr>\n",
       "    <tr>\n",
       "      <th>3</th>\n",
       "      <td>55.0</td>\n",
       "      <td>64000.0</td>\n",
       "      <td>35</td>\n",
       "      <td>M</td>\n",
       "      <td>5.0</td>\n",
       "      <td>0.0</td>\n",
       "      <td>0.0</td>\n",
       "      <td>2.14</td>\n",
       "      <td>0.0</td>\n",
       "      <td>0.00</td>\n",
       "      <td>0.0</td>\n",
       "      <td>0.00</td>\n",
       "      <td>0.00</td>\n",
       "      <td>12.16</td>\n",
       "      <td>2.14</td>\n",
       "      <td>0.0</td>\n",
       "      <td>new</td>\n",
       "    </tr>\n",
       "  </tbody>\n",
       "</table>\n",
       "</div>"
      ],
      "text/plain": [
       "         age_fill  income_medianfill  membership_mnths gender-fill  txn_count  \\\n",
       "user_id                                                                         \n",
       "1            55.0            64000.0                52           M        0.0   \n",
       "2            55.0           112000.0                47           F        3.0   \n",
       "3            55.0            64000.0                35           M        5.0   \n",
       "\n",
       "         bogo0505  bogo0510  bogo0705  bogo0710  disc0707  disc0710  disc1010  \\\n",
       "user_id                                                                         \n",
       "1             0.0       0.0      0.00       0.0      7.54       0.0     12.51   \n",
       "2             0.0       0.0      0.00       0.0      0.00       0.0      0.00   \n",
       "3             0.0       0.0      2.14       0.0      0.00       0.0      0.00   \n",
       "\n",
       "         disc1020   self  bogo  discount custtype  \n",
       "user_id                                            \n",
       "1            0.35   0.00  0.00      20.4      old  \n",
       "2            0.00  77.01  0.00       0.0      old  \n",
       "3            0.00  12.16  2.14       0.0      new  "
      ]
     },
     "execution_count": 517,
     "metadata": {},
     "output_type": "execute_result"
    }
   ],
   "source": [
    "# view master reference dataframe\n",
    "cust_profile_txn_matrix.head(3)"
   ]
  },
  {
   "cell_type": "code",
   "execution_count": 518,
   "id": "ad47ee15",
   "metadata": {},
   "outputs": [
    {
     "data": {
      "text/html": [
       "<div>\n",
       "<style scoped>\n",
       "    .dataframe tbody tr th:only-of-type {\n",
       "        vertical-align: middle;\n",
       "    }\n",
       "\n",
       "    .dataframe tbody tr th {\n",
       "        vertical-align: top;\n",
       "    }\n",
       "\n",
       "    .dataframe thead th {\n",
       "        text-align: right;\n",
       "    }\n",
       "</style>\n",
       "<table border=\"1\" class=\"dataframe\">\n",
       "  <thead>\n",
       "    <tr style=\"text-align: right;\">\n",
       "      <th></th>\n",
       "      <th>age_fill</th>\n",
       "      <th>income_medianfill</th>\n",
       "      <th>membership_mnths</th>\n",
       "      <th>txn_count</th>\n",
       "      <th>bogo0505</th>\n",
       "      <th>bogo0510</th>\n",
       "      <th>bogo0705</th>\n",
       "      <th>bogo0710</th>\n",
       "      <th>disc0707</th>\n",
       "      <th>disc0710</th>\n",
       "      <th>disc1010</th>\n",
       "      <th>disc1020</th>\n",
       "      <th>self</th>\n",
       "      <th>bogo</th>\n",
       "      <th>discount</th>\n",
       "    </tr>\n",
       "  </thead>\n",
       "  <tbody>\n",
       "    <tr>\n",
       "      <th>count</th>\n",
       "      <td>17000.000000</td>\n",
       "      <td>17000.000000</td>\n",
       "      <td>17000.000000</td>\n",
       "      <td>17000.000000</td>\n",
       "      <td>17000.000000</td>\n",
       "      <td>17000.000000</td>\n",
       "      <td>17000.000000</td>\n",
       "      <td>17000.000000</td>\n",
       "      <td>17000.000000</td>\n",
       "      <td>17000.000000</td>\n",
       "      <td>17000.000000</td>\n",
       "      <td>17000.000000</td>\n",
       "      <td>17000.000000</td>\n",
       "      <td>17000.000000</td>\n",
       "      <td>17000.000000</td>\n",
       "    </tr>\n",
       "    <tr>\n",
       "      <th>mean</th>\n",
       "      <td>54.471118</td>\n",
       "      <td>65225.235294</td>\n",
       "      <td>51.258294</td>\n",
       "      <td>4.420706</td>\n",
       "      <td>5.579786</td>\n",
       "      <td>5.756424</td>\n",
       "      <td>3.173905</td>\n",
       "      <td>6.106716</td>\n",
       "      <td>6.025166</td>\n",
       "      <td>3.475444</td>\n",
       "      <td>7.086873</td>\n",
       "      <td>2.950674</td>\n",
       "      <td>64.283364</td>\n",
       "      <td>20.616831</td>\n",
       "      <td>19.538156</td>\n",
       "    </tr>\n",
       "    <tr>\n",
       "      <th>std</th>\n",
       "      <td>16.234809</td>\n",
       "      <td>20174.747749</td>\n",
       "      <td>13.514806</td>\n",
       "      <td>3.590379</td>\n",
       "      <td>26.100266</td>\n",
       "      <td>23.705044</td>\n",
       "      <td>12.083894</td>\n",
       "      <td>23.235877</td>\n",
       "      <td>23.244991</td>\n",
       "      <td>16.823847</td>\n",
       "      <td>28.208737</td>\n",
       "      <td>20.385077</td>\n",
       "      <td>94.533591</td>\n",
       "      <td>43.909807</td>\n",
       "      <td>45.973108</td>\n",
       "    </tr>\n",
       "    <tr>\n",
       "      <th>min</th>\n",
       "      <td>18.000000</td>\n",
       "      <td>30000.000000</td>\n",
       "      <td>34.000000</td>\n",
       "      <td>0.000000</td>\n",
       "      <td>0.000000</td>\n",
       "      <td>0.000000</td>\n",
       "      <td>0.000000</td>\n",
       "      <td>0.000000</td>\n",
       "      <td>0.000000</td>\n",
       "      <td>0.000000</td>\n",
       "      <td>0.000000</td>\n",
       "      <td>0.000000</td>\n",
       "      <td>0.000000</td>\n",
       "      <td>0.000000</td>\n",
       "      <td>0.000000</td>\n",
       "    </tr>\n",
       "    <tr>\n",
       "      <th>25%</th>\n",
       "      <td>45.000000</td>\n",
       "      <td>51000.000000</td>\n",
       "      <td>41.000000</td>\n",
       "      <td>2.000000</td>\n",
       "      <td>0.000000</td>\n",
       "      <td>0.000000</td>\n",
       "      <td>0.000000</td>\n",
       "      <td>0.000000</td>\n",
       "      <td>0.000000</td>\n",
       "      <td>0.000000</td>\n",
       "      <td>0.000000</td>\n",
       "      <td>0.000000</td>\n",
       "      <td>6.847500</td>\n",
       "      <td>0.000000</td>\n",
       "      <td>0.000000</td>\n",
       "    </tr>\n",
       "    <tr>\n",
       "      <th>50%</th>\n",
       "      <td>55.000000</td>\n",
       "      <td>64000.000000</td>\n",
       "      <td>46.000000</td>\n",
       "      <td>4.000000</td>\n",
       "      <td>0.000000</td>\n",
       "      <td>0.000000</td>\n",
       "      <td>0.000000</td>\n",
       "      <td>0.000000</td>\n",
       "      <td>0.000000</td>\n",
       "      <td>0.000000</td>\n",
       "      <td>0.000000</td>\n",
       "      <td>0.000000</td>\n",
       "      <td>33.400000</td>\n",
       "      <td>11.640000</td>\n",
       "      <td>9.590000</td>\n",
       "    </tr>\n",
       "    <tr>\n",
       "      <th>75%</th>\n",
       "      <td>65.000000</td>\n",
       "      <td>76000.000000</td>\n",
       "      <td>60.000000</td>\n",
       "      <td>6.000000</td>\n",
       "      <td>3.102500</td>\n",
       "      <td>3.130000</td>\n",
       "      <td>0.000000</td>\n",
       "      <td>3.045000</td>\n",
       "      <td>5.315000</td>\n",
       "      <td>0.000000</td>\n",
       "      <td>7.452500</td>\n",
       "      <td>0.000000</td>\n",
       "      <td>93.720000</td>\n",
       "      <td>27.355000</td>\n",
       "      <td>25.110000</td>\n",
       "    </tr>\n",
       "    <tr>\n",
       "      <th>max</th>\n",
       "      <td>101.000000</td>\n",
       "      <td>120000.000000</td>\n",
       "      <td>94.000000</td>\n",
       "      <td>32.000000</td>\n",
       "      <td>995.890000</td>\n",
       "      <td>1222.600000</td>\n",
       "      <td>689.800000</td>\n",
       "      <td>841.450000</td>\n",
       "      <td>1062.280000</td>\n",
       "      <td>779.230000</td>\n",
       "      <td>1033.780000</td>\n",
       "      <td>985.850000</td>\n",
       "      <td>1304.990000</td>\n",
       "      <td>1222.600000</td>\n",
       "      <td>1212.430000</td>\n",
       "    </tr>\n",
       "  </tbody>\n",
       "</table>\n",
       "</div>"
      ],
      "text/plain": [
       "           age_fill  income_medianfill  membership_mnths     txn_count  \\\n",
       "count  17000.000000       17000.000000      17000.000000  17000.000000   \n",
       "mean      54.471118       65225.235294         51.258294      4.420706   \n",
       "std       16.234809       20174.747749         13.514806      3.590379   \n",
       "min       18.000000       30000.000000         34.000000      0.000000   \n",
       "25%       45.000000       51000.000000         41.000000      2.000000   \n",
       "50%       55.000000       64000.000000         46.000000      4.000000   \n",
       "75%       65.000000       76000.000000         60.000000      6.000000   \n",
       "max      101.000000      120000.000000         94.000000     32.000000   \n",
       "\n",
       "           bogo0505      bogo0510      bogo0705      bogo0710      disc0707  \\\n",
       "count  17000.000000  17000.000000  17000.000000  17000.000000  17000.000000   \n",
       "mean       5.579786      5.756424      3.173905      6.106716      6.025166   \n",
       "std       26.100266     23.705044     12.083894     23.235877     23.244991   \n",
       "min        0.000000      0.000000      0.000000      0.000000      0.000000   \n",
       "25%        0.000000      0.000000      0.000000      0.000000      0.000000   \n",
       "50%        0.000000      0.000000      0.000000      0.000000      0.000000   \n",
       "75%        3.102500      3.130000      0.000000      3.045000      5.315000   \n",
       "max      995.890000   1222.600000    689.800000    841.450000   1062.280000   \n",
       "\n",
       "           disc0710      disc1010      disc1020          self          bogo  \\\n",
       "count  17000.000000  17000.000000  17000.000000  17000.000000  17000.000000   \n",
       "mean       3.475444      7.086873      2.950674     64.283364     20.616831   \n",
       "std       16.823847     28.208737     20.385077     94.533591     43.909807   \n",
       "min        0.000000      0.000000      0.000000      0.000000      0.000000   \n",
       "25%        0.000000      0.000000      0.000000      6.847500      0.000000   \n",
       "50%        0.000000      0.000000      0.000000     33.400000     11.640000   \n",
       "75%        0.000000      7.452500      0.000000     93.720000     27.355000   \n",
       "max      779.230000   1033.780000    985.850000   1304.990000   1222.600000   \n",
       "\n",
       "           discount  \n",
       "count  17000.000000  \n",
       "mean      19.538156  \n",
       "std       45.973108  \n",
       "min        0.000000  \n",
       "25%        0.000000  \n",
       "50%        9.590000  \n",
       "75%       25.110000  \n",
       "max     1212.430000  "
      ]
     },
     "execution_count": 518,
     "metadata": {},
     "output_type": "execute_result"
    }
   ],
   "source": [
    "# understand master reference dataframe\n",
    "cust_profile_txn_matrix.describe()"
   ]
  },
  {
   "cell_type": "code",
   "execution_count": 519,
   "id": "63534a7e",
   "metadata": {},
   "outputs": [
    {
     "data": {
      "text/html": [
       "<div>\n",
       "<style scoped>\n",
       "    .dataframe tbody tr th:only-of-type {\n",
       "        vertical-align: middle;\n",
       "    }\n",
       "\n",
       "    .dataframe tbody tr th {\n",
       "        vertical-align: top;\n",
       "    }\n",
       "\n",
       "    .dataframe thead th {\n",
       "        text-align: right;\n",
       "    }\n",
       "</style>\n",
       "<table border=\"1\" class=\"dataframe\">\n",
       "  <thead>\n",
       "    <tr style=\"text-align: right;\">\n",
       "      <th></th>\n",
       "      <th>age_fill</th>\n",
       "      <th>income_medianfill</th>\n",
       "      <th>membership_mnths</th>\n",
       "      <th>txn_count</th>\n",
       "      <th>bogo0505</th>\n",
       "      <th>bogo0510</th>\n",
       "      <th>bogo0705</th>\n",
       "      <th>bogo0710</th>\n",
       "      <th>disc0707</th>\n",
       "      <th>disc0710</th>\n",
       "      <th>disc1010</th>\n",
       "      <th>disc1020</th>\n",
       "      <th>self</th>\n",
       "      <th>bogo</th>\n",
       "      <th>discount</th>\n",
       "    </tr>\n",
       "  </thead>\n",
       "  <tbody>\n",
       "    <tr>\n",
       "      <th>age_fill</th>\n",
       "      <td>1.000000</td>\n",
       "      <td>0.306306</td>\n",
       "      <td>0.011432</td>\n",
       "      <td>-0.074574</td>\n",
       "      <td>0.031295</td>\n",
       "      <td>0.012364</td>\n",
       "      <td>0.039006</td>\n",
       "      <td>-0.006292</td>\n",
       "      <td>0.031358</td>\n",
       "      <td>0.032603</td>\n",
       "      <td>0.041456</td>\n",
       "      <td>0.039800</td>\n",
       "      <td>0.081819</td>\n",
       "      <td>0.032681</td>\n",
       "      <td>0.070871</td>\n",
       "    </tr>\n",
       "    <tr>\n",
       "      <th>income_medianfill</th>\n",
       "      <td>0.306306</td>\n",
       "      <td>1.000000</td>\n",
       "      <td>0.025317</td>\n",
       "      <td>-0.102132</td>\n",
       "      <td>0.092674</td>\n",
       "      <td>0.079765</td>\n",
       "      <td>0.090126</td>\n",
       "      <td>0.035192</td>\n",
       "      <td>0.091192</td>\n",
       "      <td>0.068891</td>\n",
       "      <td>0.099471</td>\n",
       "      <td>0.061043</td>\n",
       "      <td>0.269143</td>\n",
       "      <td>0.141573</td>\n",
       "      <td>0.159421</td>\n",
       "    </tr>\n",
       "    <tr>\n",
       "      <th>membership_mnths</th>\n",
       "      <td>0.011432</td>\n",
       "      <td>0.025317</td>\n",
       "      <td>1.000000</td>\n",
       "      <td>0.324458</td>\n",
       "      <td>0.031188</td>\n",
       "      <td>0.053834</td>\n",
       "      <td>0.056600</td>\n",
       "      <td>0.056559</td>\n",
       "      <td>0.041736</td>\n",
       "      <td>0.041660</td>\n",
       "      <td>0.047508</td>\n",
       "      <td>0.026441</td>\n",
       "      <td>0.139414</td>\n",
       "      <td>0.093107</td>\n",
       "      <td>0.077223</td>\n",
       "    </tr>\n",
       "    <tr>\n",
       "      <th>txn_count</th>\n",
       "      <td>-0.074574</td>\n",
       "      <td>-0.102132</td>\n",
       "      <td>0.324458</td>\n",
       "      <td>1.000000</td>\n",
       "      <td>0.051373</td>\n",
       "      <td>0.040426</td>\n",
       "      <td>0.065413</td>\n",
       "      <td>0.077514</td>\n",
       "      <td>0.077510</td>\n",
       "      <td>0.049762</td>\n",
       "      <td>0.084286</td>\n",
       "      <td>0.014798</td>\n",
       "      <td>0.532475</td>\n",
       "      <td>0.111380</td>\n",
       "      <td>0.115680</td>\n",
       "    </tr>\n",
       "    <tr>\n",
       "      <th>bogo0505</th>\n",
       "      <td>0.031295</td>\n",
       "      <td>0.092674</td>\n",
       "      <td>0.031188</td>\n",
       "      <td>0.051373</td>\n",
       "      <td>1.000000</td>\n",
       "      <td>-0.001599</td>\n",
       "      <td>-0.002300</td>\n",
       "      <td>-0.002284</td>\n",
       "      <td>0.012469</td>\n",
       "      <td>0.002935</td>\n",
       "      <td>0.006635</td>\n",
       "      <td>0.002275</td>\n",
       "      <td>0.090810</td>\n",
       "      <td>0.591702</td>\n",
       "      <td>0.012459</td>\n",
       "    </tr>\n",
       "    <tr>\n",
       "      <th>bogo0510</th>\n",
       "      <td>0.012364</td>\n",
       "      <td>0.079765</td>\n",
       "      <td>0.053834</td>\n",
       "      <td>0.040426</td>\n",
       "      <td>-0.001599</td>\n",
       "      <td>1.000000</td>\n",
       "      <td>-0.002063</td>\n",
       "      <td>0.002033</td>\n",
       "      <td>0.011892</td>\n",
       "      <td>0.006264</td>\n",
       "      <td>0.006462</td>\n",
       "      <td>0.001311</td>\n",
       "      <td>0.068015</td>\n",
       "      <td>0.539415</td>\n",
       "      <td>0.012852</td>\n",
       "    </tr>\n",
       "    <tr>\n",
       "      <th>bogo0705</th>\n",
       "      <td>0.039006</td>\n",
       "      <td>0.090126</td>\n",
       "      <td>0.056600</td>\n",
       "      <td>0.065413</td>\n",
       "      <td>-0.002300</td>\n",
       "      <td>-0.002063</td>\n",
       "      <td>1.000000</td>\n",
       "      <td>0.007361</td>\n",
       "      <td>-0.000497</td>\n",
       "      <td>0.038871</td>\n",
       "      <td>0.005381</td>\n",
       "      <td>0.023027</td>\n",
       "      <td>0.107720</td>\n",
       "      <td>0.276612</td>\n",
       "      <td>0.027486</td>\n",
       "    </tr>\n",
       "    <tr>\n",
       "      <th>bogo0710</th>\n",
       "      <td>-0.006292</td>\n",
       "      <td>0.035192</td>\n",
       "      <td>0.056559</td>\n",
       "      <td>0.077514</td>\n",
       "      <td>-0.002284</td>\n",
       "      <td>0.002033</td>\n",
       "      <td>0.007361</td>\n",
       "      <td>1.000000</td>\n",
       "      <td>0.003805</td>\n",
       "      <td>0.015004</td>\n",
       "      <td>0.000110</td>\n",
       "      <td>0.014974</td>\n",
       "      <td>0.089226</td>\n",
       "      <td>0.530938</td>\n",
       "      <td>0.014122</td>\n",
       "    </tr>\n",
       "    <tr>\n",
       "      <th>disc0707</th>\n",
       "      <td>0.031358</td>\n",
       "      <td>0.091192</td>\n",
       "      <td>0.041736</td>\n",
       "      <td>0.077510</td>\n",
       "      <td>0.012469</td>\n",
       "      <td>0.011892</td>\n",
       "      <td>-0.000497</td>\n",
       "      <td>0.003805</td>\n",
       "      <td>1.000000</td>\n",
       "      <td>0.001983</td>\n",
       "      <td>0.035122</td>\n",
       "      <td>0.007739</td>\n",
       "      <td>0.088787</td>\n",
       "      <td>0.015709</td>\n",
       "      <td>0.531329</td>\n",
       "    </tr>\n",
       "    <tr>\n",
       "      <th>disc0710</th>\n",
       "      <td>0.032603</td>\n",
       "      <td>0.068891</td>\n",
       "      <td>0.041660</td>\n",
       "      <td>0.049762</td>\n",
       "      <td>0.002935</td>\n",
       "      <td>0.006264</td>\n",
       "      <td>0.038871</td>\n",
       "      <td>0.015004</td>\n",
       "      <td>0.001983</td>\n",
       "      <td>1.000000</td>\n",
       "      <td>0.010599</td>\n",
       "      <td>0.016046</td>\n",
       "      <td>0.079322</td>\n",
       "      <td>0.023763</td>\n",
       "      <td>0.380571</td>\n",
       "    </tr>\n",
       "    <tr>\n",
       "      <th>disc1010</th>\n",
       "      <td>0.041456</td>\n",
       "      <td>0.099471</td>\n",
       "      <td>0.047508</td>\n",
       "      <td>0.084286</td>\n",
       "      <td>0.006635</td>\n",
       "      <td>0.006462</td>\n",
       "      <td>0.005381</td>\n",
       "      <td>0.000110</td>\n",
       "      <td>0.035122</td>\n",
       "      <td>0.010599</td>\n",
       "      <td>1.000000</td>\n",
       "      <td>0.002487</td>\n",
       "      <td>0.101523</td>\n",
       "      <td>0.008972</td>\n",
       "      <td>0.636332</td>\n",
       "    </tr>\n",
       "    <tr>\n",
       "      <th>disc1020</th>\n",
       "      <td>0.039800</td>\n",
       "      <td>0.061043</td>\n",
       "      <td>0.026441</td>\n",
       "      <td>0.014798</td>\n",
       "      <td>0.002275</td>\n",
       "      <td>0.001311</td>\n",
       "      <td>0.023027</td>\n",
       "      <td>0.014974</td>\n",
       "      <td>0.007739</td>\n",
       "      <td>0.016046</td>\n",
       "      <td>0.002487</td>\n",
       "      <td>1.000000</td>\n",
       "      <td>0.047917</td>\n",
       "      <td>0.016321</td>\n",
       "      <td>0.454724</td>\n",
       "    </tr>\n",
       "    <tr>\n",
       "      <th>self</th>\n",
       "      <td>0.081819</td>\n",
       "      <td>0.269143</td>\n",
       "      <td>0.139414</td>\n",
       "      <td>0.532475</td>\n",
       "      <td>0.090810</td>\n",
       "      <td>0.068015</td>\n",
       "      <td>0.107720</td>\n",
       "      <td>0.089226</td>\n",
       "      <td>0.088787</td>\n",
       "      <td>0.079322</td>\n",
       "      <td>0.101523</td>\n",
       "      <td>0.047917</td>\n",
       "      <td>1.000000</td>\n",
       "      <td>0.167556</td>\n",
       "      <td>0.157461</td>\n",
       "    </tr>\n",
       "    <tr>\n",
       "      <th>bogo</th>\n",
       "      <td>0.032681</td>\n",
       "      <td>0.141573</td>\n",
       "      <td>0.093107</td>\n",
       "      <td>0.111380</td>\n",
       "      <td>0.591702</td>\n",
       "      <td>0.539415</td>\n",
       "      <td>0.276612</td>\n",
       "      <td>0.530938</td>\n",
       "      <td>0.015709</td>\n",
       "      <td>0.023763</td>\n",
       "      <td>0.008972</td>\n",
       "      <td>0.016321</td>\n",
       "      <td>0.167556</td>\n",
       "      <td>1.000000</td>\n",
       "      <td>0.029381</td>\n",
       "    </tr>\n",
       "    <tr>\n",
       "      <th>discount</th>\n",
       "      <td>0.070871</td>\n",
       "      <td>0.159421</td>\n",
       "      <td>0.077223</td>\n",
       "      <td>0.115680</td>\n",
       "      <td>0.012459</td>\n",
       "      <td>0.012852</td>\n",
       "      <td>0.027486</td>\n",
       "      <td>0.014122</td>\n",
       "      <td>0.531329</td>\n",
       "      <td>0.380571</td>\n",
       "      <td>0.636332</td>\n",
       "      <td>0.454724</td>\n",
       "      <td>0.157461</td>\n",
       "      <td>0.029381</td>\n",
       "      <td>1.000000</td>\n",
       "    </tr>\n",
       "  </tbody>\n",
       "</table>\n",
       "</div>"
      ],
      "text/plain": [
       "                   age_fill  income_medianfill  membership_mnths  txn_count  \\\n",
       "age_fill           1.000000           0.306306          0.011432  -0.074574   \n",
       "income_medianfill  0.306306           1.000000          0.025317  -0.102132   \n",
       "membership_mnths   0.011432           0.025317          1.000000   0.324458   \n",
       "txn_count         -0.074574          -0.102132          0.324458   1.000000   \n",
       "bogo0505           0.031295           0.092674          0.031188   0.051373   \n",
       "bogo0510           0.012364           0.079765          0.053834   0.040426   \n",
       "bogo0705           0.039006           0.090126          0.056600   0.065413   \n",
       "bogo0710          -0.006292           0.035192          0.056559   0.077514   \n",
       "disc0707           0.031358           0.091192          0.041736   0.077510   \n",
       "disc0710           0.032603           0.068891          0.041660   0.049762   \n",
       "disc1010           0.041456           0.099471          0.047508   0.084286   \n",
       "disc1020           0.039800           0.061043          0.026441   0.014798   \n",
       "self               0.081819           0.269143          0.139414   0.532475   \n",
       "bogo               0.032681           0.141573          0.093107   0.111380   \n",
       "discount           0.070871           0.159421          0.077223   0.115680   \n",
       "\n",
       "                   bogo0505  bogo0510  bogo0705  bogo0710  disc0707  disc0710  \\\n",
       "age_fill           0.031295  0.012364  0.039006 -0.006292  0.031358  0.032603   \n",
       "income_medianfill  0.092674  0.079765  0.090126  0.035192  0.091192  0.068891   \n",
       "membership_mnths   0.031188  0.053834  0.056600  0.056559  0.041736  0.041660   \n",
       "txn_count          0.051373  0.040426  0.065413  0.077514  0.077510  0.049762   \n",
       "bogo0505           1.000000 -0.001599 -0.002300 -0.002284  0.012469  0.002935   \n",
       "bogo0510          -0.001599  1.000000 -0.002063  0.002033  0.011892  0.006264   \n",
       "bogo0705          -0.002300 -0.002063  1.000000  0.007361 -0.000497  0.038871   \n",
       "bogo0710          -0.002284  0.002033  0.007361  1.000000  0.003805  0.015004   \n",
       "disc0707           0.012469  0.011892 -0.000497  0.003805  1.000000  0.001983   \n",
       "disc0710           0.002935  0.006264  0.038871  0.015004  0.001983  1.000000   \n",
       "disc1010           0.006635  0.006462  0.005381  0.000110  0.035122  0.010599   \n",
       "disc1020           0.002275  0.001311  0.023027  0.014974  0.007739  0.016046   \n",
       "self               0.090810  0.068015  0.107720  0.089226  0.088787  0.079322   \n",
       "bogo               0.591702  0.539415  0.276612  0.530938  0.015709  0.023763   \n",
       "discount           0.012459  0.012852  0.027486  0.014122  0.531329  0.380571   \n",
       "\n",
       "                   disc1010  disc1020      self      bogo  discount  \n",
       "age_fill           0.041456  0.039800  0.081819  0.032681  0.070871  \n",
       "income_medianfill  0.099471  0.061043  0.269143  0.141573  0.159421  \n",
       "membership_mnths   0.047508  0.026441  0.139414  0.093107  0.077223  \n",
       "txn_count          0.084286  0.014798  0.532475  0.111380  0.115680  \n",
       "bogo0505           0.006635  0.002275  0.090810  0.591702  0.012459  \n",
       "bogo0510           0.006462  0.001311  0.068015  0.539415  0.012852  \n",
       "bogo0705           0.005381  0.023027  0.107720  0.276612  0.027486  \n",
       "bogo0710           0.000110  0.014974  0.089226  0.530938  0.014122  \n",
       "disc0707           0.035122  0.007739  0.088787  0.015709  0.531329  \n",
       "disc0710           0.010599  0.016046  0.079322  0.023763  0.380571  \n",
       "disc1010           1.000000  0.002487  0.101523  0.008972  0.636332  \n",
       "disc1020           0.002487  1.000000  0.047917  0.016321  0.454724  \n",
       "self               0.101523  0.047917  1.000000  0.167556  0.157461  \n",
       "bogo               0.008972  0.016321  0.167556  1.000000  0.029381  \n",
       "discount           0.636332  0.454724  0.157461  0.029381  1.000000  "
      ]
     },
     "execution_count": 519,
     "metadata": {},
     "output_type": "execute_result"
    }
   ],
   "source": [
    "cust_profile_txn_matrix.corr()"
   ]
  },
  {
   "cell_type": "markdown",
   "id": "f22169bf",
   "metadata": {},
   "source": [
    "# 4.2 PCA (Dimension Reduction)"
   ]
  },
  {
   "cell_type": "code",
   "execution_count": 520,
   "id": "282c879c",
   "metadata": {},
   "outputs": [
    {
     "data": {
      "text/plain": [
       "Index(['age_fill', 'income_medianfill', 'membership_mnths', 'gender-fill',\n",
       "       'txn_count', 'bogo0505', 'bogo0510', 'bogo0705', 'bogo0710', 'disc0707',\n",
       "       'disc0710', 'disc1010', 'disc1020', 'self', 'bogo', 'discount',\n",
       "       'custtype'],\n",
       "      dtype='object')"
      ]
     },
     "execution_count": 520,
     "metadata": {},
     "output_type": "execute_result"
    }
   ],
   "source": [
    "cust_profile_txn_matrix.columns"
   ]
  },
  {
   "cell_type": "markdown",
   "id": "392b70be",
   "metadata": {},
   "source": [
    "The columns of the cust_profile_txn_matrix dataframe represent the different factors (features) which could be used to segment the sample customer base. The preferred factors would depend on:\n",
    "- choice of basis for segmentation: demograhics, customer behaviour etc.\n",
    "- relative strengths of individual factors as determined by PCA analysis\n",
    "\n",
    "To facilitate decision making, 2 segmentation scenarios would be reviewed. Scenario 1 will review the use of demographic factors while Scenario 2 will explore the use of customer behavior related factors. Both will be reviewed and the most suitable scenario adopted for the rest of the analysis"
   ]
  },
  {
   "cell_type": "markdown",
   "id": "8262ea9e",
   "metadata": {},
   "source": [
    "Definitions"
   ]
  },
  {
   "cell_type": "code",
   "execution_count": 521,
   "id": "428ac493",
   "metadata": {},
   "outputs": [],
   "source": [
    "from sklearn.decomposition import PCA\n",
    "from sklearn.preprocessing import StandardScaler"
   ]
  },
  {
   "cell_type": "code",
   "execution_count": 522,
   "id": "7916de84",
   "metadata": {},
   "outputs": [],
   "source": [
    "def showkeycomponents(df):\n",
    "    '''\n",
    "    INPUT:\n",
    "    df - (pandas dataframe) with features for principal component analysis\n",
    "    \n",
    "    OUTPUT:\n",
    "    PCA_components - (pandas dataframe) transformed data of principal components \n",
    "    '''\n",
    "    X_std = StandardScaler().fit_transform(df.values)\n",
    "    pca = PCA(n_components=0.90) # return components that explain 90% of variance in data\n",
    "    principalComponents = pca.fit_transform(X_std)\n",
    "    PCA_components = pd.DataFrame(principalComponents)\n",
    "    features = range(pca.n_components_)\n",
    "    plt.bar(features, pca.explained_variance_ratio_, color='black')\n",
    "    plt.plot(features, pca.explained_variance_ratio_.cumsum(), color='blue', linestyle='--', marker ='o')\n",
    "    plt.grid(True)\n",
    "    return PCA_components "
   ]
  },
  {
   "cell_type": "code",
   "execution_count": 523,
   "id": "ccc89c80",
   "metadata": {},
   "outputs": [],
   "source": [
    "def threeDplot(df):\n",
    "    '''\n",
    "    INPUT:\n",
    "    df - (pandas dataframe) with features for scatter plot\n",
    "    \n",
    "    OUTPUT:\n",
    "    \n",
    "    '''\n",
    "    fig = plt.figure(figsize = (5, 5))\n",
    "    ax = plt.axes(projection =\"3d\")\n",
    " \n",
    "    # Creating plot\n",
    "    ax.scatter3D(df[0],df[1],df[2], color = \"black\")\n",
    "    plt.title(\"3D scatter plot\")\n",
    "    ax.set_xlabel('X Label')\n",
    "    ax.set_ylabel('Y Label')\n",
    "    ax.set_zlabel('Z Label')\n",
    "    ax.view_init(30, 60)\n",
    " \n",
    "    # show plot\n",
    "    plt.show()\n",
    "    return None    "
   ]
  },
  {
   "cell_type": "markdown",
   "id": "496bf4ac",
   "metadata": {},
   "source": [
    "One Hot Encoding for categorical Columns/Features"
   ]
  },
  {
   "cell_type": "code",
   "execution_count": 524,
   "id": "1f56f249",
   "metadata": {},
   "outputs": [],
   "source": [
    "# transformation for gender and membership class\n",
    "df_temp = pd.get_dummies((pd.get_dummies(cust_profile_txn_matrix, columns=['gender-fill'])), columns=['custtype'])"
   ]
  },
  {
   "cell_type": "markdown",
   "id": "8d54cea1",
   "metadata": {},
   "source": [
    "**SCENARIO 1: Segmentation Using Demograhics Data + Membership Class (Income, Age, Sex, Membership Type)**"
   ]
  },
  {
   "cell_type": "code",
   "execution_count": 525,
   "id": "e0fb8dc9",
   "metadata": {},
   "outputs": [
    {
     "data": {
      "text/plain": [
       "(17000, 7)"
      ]
     },
     "execution_count": 525,
     "metadata": {},
     "output_type": "execute_result"
    }
   ],
   "source": [
    "# Features list and resulting dataframe\n",
    "features_list = ['income_medianfill','age_fill','custtype_new','custtype_old','gender-fill_F','gender-fill_M','gender-fill_O']\n",
    "df_cust_test = df_temp[features_list]\n",
    "df_cust_test.shape"
   ]
  },
  {
   "cell_type": "code",
   "execution_count": 526,
   "id": "6db801e8",
   "metadata": {},
   "outputs": [
    {
     "data": {
      "image/png": "[encoded data removed]",
      "text/plain": [
       "<Figure size 432x288 with 1 Axes>"
      ]
     },
     "metadata": {},
     "output_type": "display_data"
    }
   ],
   "source": [
    "# Call PCA showkeycomponents\n",
    "analysis_demographics = showkeycomponents(df_cust_test)"
   ]
  },
  {
   "cell_type": "code",
   "execution_count": 527,
   "id": "da11080b",
   "metadata": {},
   "outputs": [
    {
     "name": "stdout",
     "output_type": "stream",
     "text": [
      "Dataframe dimension before PCA: (17000, 7)\n",
      "Dataframe dimension after PCA: (17000, 4)\n"
     ]
    }
   ],
   "source": [
    "# Data dimension before and after PCA for Experiment 1 (Segmenting Using Demographics Data)\n",
    "print(\"Dataframe dimension before PCA: {}\".format(df_cust_test.shape))\n",
    "print(\"Dataframe dimension after PCA: {}\".format(analysis_demographics.shape))"
   ]
  },
  {
   "cell_type": "code",
   "execution_count": 528,
   "id": "5c43be3f",
   "metadata": {},
   "outputs": [
    {
     "data": {
      "image/png": "[encoded data removed]",
      "text/plain": [
       "<Figure size 360x360 with 1 Axes>"
      ]
     },
     "metadata": {},
     "output_type": "display_data"
    }
   ],
   "source": [
    "# 3D plot of top 3 components\n",
    "threeDplot(analysis_demographics)"
   ]
  },
  {
   "cell_type": "markdown",
   "id": "181c2bcc",
   "metadata": {},
   "source": [
    "**SCENARIO 2: Segmentation Using Customer Bahaviour (Self, Bogo, Discount, Membership Class)**"
   ]
  },
  {
   "cell_type": "code",
   "execution_count": 529,
   "id": "e646ba0a",
   "metadata": {},
   "outputs": [
    {
     "data": {
      "text/plain": [
       "(17000, 5)"
      ]
     },
     "execution_count": 529,
     "metadata": {},
     "output_type": "execute_result"
    }
   ],
   "source": [
    "# Features list and resulting dataframe\n",
    "features_list =['self','bogo','discount','custtype_new','custtype_old']\n",
    "df_cust_test = df_temp[features_list]\n",
    "df_cust_test.shape"
   ]
  },
  {
   "cell_type": "code",
   "execution_count": 530,
   "id": "a339d0f5",
   "metadata": {},
   "outputs": [
    {
     "data": {
      "image/png": "[encoded data removed]",
      "text/plain": [
       "<Figure size 432x288 with 1 Axes>"
      ]
     },
     "metadata": {},
     "output_type": "display_data"
    }
   ],
   "source": [
    "# Call PCA showkeycomponents\n",
    "analysis_cust_behave = showkeycomponents(df_cust_test)"
   ]
  },
  {
   "cell_type": "code",
   "execution_count": 531,
   "id": "7dc9e059",
   "metadata": {},
   "outputs": [
    {
     "name": "stdout",
     "output_type": "stream",
     "text": [
      "Dataframe dimension before PCA: (17000, 5)\n",
      "Dataframe dimension after PCA: (17000, 4)\n"
     ]
    }
   ],
   "source": [
    "# Data dimension before and after PCA for Experiment 1 (Segmenting Using Demographics Data)\n",
    "print(\"Dataframe dimension before PCA: {}\".format(df_cust_test.shape))\n",
    "print(\"Dataframe dimension after PCA: {}\".format(analysis_cust_behave.shape))"
   ]
  },
  {
   "cell_type": "code",
   "execution_count": 532,
   "id": "463b4b04",
   "metadata": {},
   "outputs": [
    {
     "data": {
      "image/png": "[encoded data removed]",
      "text/plain": [
       "<Figure size 360x360 with 1 Axes>"
      ]
     },
     "metadata": {},
     "output_type": "display_data"
    }
   ],
   "source": [
    "# 3D plot of top 3 components\n",
    "threeDplot(analysis_cust_behave)"
   ]
  },
  {
   "cell_type": "markdown",
   "id": "91074a16",
   "metadata": {},
   "source": [
    "Comment(s):\n",
    "\n",
    "Scenario 1\n",
    "- requires 5 components to describe 90% of the variance in data\n",
    "- 3D plot of top 3 components suggests the presence of distinct clusters\n",
    "\n",
    "Scenario 2\n",
    "- requires 4 components to describe 90% of the variance in data\n",
    "- 3D plot of top 3 components suggests the presence of distinct clusters"
   ]
  },
  {
   "cell_type": "markdown",
   "id": "cd70437b",
   "metadata": {},
   "source": [
    "# 4.3 K-means Clustering"
   ]
  },
  {
   "cell_type": "markdown",
   "id": "79301f52",
   "metadata": {},
   "source": [
    "Definitions"
   ]
  },
  {
   "cell_type": "code",
   "execution_count": 533,
   "id": "eafefc31",
   "metadata": {},
   "outputs": [],
   "source": [
    "from sklearn.preprocessing import MaxAbsScaler\n",
    "from sklearn.cluster import KMeans\n",
    "from sklearn.metrics import silhouette_score"
   ]
  },
  {
   "cell_type": "code",
   "execution_count": 534,
   "id": "0ad7cbd0",
   "metadata": {},
   "outputs": [],
   "source": [
    "def normalize_data(df_to_normalize, no_of_components):\n",
    "    '''\n",
    "    INPUT:\n",
    "    df_to_normalize - (pandas dataframe) with features requiring standardization\n",
    "    no_of_components - (int)\n",
    "    \n",
    "    \n",
    "    OUTPUT:\n",
    "    df_normalized - (pandas dataframe) with standardized data using MaxAbsScaler\n",
    "    '''\n",
    "    scaler = MaxAbsScaler()\n",
    "    scaler.fit(df_to_normalize)\n",
    "    df_normalized = pd.DataFrame(scaler.transform(df_to_normalize), columns=df_to_normalize.columns)\n",
    "    return df_normalized.iloc[:,:no_of_components]\n",
    "    "
   ]
  },
  {
   "cell_type": "code",
   "execution_count": 535,
   "id": "3ca24ded",
   "metadata": {},
   "outputs": [],
   "source": [
    "def kmeans_cluster_no(df_normalized, components, max_no_cluster=20):\n",
    "    '''\n",
    "    INPUT:\n",
    "    df_to_normalize - (pandas dataframe) with features requiring standardization\n",
    "    no_of_components - (int) number of features to use in function\n",
    "    max_no_cluster - (int) number of clusters to iterate to\n",
    "    \n",
    "    \n",
    "    OUTPUT:\n",
    "    None\n",
    "    '''\n",
    "    wcss = []\n",
    "    X = df_normalized.iloc[:,:components].values\n",
    "    for i in range(1, max_no_cluster):\n",
    "        kmeans = KMeans(n_clusters=i, init='k-means++', random_state=0)\n",
    "        kmeans.fit(X)\n",
    "        wcss.append(kmeans.inertia_)\n",
    "    plt.plot(range(1,max_no_cluster),wcss)\n",
    "    plt.xlabel('number of clusters')\n",
    "    plt.ylabel('wcss values')\n",
    "    plt.title('The Elbow Method')\n",
    "    plt.grid(True)\n",
    "    plt.show()\n",
    "    return None"
   ]
  },
  {
   "cell_type": "code",
   "execution_count": 536,
   "id": "74ef4ea0",
   "metadata": {},
   "outputs": [],
   "source": [
    "def silhouette_cluster_no(df_normalized, max_no_cluster=10):\n",
    "    '''\n",
    "    INPUT:\n",
    "    df_to_normalize - (pandas dataframe) with features requiring standardization\n",
    "    max_no_cluster - (int) number of clusters required\n",
    "    \n",
    "    \n",
    "    OUTPUT:\n",
    "    num_cluster - (int) number of segments based on highest silhouette score\n",
    "    '''\n",
    "    \n",
    "    range_n_clusters = list (range(2,max_no_cluster))\n",
    "    cluster_scores = []\n",
    "    \n",
    "    for n_clusters in range_n_clusters:\n",
    "        clusterer = KMeans(n_clusters=n_clusters,init='k-means++', random_state=0)\n",
    "        preds = clusterer.fit_predict(df_normalized)\n",
    "        centers = clusterer.cluster_centers_\n",
    "        score = silhouette_score(df_normalized, preds)\n",
    "        \n",
    "        cluster_scores.append(score)\n",
    "        \n",
    "        print(\"For n_clusters = {}, silhouette score is {})\".format(n_clusters, score))\n",
    "    \n",
    "    num_cluster = np.argmax(np.array(cluster_scores)) + 2\n",
    "    print(\"Recommended number of clusters: {}\".format(num_cluster))\n",
    "    \n",
    "    return num_cluster"
   ]
  },
  {
   "cell_type": "code",
   "execution_count": 537,
   "id": "dcecbf4d",
   "metadata": {},
   "outputs": [],
   "source": [
    "def cluster_data(df_normalized, cluster_num):\n",
    "    '''\n",
    "    INPUT:\n",
    "    df_to_normalize - (pandas dataframe) with features requiring standardization\n",
    "    cluster_num - (int) number of clusters required\n",
    "    \n",
    "    \n",
    "    OUTPUT:\n",
    "    kcategories - (series) index values with cluster number assigned\n",
    "    '''\n",
    "    kmeansmodel = KMeans(n_clusters=cluster_num, init='k-means++', random_state=0)\n",
    "    y_kmeans = kmeansmodel.fit_predict(df_normalized)\n",
    "    kcategories = y_kmeans\n",
    "    return kcategories"
   ]
  },
  {
   "cell_type": "markdown",
   "id": "b7851d91",
   "metadata": {},
   "source": [
    "**SCENARIO 1: Segmentation Using Demograhics Data + Membership Class (Income, Age, Sex, Membership Type)**"
   ]
  },
  {
   "cell_type": "code",
   "execution_count": 538,
   "id": "a194becd",
   "metadata": {},
   "outputs": [
    {
     "data": {
      "image/png": "[encoded data removed]",
      "text/plain": [
       "<Figure size 432x288 with 1 Axes>"
      ]
     },
     "metadata": {},
     "output_type": "display_data"
    }
   ],
   "source": [
    "# Identify Number of Clusters: Elbow Method\n",
    "kmeans_cluster_no(df_normalized=analysis_demographics,components=analysis_demographics.shape[1],max_no_cluster=15)"
   ]
  },
  {
   "cell_type": "code",
   "execution_count": 539,
   "id": "b1f52bd9",
   "metadata": {},
   "outputs": [
    {
     "name": "stdout",
     "output_type": "stream",
     "text": [
      "For n_clusters = 2, silhouette score is 0.4882267194509293)\n",
      "For n_clusters = 3, silhouette score is 0.5971255574291975)\n",
      "For n_clusters = 4, silhouette score is 0.6233933414678664)\n",
      "For n_clusters = 5, silhouette score is 0.5988084451520002)\n",
      "For n_clusters = 6, silhouette score is 0.578431606189459)\n",
      "For n_clusters = 7, silhouette score is 0.5822989360994745)\n",
      "For n_clusters = 8, silhouette score is 0.6010493698058385)\n",
      "For n_clusters = 9, silhouette score is 0.5898320014721434)\n",
      "Recommended number of clusters: 4\n"
     ]
    }
   ],
   "source": [
    "# Identify Number of Clusters: Silhouette Method\n",
    "cluster_no_s1 = silhouette_cluster_no(df_normalized=analysis_demographics)"
   ]
  },
  {
   "cell_type": "markdown",
   "id": "b85ac587",
   "metadata": {},
   "source": [
    "**SCENARIO 2: Segmentation Using Customer Bahaviour (Self, Bogo, Discount, Membership Class)**"
   ]
  },
  {
   "cell_type": "code",
   "execution_count": 540,
   "id": "988ac253",
   "metadata": {},
   "outputs": [
    {
     "data": {
      "image/png": "[encoded data removed]",
      "text/plain": [
       "<Figure size 432x288 with 1 Axes>"
      ]
     },
     "metadata": {},
     "output_type": "display_data"
    }
   ],
   "source": [
    "# Identify Number of Clusters: Elbow Method\n",
    "kmeans_cluster_no(df_normalized=analysis_cust_behave,components=analysis_cust_behave.shape[1],max_no_cluster=15)"
   ]
  },
  {
   "cell_type": "code",
   "execution_count": 541,
   "id": "edbd534b",
   "metadata": {},
   "outputs": [
    {
     "name": "stdout",
     "output_type": "stream",
     "text": [
      "For n_clusters = 2, silhouette score is 0.7125152843614216)\n",
      "For n_clusters = 3, silhouette score is 0.722488624591162)\n",
      "For n_clusters = 4, silhouette score is 0.7323547442117891)\n",
      "For n_clusters = 5, silhouette score is 0.7456155029082963)\n",
      "For n_clusters = 6, silhouette score is 0.49032224240633265)\n",
      "For n_clusters = 7, silhouette score is 0.493697623404042)\n",
      "For n_clusters = 8, silhouette score is 0.5055823302030921)\n",
      "For n_clusters = 9, silhouette score is 0.45528811365925625)\n",
      "Recommended number of clusters: 5\n"
     ]
    }
   ],
   "source": [
    "# Identify Number of Clusters: Silhouette Method\n",
    "cluster_no_s2 = silhouette_cluster_no(df_normalized=analysis_cust_behave)"
   ]
  },
  {
   "cell_type": "markdown",
   "id": "ea9ca241",
   "metadata": {},
   "source": [
    "**Segmentation: Demograhics vs Customer Behaviour**\n",
    "\n",
    "- Both methods result in four(4)/ five(5) clusters though customer behaviour has a higher silhouette score (0.7456) compared to demograhics (0.6234). By definition, the closer the score is to 1, the better.\n",
    "\n",
    "\n",
    "- The use of demograhics data (age, income, sex etc.) required extensive data cleaning/manipulation to address for nulls. These impacted the underlying distribution of original data as well as accuracy of the clustering/segmentation task. In addition, the dependence on customers to provide these data is a weakness of this approach as changes in certain factors (income, sex etc.) is usually not communicated in real time or at all. Overall, the use of demographic data will create a static and most likely obsolete segmentation which might work for this test but would be unable to adapt quickly to changes in factors.\n",
    "\n",
    "\n",
    "- The use of customer behaviour data addresses the concerns of using demographics data to segment. Willingness to spend and preferences are better factors for segmenting customers especially for profit-seeking businesses like Starbucks. In addition, data required is sourced from business systems and returns with no nulls. Most importantly, this approach is more responsive as changes in customer behaviour are inferred from transactions and eliminates need to depend on customers for key information.\n",
    "\n",
    "\n",
    "- Finally, in the event of new customers who refuse to supply income/age/sex information, the demographics based model will fail while the customer behaviour based model will not as customer transactions will suffice.\n"
   ]
  },
  {
   "cell_type": "markdown",
   "id": "a669439c",
   "metadata": {},
   "source": [
    "**Conclusion**\n",
    "\n",
    "Scenario 2 is the preferred solution and customer behaviour will be the basis for segmenting sample customer base"
   ]
  },
  {
   "cell_type": "markdown",
   "id": "c2b2ba17",
   "metadata": {},
   "source": [
    "<a id=\"interpretation\"></a>"
   ]
  },
  {
   "cell_type": "markdown",
   "id": "4598f5fb",
   "metadata": {},
   "source": [
    "# 5.0 Insights"
   ]
  },
  {
   "cell_type": "markdown",
   "id": "a4045851",
   "metadata": {},
   "source": [
    "[back to top menu](#toplevel)"
   ]
  },
  {
   "cell_type": "markdown",
   "id": "74349ee9",
   "metadata": {},
   "source": [
    "# 5.1 Mapping users/customers to categories"
   ]
  },
  {
   "cell_type": "code",
   "execution_count": 542,
   "id": "2a7ca9e9",
   "metadata": {},
   "outputs": [
    {
     "data": {
      "text/html": [
       "<div>\n",
       "<style scoped>\n",
       "    .dataframe tbody tr th:only-of-type {\n",
       "        vertical-align: middle;\n",
       "    }\n",
       "\n",
       "    .dataframe tbody tr th {\n",
       "        vertical-align: top;\n",
       "    }\n",
       "\n",
       "    .dataframe thead th {\n",
       "        text-align: right;\n",
       "    }\n",
       "</style>\n",
       "<table border=\"1\" class=\"dataframe\">\n",
       "  <thead>\n",
       "    <tr style=\"text-align: right;\">\n",
       "      <th></th>\n",
       "      <th>age_fill</th>\n",
       "      <th>income_medianfill</th>\n",
       "      <th>membership_mnths</th>\n",
       "      <th>txn_count</th>\n",
       "      <th>bogo0505</th>\n",
       "      <th>bogo0510</th>\n",
       "      <th>bogo0705</th>\n",
       "      <th>bogo0710</th>\n",
       "      <th>disc0707</th>\n",
       "      <th>disc0710</th>\n",
       "      <th>...</th>\n",
       "      <th>disc1020</th>\n",
       "      <th>self</th>\n",
       "      <th>bogo</th>\n",
       "      <th>discount</th>\n",
       "      <th>gender-fill_F</th>\n",
       "      <th>gender-fill_M</th>\n",
       "      <th>gender-fill_O</th>\n",
       "      <th>custtype_new</th>\n",
       "      <th>custtype_old</th>\n",
       "      <th>category</th>\n",
       "    </tr>\n",
       "    <tr>\n",
       "      <th>user_id</th>\n",
       "      <th></th>\n",
       "      <th></th>\n",
       "      <th></th>\n",
       "      <th></th>\n",
       "      <th></th>\n",
       "      <th></th>\n",
       "      <th></th>\n",
       "      <th></th>\n",
       "      <th></th>\n",
       "      <th></th>\n",
       "      <th></th>\n",
       "      <th></th>\n",
       "      <th></th>\n",
       "      <th></th>\n",
       "      <th></th>\n",
       "      <th></th>\n",
       "      <th></th>\n",
       "      <th></th>\n",
       "      <th></th>\n",
       "      <th></th>\n",
       "      <th></th>\n",
       "    </tr>\n",
       "  </thead>\n",
       "  <tbody>\n",
       "    <tr>\n",
       "      <th>1</th>\n",
       "      <td>55.0</td>\n",
       "      <td>64000.0</td>\n",
       "      <td>52</td>\n",
       "      <td>0.0</td>\n",
       "      <td>0.0</td>\n",
       "      <td>0.0</td>\n",
       "      <td>0.00</td>\n",
       "      <td>0.0</td>\n",
       "      <td>7.54</td>\n",
       "      <td>0.0</td>\n",
       "      <td>...</td>\n",
       "      <td>0.35</td>\n",
       "      <td>0.00</td>\n",
       "      <td>0.00</td>\n",
       "      <td>20.4</td>\n",
       "      <td>0</td>\n",
       "      <td>1</td>\n",
       "      <td>0</td>\n",
       "      <td>0</td>\n",
       "      <td>1</td>\n",
       "      <td>0</td>\n",
       "    </tr>\n",
       "    <tr>\n",
       "      <th>2</th>\n",
       "      <td>55.0</td>\n",
       "      <td>112000.0</td>\n",
       "      <td>47</td>\n",
       "      <td>3.0</td>\n",
       "      <td>0.0</td>\n",
       "      <td>0.0</td>\n",
       "      <td>0.00</td>\n",
       "      <td>0.0</td>\n",
       "      <td>0.00</td>\n",
       "      <td>0.0</td>\n",
       "      <td>...</td>\n",
       "      <td>0.00</td>\n",
       "      <td>77.01</td>\n",
       "      <td>0.00</td>\n",
       "      <td>0.0</td>\n",
       "      <td>1</td>\n",
       "      <td>0</td>\n",
       "      <td>0</td>\n",
       "      <td>0</td>\n",
       "      <td>1</td>\n",
       "      <td>0</td>\n",
       "    </tr>\n",
       "    <tr>\n",
       "      <th>3</th>\n",
       "      <td>55.0</td>\n",
       "      <td>64000.0</td>\n",
       "      <td>35</td>\n",
       "      <td>5.0</td>\n",
       "      <td>0.0</td>\n",
       "      <td>0.0</td>\n",
       "      <td>2.14</td>\n",
       "      <td>0.0</td>\n",
       "      <td>0.00</td>\n",
       "      <td>0.0</td>\n",
       "      <td>...</td>\n",
       "      <td>0.00</td>\n",
       "      <td>12.16</td>\n",
       "      <td>2.14</td>\n",
       "      <td>0.0</td>\n",
       "      <td>0</td>\n",
       "      <td>1</td>\n",
       "      <td>0</td>\n",
       "      <td>1</td>\n",
       "      <td>0</td>\n",
       "      <td>1</td>\n",
       "    </tr>\n",
       "  </tbody>\n",
       "</table>\n",
       "<p>3 rows × 21 columns</p>\n",
       "</div>"
      ],
      "text/plain": [
       "         age_fill  income_medianfill  membership_mnths  txn_count  bogo0505  \\\n",
       "user_id                                                                       \n",
       "1            55.0            64000.0                52        0.0       0.0   \n",
       "2            55.0           112000.0                47        3.0       0.0   \n",
       "3            55.0            64000.0                35        5.0       0.0   \n",
       "\n",
       "         bogo0510  bogo0705  bogo0710  disc0707  disc0710  ...  disc1020  \\\n",
       "user_id                                                    ...             \n",
       "1             0.0      0.00       0.0      7.54       0.0  ...      0.35   \n",
       "2             0.0      0.00       0.0      0.00       0.0  ...      0.00   \n",
       "3             0.0      2.14       0.0      0.00       0.0  ...      0.00   \n",
       "\n",
       "          self  bogo  discount  gender-fill_F  gender-fill_M  gender-fill_O  \\\n",
       "user_id                                                                       \n",
       "1         0.00  0.00      20.4              0              1              0   \n",
       "2        77.01  0.00       0.0              1              0              0   \n",
       "3        12.16  2.14       0.0              0              1              0   \n",
       "\n",
       "         custtype_new  custtype_old  category  \n",
       "user_id                                        \n",
       "1                   0             1         0  \n",
       "2                   0             1         0  \n",
       "3                   1             0         1  \n",
       "\n",
       "[3 rows x 21 columns]"
      ]
     },
     "execution_count": 542,
     "metadata": {},
     "output_type": "execute_result"
    }
   ],
   "source": [
    "# mapping users to categories\n",
    "\n",
    "# cluster categories\n",
    "cluster_category = cluster_data(df_normalized=analysis_cust_behave, cluster_num = cluster_no_s2)\n",
    "\n",
    "# Assign to matrix\n",
    "cust_profile_txn_matrix = df_temp\n",
    "cust_profile_txn_matrix['category']=cluster_category\n",
    "cust_profile_txn_matrix.head(3)"
   ]
  },
  {
   "cell_type": "markdown",
   "id": "4e0aeab2",
   "metadata": {},
   "source": [
    "## 5.2 Basic Cluster Characteristics"
   ]
  },
  {
   "cell_type": "code",
   "execution_count": 543,
   "id": "71d68f5a",
   "metadata": {},
   "outputs": [
    {
     "name": "stdout",
     "output_type": "stream",
     "text": [
      "Summary: Cluster 0\n",
      "          self     bogo  discount  custtype_new  custtype_old\n",
      "count  14760.0  14760.0   14760.0       14760.0       14760.0\n",
      "min        0.0      0.0       0.0           0.0           1.0\n",
      "mean      60.5     19.6      18.2           0.0           1.0\n",
      "max      358.8    326.2     332.0           0.0           1.0\n",
      "\n",
      "\n",
      "Summary: Cluster 1\n",
      "         self    bogo  discount  custtype_new  custtype_old\n",
      "count  1920.0  1920.0    1920.0        1920.0        1920.0\n",
      "min       0.0     0.0       0.0           1.0           0.0\n",
      "mean     25.6    10.0      10.0           1.0           0.0\n",
      "max     443.3   179.0     285.7           1.0           0.0\n",
      "\n",
      "\n",
      "Summary: Cluster 2\n",
      "        self  bogo  discount  custtype_new  custtype_old\n",
      "count   57.0  57.0      57.0          57.0          57.0\n",
      "min      0.0   0.0     346.0           0.0           0.0\n",
      "mean   103.6  27.2     658.3           0.1           0.9\n",
      "max    267.2  99.0    1212.4           1.0           1.0\n",
      "\n",
      "\n",
      "Summary: Cluster 3\n",
      "         self   bogo  discount  custtype_new  custtype_old\n",
      "count   208.0  208.0     208.0         208.0         208.0\n",
      "min     361.5    0.0       0.0           0.0           0.0\n",
      "mean    660.9   29.7      26.9           0.0           1.0\n",
      "max    1305.0  131.6     125.2           1.0           1.0\n",
      "\n",
      "\n",
      "Summary: Cluster 4\n",
      "        self    bogo  discount  custtype_new  custtype_old\n",
      "count   55.0    55.0      55.0          55.0          55.0\n",
      "min      0.0   361.1       0.0           0.0           0.0\n",
      "mean   132.7   632.8      25.2           0.1           0.9\n",
      "max    864.4  1222.6     129.7           1.0           1.0\n",
      "\n",
      "\n"
     ]
    }
   ],
   "source": [
    "for cluster in range(cluster_no_s2):\n",
    "    df_sample = cust_profile_txn_matrix[cust_profile_txn_matrix.category==cluster][features_list]\n",
    "    key_par = ['count','min','mean','max']\n",
    "    print(\"Summary: Cluster {}\".format(cluster))\n",
    "    print(round(df_sample.describe().loc[key_par],1))\n",
    "    print(\"\\n\")"
   ]
  },
  {
   "cell_type": "markdown",
   "id": "a614725e",
   "metadata": {},
   "source": [
    "**Explanation:**\n",
    "\n",
    "- Category 0: Old customers with low average spend (sub 100) across self, bogo and discount.\n",
    "- Category 1: New customers with low average spend (sub 100) across self, bogo and discount.\n",
    "- Category 2: Customers (new and old) with high average spend (600 range) on Discount offers (clear preference for Discount).\n",
    "- Category 3: Customers (new and old) with high average spend (600 range) on Self (not influenced by offers).\n",
    "- Category 4: Customers (new and old) with high average spend (600 range) on BOGO (clear preference for BOGO).\n",
    "- High Value Customers: Category 2, 3, 4\n",
    "- Mass Market Customers: Category 0, 1"
   ]
  },
  {
   "cell_type": "markdown",
   "id": "a49dcaaa",
   "metadata": {},
   "source": [
    "# 5.3 Offer Performance Within Categories"
   ]
  },
  {
   "cell_type": "markdown",
   "id": "177585d8",
   "metadata": {},
   "source": [
    "Data Processing for Analysis"
   ]
  },
  {
   "cell_type": "code",
   "execution_count": 544,
   "id": "36ffc9ac",
   "metadata": {},
   "outputs": [
    {
     "data": {
      "text/html": [
       "<div>\n",
       "<style scoped>\n",
       "    .dataframe tbody tr th:only-of-type {\n",
       "        vertical-align: middle;\n",
       "    }\n",
       "\n",
       "    .dataframe tbody tr th {\n",
       "        vertical-align: top;\n",
       "    }\n",
       "\n",
       "    .dataframe thead th {\n",
       "        text-align: right;\n",
       "    }\n",
       "</style>\n",
       "<table border=\"1\" class=\"dataframe\">\n",
       "  <thead>\n",
       "    <tr style=\"text-align: right;\">\n",
       "      <th></th>\n",
       "      <th>event</th>\n",
       "      <th>time</th>\n",
       "      <th>amount</th>\n",
       "      <th>reward</th>\n",
       "      <th>user_id</th>\n",
       "      <th>short_id</th>\n",
       "      <th>duration_hrs</th>\n",
       "      <th>influence</th>\n",
       "      <th>completiontype</th>\n",
       "      <th>time_btw_offers</th>\n",
       "      <th>active_offers</th>\n",
       "      <th>category</th>\n",
       "    </tr>\n",
       "  </thead>\n",
       "  <tbody>\n",
       "    <tr>\n",
       "      <th>0</th>\n",
       "      <td>offer received</td>\n",
       "      <td>168</td>\n",
       "      <td>0.0</td>\n",
       "      <td>0.0</td>\n",
       "      <td>1</td>\n",
       "      <td>disc0710</td>\n",
       "      <td>168.0</td>\n",
       "      <td></td>\n",
       "      <td></td>\n",
       "      <td>0.0</td>\n",
       "      <td></td>\n",
       "      <td>0</td>\n",
       "    </tr>\n",
       "    <tr>\n",
       "      <th>1</th>\n",
       "      <td>offer viewed</td>\n",
       "      <td>216</td>\n",
       "      <td>0.0</td>\n",
       "      <td>0.0</td>\n",
       "      <td>1</td>\n",
       "      <td>disc0710</td>\n",
       "      <td>168.0</td>\n",
       "      <td></td>\n",
       "      <td></td>\n",
       "      <td>0.0</td>\n",
       "      <td></td>\n",
       "      <td>0</td>\n",
       "    </tr>\n",
       "    <tr>\n",
       "      <th>2</th>\n",
       "      <td>offer received</td>\n",
       "      <td>336</td>\n",
       "      <td>0.0</td>\n",
       "      <td>0.0</td>\n",
       "      <td>1</td>\n",
       "      <td>disc1020</td>\n",
       "      <td>240.0</td>\n",
       "      <td></td>\n",
       "      <td></td>\n",
       "      <td>168.0</td>\n",
       "      <td></td>\n",
       "      <td>0</td>\n",
       "    </tr>\n",
       "  </tbody>\n",
       "</table>\n",
       "</div>"
      ],
      "text/plain": [
       "            event  time  amount  reward  user_id  short_id  duration_hrs  \\\n",
       "0  offer received   168     0.0     0.0        1  disc0710         168.0   \n",
       "1    offer viewed   216     0.0     0.0        1  disc0710         168.0   \n",
       "2  offer received   336     0.0     0.0        1  disc1020         240.0   \n",
       "\n",
       "  influence completiontype  time_btw_offers active_offers  category  \n",
       "0                                       0.0                       0  \n",
       "1                                       0.0                       0  \n",
       "2                                     168.0                       0  "
      ]
     },
     "execution_count": 544,
     "metadata": {},
     "output_type": "execute_result"
    }
   ],
   "source": [
    "#create mapping for userid and cluster category for use on transcript dataframe\n",
    "userid = cust_profile_txn_matrix.index.values\n",
    "category_no = cust_profile_txn_matrix.category.values\n",
    "map_userid_catno = dict(zip(userid,category_no))\n",
    "\n",
    "#labelling transactions performed by users in transcript with category values\n",
    "transcript_unpacked['category'] = transcript_unpacked['user_id'].map(map_userid_catno)\n",
    "transcript_unpacked.head(3)"
   ]
  },
  {
   "cell_type": "markdown",
   "id": "2dface16",
   "metadata": {},
   "source": [
    "Defining Relevant Functions"
   ]
  },
  {
   "cell_type": "markdown",
   "id": "34801a74",
   "metadata": {},
   "source": [
    "Cluster Level Measures"
   ]
  },
  {
   "cell_type": "code",
   "execution_count": 545,
   "id": "20ba07fa",
   "metadata": {},
   "outputs": [],
   "source": [
    "def category_size(df=cust_profile_txn_matrix):\n",
    "    '''\n",
    "    INPUT:\n",
    "    df - (pandas dataframe) with customer profile and transaction data\n",
    "    \n",
    "    \n",
    "    OUTPUT:\n",
    "    df_temp_grp - (series) number of customers per cluster/category\n",
    "    '''    \n",
    "    df_temp_grp = df.groupby(['category'])['age_fill'].count()\n",
    "    \n",
    "    return df_temp_grp"
   ]
  },
  {
   "cell_type": "code",
   "execution_count": 546,
   "id": "fc3d2a56",
   "metadata": {},
   "outputs": [],
   "source": [
    "def received_offer(offerid, txnhist=transcript_unpacked, event='offer received'):\n",
    "    '''\n",
    "    INPUT:\n",
    "    offerid - (string) short_id of promotional offer\n",
    "    txnhist - (pandas dataframe) customer transaction history\n",
    "    event - (string) event type    \n",
    "    \n",
    "    OUTPUT:\n",
    "    df_temp_grp - (series) number of customers that received offer within each cluster\n",
    "    '''    \n",
    "    df_temp = txnhist[(txnhist['short_id']==offerid) & (txnhist['event']==event)]\n",
    "    \n",
    "    df_temp_grp = df_temp.groupby(['category'])['user_id'].count()\n",
    "    \n",
    "    return df_temp_grp"
   ]
  },
  {
   "cell_type": "code",
   "execution_count": 547,
   "id": "377b0340",
   "metadata": {},
   "outputs": [],
   "source": [
    "def viewd_offer(offerid, txnhist=transcript_unpacked, event='offer viewed'):\n",
    "    '''\n",
    "    INPUT:\n",
    "    offerid - (string) short_id of promotional offer\n",
    "    txnhist - (pandas dataframe) customer transaction history\n",
    "    event - (string) event type    \n",
    "    \n",
    "    OUTPUT:\n",
    "    df_temp_grp - (series) number of customers by clusters that viewed an offer\n",
    "    '''    \n",
    "    df_temp = txnhist[(txnhist['short_id']==offerid) & (txnhist['event']==event)]\n",
    "    df_temp_grp = df_temp.groupby(['category'])['user_id'].count()\n",
    "    return df_temp_grp"
   ]
  },
  {
   "cell_type": "code",
   "execution_count": 548,
   "id": "99ffe5a9",
   "metadata": {},
   "outputs": [],
   "source": [
    "def viewd_complete(offerid, txnhist=transcript_unpacked, event='offer:viewed'):\n",
    "    '''\n",
    "    INPUT:\n",
    "    offerid - (string) short_id of promotional offer\n",
    "    txnhist - (pandas dataframe) customer transaction history\n",
    "    event - (string) event type    \n",
    "    \n",
    "    OUTPUT:\n",
    "    df_temp_grp - (series) number of customers by clusters that completed an offer after viewing\n",
    "    '''    \n",
    "    df_temp = txnhist[(txnhist['short_id']==offerid) & (txnhist['completiontype']==event)]\n",
    "    df_temp_grp = df_temp.groupby(['category'])['user_id'].count()\n",
    "    return df_temp_grp"
   ]
  },
  {
   "cell_type": "code",
   "execution_count": 549,
   "id": "e4ee28d7",
   "metadata": {},
   "outputs": [],
   "source": [
    "def no_txns(offerid, txnhist=transcript_unpacked, event='transaction'):\n",
    "    '''\n",
    "    INPUT:\n",
    "    offerid - (string) short_id of promotional offer\n",
    "    txnhist - (pandas dataframe) customer transaction history\n",
    "    event - (string) event type    \n",
    "    \n",
    "    OUTPUT:\n",
    "    df_temp_grp - (series) number of transactions by clusters influenced by offer \n",
    "    ''' \n",
    "    df_temp = txnhist[(txnhist['influence']==offerid) & (txnhist['event']==event)]\n",
    "    df_temp_grp = df_temp.groupby(['category'])['user_id'].count()\n",
    "    return df_temp_grp"
   ]
  },
  {
   "cell_type": "code",
   "execution_count": 550,
   "id": "612b3fe9",
   "metadata": {},
   "outputs": [],
   "source": [
    "def txns_value(offerid, txnhist=transcript_unpacked, event='transaction'):\n",
    "    '''\n",
    "    INPUT:\n",
    "    offerid - (string) short_id of promotional offer\n",
    "    txnhist - (pandas dataframe) customer transaction history\n",
    "    event - (string) event type    \n",
    "    \n",
    "    OUTPUT:\n",
    "    df_temp_grp - (series) value of transactions by clusters influenced by offer \n",
    "    '''\n",
    "    df_temp = txnhist[(txnhist['influence']==offerid) & (txnhist['event']==event)]\n",
    "    df_temp_grp = df_temp.groupby(['category'])['amount'].sum()\n",
    "    return df_temp_grp"
   ]
  },
  {
   "cell_type": "code",
   "execution_count": 551,
   "id": "7b5501c1",
   "metadata": {},
   "outputs": [],
   "source": [
    "def cat_results(offer_short_id):\n",
    "    '''\n",
    "    INPUT:\n",
    "    offer_short_id - (string) short_id of promotional offer\n",
    "\n",
    "    OUTPUT:\n",
    "    df_all - (pandas dataframe) with descriptive statistics for offer \n",
    "    '''\n",
    "    df_cat_size = pd.DataFrame(category_size())\n",
    "    df_cat_size.rename(columns = {'age_fill':'cat_pop'},inplace=True)\n",
    "    \n",
    "    df_rec_offer = pd.DataFrame(received_offer(offer_short_id))\n",
    "    df_rec_offer.rename(columns = {'user_id':'recv'},inplace=True)\n",
    "    \n",
    "    df_viewd_offer = pd.DataFrame(viewd_offer(offer_short_id))\n",
    "    df_viewd_offer.rename(columns = {'user_id':'view'},inplace=True)\n",
    "    \n",
    "    df_viewd_complete = pd.DataFrame(viewd_complete(offer_short_id))\n",
    "    df_viewd_complete.rename(columns = {'user_id':'compltn'},inplace=True)\n",
    "    \n",
    "    df_no_txns = pd.DataFrame(no_txns(offer_short_id))\n",
    "    df_no_txns.rename(columns = {'user_id':'notxns'},inplace=True)\n",
    "    \n",
    "    df_txns_value = pd.DataFrame(txns_value(offer_short_id))\n",
    "    df_txns_value.rename(columns = {'amount':'txnval'},inplace=True)  \n",
    "    \n",
    "    df_all = pd.concat([df_cat_size, df_rec_offer,df_viewd_offer,df_viewd_complete,df_no_txns,df_txns_value], axis=1)\n",
    "    df_all['avgtxnval'] = round((df_all['txnval']/df_all['notxns']),2)\n",
    "    df_all['%compltn'] = round(100*(df_all['compltn']/df_all['recv']),2)\n",
    "    \n",
    "       \n",
    "    return df_all"
   ]
  },
  {
   "cell_type": "markdown",
   "id": "2a5d50dc",
   "metadata": {},
   "source": [
    "Total Measures"
   ]
  },
  {
   "cell_type": "code",
   "execution_count": 552,
   "id": "d14e12a1",
   "metadata": {},
   "outputs": [],
   "source": [
    "def offer_txns(txnhist=transcript_unpacked, event='transaction'):\n",
    "    '''\n",
    "    INPUT:\n",
    "    txnhist - (pandas dataframe) customer transaction history\n",
    "    event - (string) event type    \n",
    "    \n",
    "    OUTPUT:\n",
    "    df_temp_grp - (pandas dataframe) total value of transactions influenced by offer \n",
    "    '''\n",
    "\n",
    "    df_temp = txnhist[txnhist['event']==event]\n",
    "    df_temp_grp = pd.DataFrame(df_temp.groupby(['influence'])['event'].count())\n",
    "    df_temp_grp.rename(columns={'event':'offer_txn_count'},inplace=True)\n",
    "    return df_temp_grp"
   ]
  },
  {
   "cell_type": "code",
   "execution_count": 553,
   "id": "18116f56",
   "metadata": {},
   "outputs": [],
   "source": [
    "def offer_revenue(txnhist=transcript_unpacked, event='transaction'):\n",
    "    '''\n",
    "    INPUT:\n",
    "    txnhist - (pandas dataframe) customer transaction history\n",
    "    event - (string) event type    \n",
    "    \n",
    "    OUTPUT:\n",
    "    df_temp_grp - (pandas dataframe) total value of transactions influenced by offer \n",
    "    '''\n",
    "    df_temp = txnhist[txnhist['event']==event]\n",
    "    df_temp_grp = pd.DataFrame(df_temp.groupby(['influence'])['amount'].sum())\n",
    "    df_temp_grp.rename(columns = {'amount':'txn_value'},inplace=True)\n",
    "    return df_temp_grp"
   ]
  },
  {
   "cell_type": "code",
   "execution_count": 554,
   "id": "a091e31a",
   "metadata": {},
   "outputs": [],
   "source": [
    "def offer_payout(txnhist=transcript_unpacked, event='offer completed'):\n",
    "    '''\n",
    "    INPUT:\n",
    "    txnhist - (pandas dataframe) customer transaction history\n",
    "    event - (string) event type    \n",
    "    \n",
    "    OUTPUT:\n",
    "    df_temp_grp - (pandas dataframe) total value of payouts on offer completion\n",
    "    '''\n",
    "    df_temp = txnhist[txnhist['event']==event]\n",
    "    df_temp_grp = pd.DataFrame(df_temp.groupby(['short_id'])['reward'].sum())\n",
    "    df_temp_grp.rename(columns = {'reward':'reward_payout'},inplace=True)\n",
    "    return df_temp_grp"
   ]
  },
  {
   "cell_type": "code",
   "execution_count": 555,
   "id": "794dbd1a",
   "metadata": {},
   "outputs": [],
   "source": [
    "def received_offer_total(txnhist=transcript_unpacked, event='offer received'):\n",
    "    '''\n",
    "    INPUT:\n",
    "    txnhist - (pandas dataframe) customer transaction history\n",
    "    event - (string) event type    \n",
    "    \n",
    "    OUTPUT:\n",
    "    df_temp_grp - (pandas dataframe) total number of offers sent/received\n",
    "    '''\n",
    "    df_temp = txnhist[txnhist['event']==event]\n",
    "    df_temp_grp = pd.DataFrame(df_temp.groupby(['short_id'])['user_id'].count())\n",
    "    df_temp_grp.rename(columns = {'user_id':'num_offer_sent'},inplace=True)\n",
    "    return df_temp_grp"
   ]
  },
  {
   "cell_type": "code",
   "execution_count": 556,
   "id": "f9fc4fa1",
   "metadata": {},
   "outputs": [],
   "source": [
    "def viewd_complete_total(txnhist=transcript_unpacked, event='offer:viewed'):\n",
    "    '''\n",
    "    INPUT:\n",
    "    txnhist - (pandas dataframe) customer transaction history\n",
    "    event - (string) event type    \n",
    "    \n",
    "    OUTPUT:\n",
    "    df_temp_grp - (pandas dataframe) total number of offers completed after viewing\n",
    "    '''\n",
    "    df_temp = txnhist[txnhist['completiontype']==event]\n",
    "    df_temp_grp = pd.DataFrame(df_temp.groupby(['short_id'])['user_id'].count())\n",
    "    df_temp_grp.rename(columns = {'user_id':'num_offers_completed'},inplace=True)\n",
    "    return df_temp_grp"
   ]
  },
  {
   "cell_type": "code",
   "execution_count": 557,
   "id": "6892c9c3",
   "metadata": {},
   "outputs": [],
   "source": [
    "def offer_results():\n",
    "    '''\n",
    "    INPUT:\n",
    "\n",
    "    OUTPUT:\n",
    "    df_all - (pandas dataframe) with descriptive statistics for offer \n",
    "    '''\n",
    "    \n",
    "    df_offer_txn = pd.DataFrame(offer_txns())\n",
    "    df_offer_revenue = pd.DataFrame(offer_revenue())\n",
    "    df_offer_payout = pd.DataFrame(offer_payout())\n",
    "\n",
    "    df_offer_view = pd.DataFrame(received_offer_total())\n",
    "    df_offer_compltd = pd.DataFrame(viewd_complete_total())\n",
    "\n",
    "    df_all = pd.concat([df_offer_view, df_offer_compltd, df_offer_txn,df_offer_revenue,df_offer_payout], axis=1)\n",
    "    df_all.drop(index=['info0300','info0400'], inplace=True)\n",
    "    \n",
    "  \n",
    "    \n",
    "    df_all['net_txn_value'] = df_all['txn_value'] - df_all['reward_payout']\n",
    "    df_all['payout_ratio'] = round((df_all['reward_payout']/df_all['txn_value']),2)\n",
    "    df_all['percent_completn'] = round(100*(df_all['num_offers_completed']/df_all['num_offer_sent']),2)\n",
    "    \n",
    "    df_all.fillna(0, inplace=True)\n",
    "\n",
    "    \n",
    "       \n",
    "    return df_all"
   ]
  },
  {
   "cell_type": "code",
   "execution_count": 558,
   "id": "ffd3ff57",
   "metadata": {},
   "outputs": [
    {
     "data": {
      "text/html": [
       "<div>\n",
       "<style scoped>\n",
       "    .dataframe tbody tr th:only-of-type {\n",
       "        vertical-align: middle;\n",
       "    }\n",
       "\n",
       "    .dataframe tbody tr th {\n",
       "        vertical-align: top;\n",
       "    }\n",
       "\n",
       "    .dataframe thead th {\n",
       "        text-align: right;\n",
       "    }\n",
       "</style>\n",
       "<table border=\"1\" class=\"dataframe\">\n",
       "  <thead>\n",
       "    <tr style=\"text-align: right;\">\n",
       "      <th></th>\n",
       "      <th>num_offer_sent</th>\n",
       "      <th>num_offers_completed</th>\n",
       "      <th>offer_txn_count</th>\n",
       "      <th>txn_value</th>\n",
       "      <th>reward_payout</th>\n",
       "      <th>net_txn_value</th>\n",
       "      <th>payout_ratio</th>\n",
       "      <th>percent_completn</th>\n",
       "    </tr>\n",
       "  </thead>\n",
       "  <tbody>\n",
       "    <tr>\n",
       "      <th>bogo0505</th>\n",
       "      <td>7571.0</td>\n",
       "      <td>3460.0</td>\n",
       "      <td>8541.0</td>\n",
       "      <td>94856.37</td>\n",
       "      <td>21480.0</td>\n",
       "      <td>73376.37</td>\n",
       "      <td>0.23</td>\n",
       "      <td>45.70</td>\n",
       "    </tr>\n",
       "    <tr>\n",
       "      <th>bogo0510</th>\n",
       "      <td>7593.0</td>\n",
       "      <td>2676.0</td>\n",
       "      <td>9993.0</td>\n",
       "      <td>97859.20</td>\n",
       "      <td>33310.0</td>\n",
       "      <td>64549.20</td>\n",
       "      <td>0.34</td>\n",
       "      <td>35.24</td>\n",
       "    </tr>\n",
       "    <tr>\n",
       "      <th>bogo0705</th>\n",
       "      <td>7677.0</td>\n",
       "      <td>2396.0</td>\n",
       "      <td>4735.0</td>\n",
       "      <td>53956.38</td>\n",
       "      <td>21770.0</td>\n",
       "      <td>32186.38</td>\n",
       "      <td>0.40</td>\n",
       "      <td>31.21</td>\n",
       "    </tr>\n",
       "    <tr>\n",
       "      <th>bogo0710</th>\n",
       "      <td>7658.0</td>\n",
       "      <td>2553.0</td>\n",
       "      <td>11470.0</td>\n",
       "      <td>103814.17</td>\n",
       "      <td>36880.0</td>\n",
       "      <td>66934.17</td>\n",
       "      <td>0.36</td>\n",
       "      <td>33.34</td>\n",
       "    </tr>\n",
       "    <tr>\n",
       "      <th>disc0707</th>\n",
       "      <td>7646.0</td>\n",
       "      <td>4018.0</td>\n",
       "      <td>9628.0</td>\n",
       "      <td>102427.82</td>\n",
       "      <td>15468.0</td>\n",
       "      <td>86959.82</td>\n",
       "      <td>0.15</td>\n",
       "      <td>52.55</td>\n",
       "    </tr>\n",
       "    <tr>\n",
       "      <th>disc0710</th>\n",
       "      <td>7632.0</td>\n",
       "      <td>2226.0</td>\n",
       "      <td>4718.0</td>\n",
       "      <td>59082.54</td>\n",
       "      <td>8034.0</td>\n",
       "      <td>51048.54</td>\n",
       "      <td>0.14</td>\n",
       "      <td>29.17</td>\n",
       "    </tr>\n",
       "    <tr>\n",
       "      <th>disc1010</th>\n",
       "      <td>7597.0</td>\n",
       "      <td>3884.0</td>\n",
       "      <td>11472.0</td>\n",
       "      <td>120476.84</td>\n",
       "      <td>10634.0</td>\n",
       "      <td>109842.84</td>\n",
       "      <td>0.09</td>\n",
       "      <td>51.13</td>\n",
       "    </tr>\n",
       "    <tr>\n",
       "      <th>disc1020</th>\n",
       "      <td>7668.0</td>\n",
       "      <td>1227.0</td>\n",
       "      <td>3244.0</td>\n",
       "      <td>50161.46</td>\n",
       "      <td>17100.0</td>\n",
       "      <td>33061.46</td>\n",
       "      <td>0.34</td>\n",
       "      <td>16.00</td>\n",
       "    </tr>\n",
       "    <tr>\n",
       "      <th>self</th>\n",
       "      <td>0.0</td>\n",
       "      <td>0.0</td>\n",
       "      <td>75152.0</td>\n",
       "      <td>1092817.19</td>\n",
       "      <td>0.0</td>\n",
       "      <td>0.00</td>\n",
       "      <td>0.00</td>\n",
       "      <td>0.00</td>\n",
       "    </tr>\n",
       "  </tbody>\n",
       "</table>\n",
       "</div>"
      ],
      "text/plain": [
       "          num_offer_sent  num_offers_completed  offer_txn_count   txn_value  \\\n",
       "bogo0505          7571.0                3460.0           8541.0    94856.37   \n",
       "bogo0510          7593.0                2676.0           9993.0    97859.20   \n",
       "bogo0705          7677.0                2396.0           4735.0    53956.38   \n",
       "bogo0710          7658.0                2553.0          11470.0   103814.17   \n",
       "disc0707          7646.0                4018.0           9628.0   102427.82   \n",
       "disc0710          7632.0                2226.0           4718.0    59082.54   \n",
       "disc1010          7597.0                3884.0          11472.0   120476.84   \n",
       "disc1020          7668.0                1227.0           3244.0    50161.46   \n",
       "self                 0.0                   0.0          75152.0  1092817.19   \n",
       "\n",
       "          reward_payout  net_txn_value  payout_ratio  percent_completn  \n",
       "bogo0505        21480.0       73376.37          0.23             45.70  \n",
       "bogo0510        33310.0       64549.20          0.34             35.24  \n",
       "bogo0705        21770.0       32186.38          0.40             31.21  \n",
       "bogo0710        36880.0       66934.17          0.36             33.34  \n",
       "disc0707        15468.0       86959.82          0.15             52.55  \n",
       "disc0710         8034.0       51048.54          0.14             29.17  \n",
       "disc1010        10634.0      109842.84          0.09             51.13  \n",
       "disc1020        17100.0       33061.46          0.34             16.00  \n",
       "self                0.0           0.00          0.00              0.00  "
      ]
     },
     "execution_count": 558,
     "metadata": {},
     "output_type": "execute_result"
    }
   ],
   "source": [
    "total_offer_perform = offer_results()\n",
    "total_offer_perform"
   ]
  },
  {
   "cell_type": "code",
   "execution_count": 559,
   "id": "52ebfc03",
   "metadata": {},
   "outputs": [
    {
     "data": {
      "text/html": [
       "<div>\n",
       "<style scoped>\n",
       "    .dataframe tbody tr th:only-of-type {\n",
       "        vertical-align: middle;\n",
       "    }\n",
       "\n",
       "    .dataframe tbody tr th {\n",
       "        vertical-align: top;\n",
       "    }\n",
       "\n",
       "    .dataframe thead th {\n",
       "        text-align: right;\n",
       "    }\n",
       "</style>\n",
       "<table border=\"1\" class=\"dataframe\">\n",
       "  <thead>\n",
       "    <tr style=\"text-align: right;\">\n",
       "      <th></th>\n",
       "      <th>num_offer_sent</th>\n",
       "      <th>num_offers_completed</th>\n",
       "      <th>offer_txn_count</th>\n",
       "      <th>txn_value</th>\n",
       "      <th>reward_payout</th>\n",
       "      <th>net_txn_value</th>\n",
       "      <th>payout_ratio</th>\n",
       "      <th>percent_completn</th>\n",
       "    </tr>\n",
       "  </thead>\n",
       "  <tbody>\n",
       "    <tr>\n",
       "      <th>self</th>\n",
       "      <td>0.0</td>\n",
       "      <td>0.0</td>\n",
       "      <td>75152.0</td>\n",
       "      <td>1092817.19</td>\n",
       "      <td>0.0</td>\n",
       "      <td>0.00</td>\n",
       "      <td>0.00</td>\n",
       "      <td>0.00</td>\n",
       "    </tr>\n",
       "    <tr>\n",
       "      <th>disc1010</th>\n",
       "      <td>7597.0</td>\n",
       "      <td>3884.0</td>\n",
       "      <td>11472.0</td>\n",
       "      <td>120476.84</td>\n",
       "      <td>10634.0</td>\n",
       "      <td>109842.84</td>\n",
       "      <td>0.09</td>\n",
       "      <td>51.13</td>\n",
       "    </tr>\n",
       "    <tr>\n",
       "      <th>bogo0710</th>\n",
       "      <td>7658.0</td>\n",
       "      <td>2553.0</td>\n",
       "      <td>11470.0</td>\n",
       "      <td>103814.17</td>\n",
       "      <td>36880.0</td>\n",
       "      <td>66934.17</td>\n",
       "      <td>0.36</td>\n",
       "      <td>33.34</td>\n",
       "    </tr>\n",
       "    <tr>\n",
       "      <th>disc0707</th>\n",
       "      <td>7646.0</td>\n",
       "      <td>4018.0</td>\n",
       "      <td>9628.0</td>\n",
       "      <td>102427.82</td>\n",
       "      <td>15468.0</td>\n",
       "      <td>86959.82</td>\n",
       "      <td>0.15</td>\n",
       "      <td>52.55</td>\n",
       "    </tr>\n",
       "    <tr>\n",
       "      <th>bogo0510</th>\n",
       "      <td>7593.0</td>\n",
       "      <td>2676.0</td>\n",
       "      <td>9993.0</td>\n",
       "      <td>97859.20</td>\n",
       "      <td>33310.0</td>\n",
       "      <td>64549.20</td>\n",
       "      <td>0.34</td>\n",
       "      <td>35.24</td>\n",
       "    </tr>\n",
       "    <tr>\n",
       "      <th>bogo0505</th>\n",
       "      <td>7571.0</td>\n",
       "      <td>3460.0</td>\n",
       "      <td>8541.0</td>\n",
       "      <td>94856.37</td>\n",
       "      <td>21480.0</td>\n",
       "      <td>73376.37</td>\n",
       "      <td>0.23</td>\n",
       "      <td>45.70</td>\n",
       "    </tr>\n",
       "    <tr>\n",
       "      <th>disc0710</th>\n",
       "      <td>7632.0</td>\n",
       "      <td>2226.0</td>\n",
       "      <td>4718.0</td>\n",
       "      <td>59082.54</td>\n",
       "      <td>8034.0</td>\n",
       "      <td>51048.54</td>\n",
       "      <td>0.14</td>\n",
       "      <td>29.17</td>\n",
       "    </tr>\n",
       "    <tr>\n",
       "      <th>bogo0705</th>\n",
       "      <td>7677.0</td>\n",
       "      <td>2396.0</td>\n",
       "      <td>4735.0</td>\n",
       "      <td>53956.38</td>\n",
       "      <td>21770.0</td>\n",
       "      <td>32186.38</td>\n",
       "      <td>0.40</td>\n",
       "      <td>31.21</td>\n",
       "    </tr>\n",
       "    <tr>\n",
       "      <th>disc1020</th>\n",
       "      <td>7668.0</td>\n",
       "      <td>1227.0</td>\n",
       "      <td>3244.0</td>\n",
       "      <td>50161.46</td>\n",
       "      <td>17100.0</td>\n",
       "      <td>33061.46</td>\n",
       "      <td>0.34</td>\n",
       "      <td>16.00</td>\n",
       "    </tr>\n",
       "  </tbody>\n",
       "</table>\n",
       "</div>"
      ],
      "text/plain": [
       "          num_offer_sent  num_offers_completed  offer_txn_count   txn_value  \\\n",
       "self                 0.0                   0.0          75152.0  1092817.19   \n",
       "disc1010          7597.0                3884.0          11472.0   120476.84   \n",
       "bogo0710          7658.0                2553.0          11470.0   103814.17   \n",
       "disc0707          7646.0                4018.0           9628.0   102427.82   \n",
       "bogo0510          7593.0                2676.0           9993.0    97859.20   \n",
       "bogo0505          7571.0                3460.0           8541.0    94856.37   \n",
       "disc0710          7632.0                2226.0           4718.0    59082.54   \n",
       "bogo0705          7677.0                2396.0           4735.0    53956.38   \n",
       "disc1020          7668.0                1227.0           3244.0    50161.46   \n",
       "\n",
       "          reward_payout  net_txn_value  payout_ratio  percent_completn  \n",
       "self                0.0           0.00          0.00              0.00  \n",
       "disc1010        10634.0      109842.84          0.09             51.13  \n",
       "bogo0710        36880.0       66934.17          0.36             33.34  \n",
       "disc0707        15468.0       86959.82          0.15             52.55  \n",
       "bogo0510        33310.0       64549.20          0.34             35.24  \n",
       "bogo0505        21480.0       73376.37          0.23             45.70  \n",
       "disc0710         8034.0       51048.54          0.14             29.17  \n",
       "bogo0705        21770.0       32186.38          0.40             31.21  \n",
       "disc1020        17100.0       33061.46          0.34             16.00  "
      ]
     },
     "execution_count": 559,
     "metadata": {},
     "output_type": "execute_result"
    }
   ],
   "source": [
    "#sorting \n",
    "total_offer_perform.sort_values(by=['txn_value'], ascending=False)"
   ]
  },
  {
   "cell_type": "markdown",
   "id": "3d23dae5",
   "metadata": {},
   "source": [
    "Comments:\n",
    "- Top 3 offers based on transaction value: disc1010; bogo0710; disc0707\n",
    "\n",
    "\n",
    "- Offers have been ranked by transaction value because the real aim of promotional offers is to incentivise customers to transact more. \"Number of offers completed\" as a measure of the success of a promotional offer is inadequate as it does not capture the real value to Starbucks e.g. disc0707 has a higher completion rate but lower transaction value (revenue) compared to disc1010. When you factor reward payouts, the higher completion rates reduces the net transaction value (net revenue) a lot more for disc0707 compared to disc1010\n",
    "\n",
    "\n",
    "- Self represents expected transaction numbers and value in the absence of any offers\n"
   ]
  },
  {
   "cell_type": "code",
   "execution_count": 560,
   "id": "f8d5ec52",
   "metadata": {},
   "outputs": [
    {
     "name": "stdout",
     "output_type": "stream",
     "text": [
      "Description for Performance Measures\n",
      "--------------------------\n",
      "cat_pop: number of customers in category\n",
      "recv: number of customers that received offer\n",
      "view: number of customers that viewed offer\n",
      "compltn: number of customers that completed offer after viewing\n",
      "notxns: number of transactions influenced by offer\n",
      "txnval: monetary value of transactions\n",
      "%compltn: percentage of customers who completed offer after viewing\n"
     ]
    }
   ],
   "source": [
    "print(\"Description for Performance Measures\")\n",
    "print(\"--------------------------\")\n",
    "print(\"cat_pop: number of customers in category\")\n",
    "print(\"recv: number of customers that received offer\")\n",
    "print(\"view: number of customers that viewed offer\")\n",
    "print(\"compltn: number of customers that completed offer after viewing\")\n",
    "print(\"notxns: number of transactions influenced by offer\")\n",
    "print(\"txnval: monetary value of transactions\")\n",
    "print(\"%compltn: percentage of customers who completed offer after viewing\")"
   ]
  },
  {
   "cell_type": "code",
   "execution_count": 561,
   "id": "3bcfd45d",
   "metadata": {},
   "outputs": [
    {
     "name": "stdout",
     "output_type": "stream",
     "text": [
      "category results for bogo0505:\n",
      "------------------------------\n",
      "          cat_pop  recv  view  compltn  notxns    txnval  avgtxnval  %compltn\n",
      "category                                                                     \n",
      "0           14760  6563  6304     3146    7737  74856.13       9.68     47.94\n",
      "1            1920   853   814      205     653   4909.77       7.52     24.03\n",
      "2              57    15    15       11      13    320.44      24.65     73.33\n",
      "3             208   100    93       66      91   1606.00      17.65     66.00\n",
      "4              55    40    38       32      47  13164.03     280.09     80.00\n",
      "\n",
      "\n",
      "category results for bogo0510:\n",
      "------------------------------\n",
      "          cat_pop  recv  view  compltn  notxns    txnval  avgtxnval  %compltn\n",
      "category                                                                     \n",
      "0           14760  6602  6345     2430    9122  80815.03       8.86     36.81\n",
      "1            1920   839   805      139     716   4896.25       6.84     16.57\n",
      "2              57    26    26       17      26    427.86      16.46     65.38\n",
      "3             208    91    88       64      87   1613.62      18.55     70.33\n",
      "4              55    35    34       26      42  10106.44     240.63     74.29\n",
      "\n",
      "\n",
      "category results for bogo0705:\n",
      "------------------------------\n",
      "          cat_pop  recv  view  compltn  notxns    txnval  avgtxnval  %compltn\n",
      "category                                                                     \n",
      "0           14760  6707  3657     2156    4354  47525.56      10.92     32.15\n",
      "1            1920   835   426      170     282   3088.96      10.95     20.36\n",
      "2              57    24    12       10      16    311.14      19.45     41.67\n",
      "3             208    92    62       50      71   1247.11      17.56     54.35\n",
      "4              55    19    14       10      12   1783.61     148.63     52.63\n",
      "\n",
      "\n",
      "category results for bogo0710:\n",
      "------------------------------\n",
      "          cat_pop  recv  view  compltn  notxns    txnval  avgtxnval  %compltn\n",
      "category                                                                     \n",
      "0           14760  6605  5787     2268   10374  85633.02       8.25     34.34\n",
      "1            1920   886   788      175     935   6232.66       6.67     19.75\n",
      "2              57    23    19       16      25    490.27      19.61     69.57\n",
      "3             208   110    92       71     102   1707.85      16.74     64.55\n",
      "4              55    34    30       23      34   9750.37     286.78     67.65\n",
      "\n",
      "\n",
      "category results for disc0707:\n",
      "------------------------------\n",
      "          cat_pop  recv  view  compltn  notxns    txnval  avgtxnval  %compltn\n",
      "category                                                                     \n",
      "0           14760  6636  6373     3675    8634  84617.49       9.80     55.38\n",
      "1            1920   864   825      242     821   6145.38       7.49     28.01\n",
      "2              57    41    40       23      63   9809.09     155.70     56.10\n",
      "3             208    85    80       66      91   1487.31      16.34     77.65\n",
      "4              55    20    19       12      19    368.55      19.40     60.00\n",
      "\n",
      "\n",
      "category results for disc0710:\n",
      "------------------------------\n",
      "          cat_pop  recv  view  compltn  notxns    txnval  avgtxnval  %compltn\n",
      "category                                                                     \n",
      "0           14760  6616  3588     2011    4299  49135.85      11.43     30.40\n",
      "1            1920   876   431      139     310   3091.36       9.97     15.87\n",
      "2              57    24    22       13      30   5306.13     176.87     54.17\n",
      "3             208    93    61       48      61   1154.58      18.93     51.61\n",
      "4              55    23    16       15      18    394.62      21.92     65.22\n",
      "\n",
      "\n",
      "category results for disc1010:\n",
      "------------------------------\n",
      "          cat_pop  recv  view  compltn  notxns    txnval  avgtxnval  %compltn\n",
      "category                                                                     \n",
      "0           14760  6551  6321     3538   10328  97037.44       9.40     54.01\n",
      "1            1920   871   833      204     936   6928.73       7.40     23.42\n",
      "2              57    41    41       32      53  13831.52     260.97     78.05\n",
      "3             208   112   111       97     129   2201.95      17.07     86.61\n",
      "4              55    22    21       13      26    477.20      18.35     59.09\n",
      "\n",
      "\n",
      "category results for disc1020:\n",
      "------------------------------\n",
      "          cat_pop  recv  view  compltn  notxns    txnval  avgtxnval  %compltn\n",
      "category                                                                     \n",
      "0           14760  6643  2283     1095    2925  37726.35      12.90     16.48\n",
      "1            1920   876   314       92     231   2965.32      12.84     10.50\n",
      "2              57    34    23       16      35   8575.51     245.01     47.06\n",
      "3             208    90    32       18      45    750.99      16.69     20.00\n",
      "4              55    25    11        6       8    143.29      17.91     24.00\n",
      "\n",
      "\n"
     ]
    }
   ],
   "source": [
    "# Generate performance measures for offer across categories\n",
    "for offer in offer_list_shortid:\n",
    "    df_temp = cat_results(offer)\n",
    "    print(\"category results for {}:\".format(offer))\n",
    "    print(\"------------------------------\")\n",
    "    print(df_temp)\n",
    "    print(\"\\n\")"
   ]
  },
  {
   "cell_type": "markdown",
   "id": "133a9121",
   "metadata": {},
   "source": [
    "**General Trends**"
   ]
  },
  {
   "cell_type": "markdown",
   "id": "fc3253ec",
   "metadata": {},
   "source": [
    "- Offers which have difficulty value = duration are completed at higher rates than other offers. for example, bogo0505, disc0707, disc1010\n",
    "\n",
    "- Low difficulty/short duration offers generate more incremental transaction value as well as completion rates compared to high difficulty/long duration offers\n",
    "\n",
    "- Value of transactions influenced by an offer is a better measure of performance than completion rates (see impact of mass market categories 0, 1 with relatively low completion rates but high number of small transactions and total transaction value)."
   ]
  },
  {
   "cell_type": "markdown",
   "id": "3150aa70",
   "metadata": {},
   "source": [
    "**Category-Offer Ranking Table (Descending Order of Txv Value)**\n",
    "\n",
    "- Category 0: disc1010; bogo0710; disc0707; bogo0510; bogo0505\n",
    "\n",
    "- Category 1: disc1010; bogo0710; disc0707; bogo0505; bogo0510\n",
    "\n",
    "- Category 2: disc1010; disc0707; disc1020; disc0710; bogo0710\n",
    "\n",
    "- Category 3: disc1010; bogo0710; bogo0510; bogo0505; disc0707\n",
    "\n",
    "- Category 4: bogo0505; bogo0510; bogo0710; bogo0705; disc1010   "
   ]
  },
  {
   "cell_type": "markdown",
   "id": "c600681a",
   "metadata": {},
   "source": [
    "## Review of Starbucks Experiment: Concern Areas"
   ]
  },
  {
   "cell_type": "markdown",
   "id": "0ab7102d",
   "metadata": {},
   "source": [
    "Categorization of offer completion into offer-viewed and offer-not-viewed"
   ]
  },
  {
   "cell_type": "code",
   "execution_count": 562,
   "id": "32248f8a",
   "metadata": {},
   "outputs": [
    {
     "data": {
      "text/html": [
       "<div>\n",
       "<style scoped>\n",
       "    .dataframe tbody tr th:only-of-type {\n",
       "        vertical-align: middle;\n",
       "    }\n",
       "\n",
       "    .dataframe tbody tr th {\n",
       "        vertical-align: top;\n",
       "    }\n",
       "\n",
       "    .dataframe thead th {\n",
       "        text-align: right;\n",
       "    }\n",
       "</style>\n",
       "<table border=\"1\" class=\"dataframe\">\n",
       "  <thead>\n",
       "    <tr style=\"text-align: right;\">\n",
       "      <th></th>\n",
       "      <th>event</th>\n",
       "      <th>time</th>\n",
       "      <th>amount</th>\n",
       "      <th>reward</th>\n",
       "      <th>user_id</th>\n",
       "      <th>short_id</th>\n",
       "      <th>duration_hrs</th>\n",
       "      <th>influence</th>\n",
       "      <th>completiontype</th>\n",
       "      <th>time_btw_offers</th>\n",
       "      <th>active_offers</th>\n",
       "      <th>category</th>\n",
       "    </tr>\n",
       "  </thead>\n",
       "  <tbody>\n",
       "    <tr>\n",
       "      <th>306504</th>\n",
       "      <td>offer completed</td>\n",
       "      <td>360</td>\n",
       "      <td>0.0</td>\n",
       "      <td>10.0</td>\n",
       "      <td>16999</td>\n",
       "      <td>bogo0510</td>\n",
       "      <td>120.0</td>\n",
       "      <td></td>\n",
       "      <td>offer:viewed</td>\n",
       "      <td>0.0</td>\n",
       "      <td></td>\n",
       "      <td>0</td>\n",
       "    </tr>\n",
       "    <tr>\n",
       "      <th>306508</th>\n",
       "      <td>offer completed</td>\n",
       "      <td>414</td>\n",
       "      <td>0.0</td>\n",
       "      <td>5.0</td>\n",
       "      <td>16999</td>\n",
       "      <td>bogo0705</td>\n",
       "      <td>168.0</td>\n",
       "      <td></td>\n",
       "      <td>offer: not viewed</td>\n",
       "      <td>0.0</td>\n",
       "      <td></td>\n",
       "      <td>0</td>\n",
       "    </tr>\n",
       "    <tr>\n",
       "      <th>306515</th>\n",
       "      <td>offer completed</td>\n",
       "      <td>594</td>\n",
       "      <td>0.0</td>\n",
       "      <td>10.0</td>\n",
       "      <td>16999</td>\n",
       "      <td>bogo0710</td>\n",
       "      <td>168.0</td>\n",
       "      <td></td>\n",
       "      <td>offer:viewed</td>\n",
       "      <td>0.0</td>\n",
       "      <td></td>\n",
       "      <td>0</td>\n",
       "    </tr>\n",
       "    <tr>\n",
       "      <th>306523</th>\n",
       "      <td>offer completed</td>\n",
       "      <td>54</td>\n",
       "      <td>0.0</td>\n",
       "      <td>3.0</td>\n",
       "      <td>17000</td>\n",
       "      <td>disc0707</td>\n",
       "      <td>168.0</td>\n",
       "      <td></td>\n",
       "      <td>offer:viewed</td>\n",
       "      <td>0.0</td>\n",
       "      <td></td>\n",
       "      <td>0</td>\n",
       "    </tr>\n",
       "    <tr>\n",
       "      <th>306529</th>\n",
       "      <td>offer completed</td>\n",
       "      <td>480</td>\n",
       "      <td>0.0</td>\n",
       "      <td>5.0</td>\n",
       "      <td>17000</td>\n",
       "      <td>bogo0505</td>\n",
       "      <td>120.0</td>\n",
       "      <td></td>\n",
       "      <td>offer: not viewed</td>\n",
       "      <td>0.0</td>\n",
       "      <td></td>\n",
       "      <td>0</td>\n",
       "    </tr>\n",
       "  </tbody>\n",
       "</table>\n",
       "</div>"
      ],
      "text/plain": [
       "                  event  time  amount  reward  user_id  short_id  \\\n",
       "306504  offer completed   360     0.0    10.0    16999  bogo0510   \n",
       "306508  offer completed   414     0.0     5.0    16999  bogo0705   \n",
       "306515  offer completed   594     0.0    10.0    16999  bogo0710   \n",
       "306523  offer completed    54     0.0     3.0    17000  disc0707   \n",
       "306529  offer completed   480     0.0     5.0    17000  bogo0505   \n",
       "\n",
       "        duration_hrs influence     completiontype  time_btw_offers  \\\n",
       "306504         120.0                 offer:viewed              0.0   \n",
       "306508         168.0            offer: not viewed              0.0   \n",
       "306515         168.0                 offer:viewed              0.0   \n",
       "306523         168.0                 offer:viewed              0.0   \n",
       "306529         120.0            offer: not viewed              0.0   \n",
       "\n",
       "       active_offers  category  \n",
       "306504                       0  \n",
       "306508                       0  \n",
       "306515                       0  \n",
       "306523                       0  \n",
       "306529                       0  "
      ]
     },
     "execution_count": 562,
     "metadata": {},
     "output_type": "execute_result"
    }
   ],
   "source": [
    "# Categorization of offer completion into offer-viewed and offer-not-viewed\n",
    "transcript_unpacked[transcript_unpacked['event']=='offer completed'].tail(5)"
   ]
  },
  {
   "cell_type": "code",
   "execution_count": 563,
   "id": "f6cf4153",
   "metadata": {},
   "outputs": [
    {
     "data": {
      "text/plain": [
       "6244"
      ]
     },
     "execution_count": 563,
     "metadata": {},
     "output_type": "execute_result"
    }
   ],
   "source": [
    "# Total count of offer completions which happened without offer viewing\n",
    "transcript_unpacked[transcript_unpacked['completiontype']=='offer: not viewed'].shape[0]"
   ]
  },
  {
   "cell_type": "code",
   "execution_count": 564,
   "id": "3c9431b7",
   "metadata": {},
   "outputs": [
    {
     "data": {
      "text/plain": [
       "31091.0"
      ]
     },
     "execution_count": 564,
     "metadata": {},
     "output_type": "execute_result"
    }
   ],
   "source": [
    "# Total value of reward paid on offer completions which happened without offer viewing\n",
    "transcript_unpacked[transcript_unpacked['completiontype']=='offer: not viewed']['reward'].sum()"
   ]
  },
  {
   "cell_type": "markdown",
   "id": "3c030991",
   "metadata": {},
   "source": [
    "Multiple Active Offers"
   ]
  },
  {
   "cell_type": "code",
   "execution_count": 565,
   "id": "7df77b68",
   "metadata": {},
   "outputs": [
    {
     "data": {
      "text/plain": [
       "8601"
      ]
     },
     "execution_count": 565,
     "metadata": {},
     "output_type": "execute_result"
    }
   ],
   "source": [
    "# Total number of cases with 2+ active offers\n",
    "transcript_unpacked[transcript_unpacked['active_offers']=='2+'].shape[0]"
   ]
  },
  {
   "cell_type": "code",
   "execution_count": 566,
   "id": "f5aa28c0",
   "metadata": {},
   "outputs": [
    {
     "data": {
      "text/plain": [
       "4895"
      ]
     },
     "execution_count": 566,
     "metadata": {},
     "output_type": "execute_result"
    }
   ],
   "source": [
    "# Total number of offer completions from multiple active offers which were double counted\n",
    "transcript_unpacked[(transcript_unpacked['event']=='offer completed') & (transcript_unpacked['completiontype']==\"\")].shape[0]"
   ]
  },
  {
   "cell_type": "code",
   "execution_count": 567,
   "id": "bbffbc88",
   "metadata": {},
   "outputs": [
    {
     "data": {
      "text/plain": [
       "21606.0"
      ]
     },
     "execution_count": 567,
     "metadata": {},
     "output_type": "execute_result"
    }
   ],
   "source": [
    "# Total value  of reward paid on double counted completions\n",
    "transcript_unpacked[(transcript_unpacked['event']=='offer completed') & (transcript_unpacked['completiontype']==\"\")]['reward'].sum()"
   ]
  }
 ],
 "metadata": {
  "kernelspec": {
   "display_name": "Python 3",
   "language": "python",
   "name": "python3"
  },
  "language_info": {
   "codemirror_mode": {
    "name": "ipython",
    "version": 3
   },
   "file_extension": ".py",
   "mimetype": "text/x-python",
   "name": "python",
   "nbconvert_exporter": "python",
   "pygments_lexer": "ipython3",
   "version": "3.8.5"
  }
 },
 "nbformat": 4,
 "nbformat_minor": 5
}
